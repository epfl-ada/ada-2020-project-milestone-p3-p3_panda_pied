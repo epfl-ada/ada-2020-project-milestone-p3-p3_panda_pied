{
 "cells": [
  {
   "cell_type": "markdown",
   "metadata": {},
   "source": [
    "# Project 2: Republication report "
   ]
  },
  {
   "cell_type": "markdown",
   "metadata": {},
   "source": [
    "## Introduction"
   ]
  },
  {
   "cell_type": "markdown",
   "metadata": {},
   "source": [
    "In this project, we attempt replicating the figure 2.a from the article \"Friendship and Mobility: User Movement in Location-Based Social Networks \". The figure represents the relation between the probability of friendship and the distance between their houses. To replicate it, we will first find the position of the houses of each user by using the method described in the article and then assign a distance between each user and his friends. Finally, we will be able to calculate the probability of occurrence for all the distance and replicate the figure. More details are provided in the following sections. The article can be found at this address: https://drive.google.com/drive/folders/1QRoC6DAMoD_BxJ6KPMdijBRTDUYhoVfG?usp=sharing"
   ]
  },
  {
   "cell_type": "markdown",
   "metadata": {},
   "source": [
    "## Importing packages"
   ]
  },
  {
   "cell_type": "code",
   "execution_count": 1,
   "metadata": {},
   "outputs": [
    {
     "name": "stderr",
     "output_type": "stream",
     "text": [
      "/home/afalsafi/.local/lib/python3.8/site-packages/geopandas/_compat.py:84: UserWarning: The Shapely GEOS version (3.8.0-CAPI-1.13.1 ) is incompatible with the GEOS version PyGEOS was compiled with (3.8.1-CAPI-1.13.3). Conversions between both will be slow.\n",
      "  warnings.warn(\n"
     ]
    },
    {
     "name": "stdout",
     "output_type": "stream",
     "text": [
      "INFO: Pandarallel will run on 23 workers.\n",
      "INFO: Pandarallel will use Memory file system to transfer data between the main process and workers.\n"
     ]
    }
   ],
   "source": [
    "import numpy as np\n",
    "import pandas as pd\n",
    "import matplotlib.pyplot as plt # needed for plotting\n",
    "import geopandas as gpd # for Geo-location filtering\n",
    "from netCDF4 import Dataset as nc  # for loading standard climate date format (nc extension)\n",
    "import netCDF4 # for loading standard climate date format (nc extension)\n",
    "import xarray as xr # for handling climate data\n",
    "from pandarallel import pandarallel # for running pandas functions in parallel\n",
    "import multiprocessing # for general parallelizing of codes\n",
    "import tqdm # for having progres bar\n",
    "from functools import partial # for full control over handling function arguemnts\n",
    "pandarallel.initialize(nb_workers=multiprocessing.cpu_count()-1)"
   ]
  },
  {
   "cell_type": "markdown",
   "metadata": {},
   "source": [
    "## Loading the data"
   ]
  },
  {
   "cell_type": "code",
   "execution_count": 2,
   "metadata": {},
   "outputs": [],
   "source": [
    "# Data of two set of data\n",
    "DATA_FOLDER = 'Data/'\n",
    "\n",
    "INP_FOLDER = 'InputData/'\n",
    "\n",
    "# Friendship undirected network users and Time and location information of check-ins made by users\n",
    "\n",
    "#Brightkite\n",
    "BRIGHT_NETWORK_DATASET = DATA_FOLDER + \"Brightkite_edges.txt.gz\"\n",
    "BRIGHT_CHECKIN_TIME_LOCATION_DATASET = DATA_FOLDER + \"Brightkite_totalCheckins.txt.gz\"\n",
    "\n",
    "#Gowalla\n",
    "GOWALLA_NETWORK_DATASET = DATA_FOLDER + \"Gowalla_edges.txt.gz\"\n",
    "GOWALLA_CHECKIN_TIME_LOCATION_DATASET = DATA_FOLDER + \"Gowalla_totalCheckins.txt.gz\"\n",
    "\n",
    "# loading all the data set\n",
    "b_network_df = pd.read_csv(BRIGHT_NETWORK_DATASET, delimiter=\"\\t\",\n",
    "                                    error_bad_lines =False, header = 0 )\n",
    "b_checkin_df = pd.read_csv(BRIGHT_CHECKIN_TIME_LOCATION_DATASET, delimiter=\"\\t\",\n",
    "                                       error_bad_lines =False, header = 0 )\n",
    "g_network_df = pd.read_csv(GOWALLA_NETWORK_DATASET, delimiter = \"\\t\",header = None)\n",
    "g_checkin_df = pd.read_csv(GOWALLA_CHECKIN_TIME_LOCATION_DATASET, delimiter = \"\\t\",header = None)"
   ]
  },
  {
   "cell_type": "code",
   "execution_count": 3,
   "metadata": {},
   "outputs": [],
   "source": [
    "#Set up the header \n",
    "NETWORK_COLUMNS = ['user','friend_edge']\n",
    "CHECKIN_COLUMNS = ['user','checkin_time','latitude','longitude','location_id']"
   ]
  },
  {
   "cell_type": "code",
   "execution_count": 4,
   "metadata": {},
   "outputs": [],
   "source": [
    "#Rename the columns\n",
    "\n",
    "b_network_df.columns = NETWORK_COLUMNS\n",
    "b_checkin_df.columns = CHECKIN_COLUMNS\n",
    "g_network_df.columns = NETWORK_COLUMNS\n",
    "g_checkin_df.columns = CHECKIN_COLUMNS"
   ]
  },
  {
   "cell_type": "code",
   "execution_count": 5,
   "metadata": {},
   "outputs": [
    {
     "data": {
      "text/html": [
       "<div>\n",
       "<style scoped>\n",
       "    .dataframe tbody tr th:only-of-type {\n",
       "        vertical-align: middle;\n",
       "    }\n",
       "\n",
       "    .dataframe tbody tr th {\n",
       "        vertical-align: top;\n",
       "    }\n",
       "\n",
       "    .dataframe thead th {\n",
       "        text-align: right;\n",
       "    }\n",
       "</style>\n",
       "<table border=\"1\" class=\"dataframe\">\n",
       "  <thead>\n",
       "    <tr style=\"text-align: right;\">\n",
       "      <th></th>\n",
       "      <th>user</th>\n",
       "      <th>friend_edge</th>\n",
       "    </tr>\n",
       "  </thead>\n",
       "  <tbody>\n",
       "    <tr>\n",
       "      <th>269163</th>\n",
       "      <td>13880</td>\n",
       "      <td>760</td>\n",
       "    </tr>\n",
       "    <tr>\n",
       "      <th>233169</th>\n",
       "      <td>10665</td>\n",
       "      <td>10777</td>\n",
       "    </tr>\n",
       "    <tr>\n",
       "      <th>283469</th>\n",
       "      <td>15342</td>\n",
       "      <td>7710</td>\n",
       "    </tr>\n",
       "  </tbody>\n",
       "</table>\n",
       "</div>"
      ],
      "text/plain": [
       "         user  friend_edge\n",
       "269163  13880          760\n",
       "233169  10665        10777\n",
       "283469  15342         7710"
      ]
     },
     "execution_count": 5,
     "metadata": {},
     "output_type": "execute_result"
    }
   ],
   "source": [
    "b_network_df.sample(3)"
   ]
  },
  {
   "cell_type": "code",
   "execution_count": 6,
   "metadata": {},
   "outputs": [
    {
     "data": {
      "text/html": [
       "<div>\n",
       "<style scoped>\n",
       "    .dataframe tbody tr th:only-of-type {\n",
       "        vertical-align: middle;\n",
       "    }\n",
       "\n",
       "    .dataframe tbody tr th {\n",
       "        vertical-align: top;\n",
       "    }\n",
       "\n",
       "    .dataframe thead th {\n",
       "        text-align: right;\n",
       "    }\n",
       "</style>\n",
       "<table border=\"1\" class=\"dataframe\">\n",
       "  <thead>\n",
       "    <tr style=\"text-align: right;\">\n",
       "      <th></th>\n",
       "      <th>user</th>\n",
       "      <th>checkin_time</th>\n",
       "      <th>latitude</th>\n",
       "      <th>longitude</th>\n",
       "      <th>location_id</th>\n",
       "    </tr>\n",
       "  </thead>\n",
       "  <tbody>\n",
       "    <tr>\n",
       "      <th>359197</th>\n",
       "      <td>721</td>\n",
       "      <td>2009-07-10T02:48:16Z</td>\n",
       "      <td>37.444825</td>\n",
       "      <td>-122.161383</td>\n",
       "      <td>930877426ce511de9a23003048c10834</td>\n",
       "    </tr>\n",
       "    <tr>\n",
       "      <th>876389</th>\n",
       "      <td>2611</td>\n",
       "      <td>2008-06-19T16:53:08Z</td>\n",
       "      <td>35.994033</td>\n",
       "      <td>-78.898619</td>\n",
       "      <td>ec215acea22411ddae3c9b54cfc40101</td>\n",
       "    </tr>\n",
       "    <tr>\n",
       "      <th>1528328</th>\n",
       "      <td>6225</td>\n",
       "      <td>2009-07-09T14:27:45Z</td>\n",
       "      <td>51.474005</td>\n",
       "      <td>-0.206921</td>\n",
       "      <td>498386066c8c11deb236003048c10834</td>\n",
       "    </tr>\n",
       "  </tbody>\n",
       "</table>\n",
       "</div>"
      ],
      "text/plain": [
       "         user          checkin_time   latitude   longitude  \\\n",
       "359197    721  2009-07-10T02:48:16Z  37.444825 -122.161383   \n",
       "876389   2611  2008-06-19T16:53:08Z  35.994033  -78.898619   \n",
       "1528328  6225  2009-07-09T14:27:45Z  51.474005   -0.206921   \n",
       "\n",
       "                              location_id  \n",
       "359197   930877426ce511de9a23003048c10834  \n",
       "876389   ec215acea22411ddae3c9b54cfc40101  \n",
       "1528328  498386066c8c11deb236003048c10834  "
      ]
     },
     "execution_count": 6,
     "metadata": {},
     "output_type": "execute_result"
    }
   ],
   "source": [
    "b_checkin_df.sample(3)"
   ]
  },
  {
   "cell_type": "code",
   "execution_count": 7,
   "metadata": {},
   "outputs": [
    {
     "data": {
      "text/html": [
       "<div>\n",
       "<style scoped>\n",
       "    .dataframe tbody tr th:only-of-type {\n",
       "        vertical-align: middle;\n",
       "    }\n",
       "\n",
       "    .dataframe tbody tr th {\n",
       "        vertical-align: top;\n",
       "    }\n",
       "\n",
       "    .dataframe thead th {\n",
       "        text-align: right;\n",
       "    }\n",
       "</style>\n",
       "<table border=\"1\" class=\"dataframe\">\n",
       "  <thead>\n",
       "    <tr style=\"text-align: right;\">\n",
       "      <th></th>\n",
       "      <th>user</th>\n",
       "      <th>friend_edge</th>\n",
       "    </tr>\n",
       "  </thead>\n",
       "  <tbody>\n",
       "    <tr>\n",
       "      <th>252840</th>\n",
       "      <td>2572</td>\n",
       "      <td>4370</td>\n",
       "    </tr>\n",
       "    <tr>\n",
       "      <th>1856037</th>\n",
       "      <td>173776</td>\n",
       "      <td>104290</td>\n",
       "    </tr>\n",
       "    <tr>\n",
       "      <th>194258</th>\n",
       "      <td>1821</td>\n",
       "      <td>54042</td>\n",
       "    </tr>\n",
       "  </tbody>\n",
       "</table>\n",
       "</div>"
      ],
      "text/plain": [
       "           user  friend_edge\n",
       "252840     2572         4370\n",
       "1856037  173776       104290\n",
       "194258     1821        54042"
      ]
     },
     "execution_count": 7,
     "metadata": {},
     "output_type": "execute_result"
    }
   ],
   "source": [
    "g_network_df.sample(3)"
   ]
  },
  {
   "cell_type": "code",
   "execution_count": 8,
   "metadata": {},
   "outputs": [
    {
     "data": {
      "text/html": [
       "<div>\n",
       "<style scoped>\n",
       "    .dataframe tbody tr th:only-of-type {\n",
       "        vertical-align: middle;\n",
       "    }\n",
       "\n",
       "    .dataframe tbody tr th {\n",
       "        vertical-align: top;\n",
       "    }\n",
       "\n",
       "    .dataframe thead th {\n",
       "        text-align: right;\n",
       "    }\n",
       "</style>\n",
       "<table border=\"1\" class=\"dataframe\">\n",
       "  <thead>\n",
       "    <tr style=\"text-align: right;\">\n",
       "      <th></th>\n",
       "      <th>user</th>\n",
       "      <th>checkin_time</th>\n",
       "      <th>latitude</th>\n",
       "      <th>longitude</th>\n",
       "      <th>location_id</th>\n",
       "    </tr>\n",
       "  </thead>\n",
       "  <tbody>\n",
       "    <tr>\n",
       "      <th>37504</th>\n",
       "      <td>158</td>\n",
       "      <td>2010-07-30T00:51:17Z</td>\n",
       "      <td>37.377049</td>\n",
       "      <td>-122.076223</td>\n",
       "      <td>239576</td>\n",
       "    </tr>\n",
       "    <tr>\n",
       "      <th>1448977</th>\n",
       "      <td>9794</td>\n",
       "      <td>2010-05-19T16:43:54Z</td>\n",
       "      <td>42.298188</td>\n",
       "      <td>-71.421914</td>\n",
       "      <td>403278</td>\n",
       "    </tr>\n",
       "    <tr>\n",
       "      <th>6260032</th>\n",
       "      <td>175952</td>\n",
       "      <td>2010-10-07T23:18:02Z</td>\n",
       "      <td>18.312317</td>\n",
       "      <td>-66.079829</td>\n",
       "      <td>5107639</td>\n",
       "    </tr>\n",
       "  </tbody>\n",
       "</table>\n",
       "</div>"
      ],
      "text/plain": [
       "           user          checkin_time   latitude   longitude  location_id\n",
       "37504       158  2010-07-30T00:51:17Z  37.377049 -122.076223       239576\n",
       "1448977    9794  2010-05-19T16:43:54Z  42.298188  -71.421914       403278\n",
       "6260032  175952  2010-10-07T23:18:02Z  18.312317  -66.079829      5107639"
      ]
     },
     "execution_count": 8,
     "metadata": {},
     "output_type": "execute_result"
    }
   ],
   "source": [
    "g_checkin_df.sample(3)"
   ]
  },
  {
   "cell_type": "markdown",
   "metadata": {},
   "source": [
    "---------------------------"
   ]
  },
  {
   "cell_type": "markdown",
   "metadata": {},
   "source": [
    "## Pre-process"
   ]
  },
  {
   "cell_type": "markdown",
   "metadata": {},
   "source": [
    "At first, before starting our recollection, we need to pre-process our dataset. So, we can begin by counting all the null values and remove them if necessary. We also want the latitude and longitude to be respectively in the interval [-90,90] and [-180,180]."
   ]
  },
  {
   "cell_type": "code",
   "execution_count": 9,
   "metadata": {},
   "outputs": [
    {
     "data": {
      "text/plain": [
       "user            0\n",
       "checkin_time    0\n",
       "latitude        0\n",
       "longitude       0\n",
       "location_id     0\n",
       "dtype: int64"
      ]
     },
     "execution_count": 9,
     "metadata": {},
     "output_type": "execute_result"
    }
   ],
   "source": [
    "g_checkin_df.isnull().sum()"
   ]
  },
  {
   "cell_type": "code",
   "execution_count": 10,
   "metadata": {},
   "outputs": [
    {
     "data": {
      "text/plain": [
       "user            0\n",
       "checkin_time    6\n",
       "latitude        6\n",
       "longitude       6\n",
       "location_id     6\n",
       "dtype: int64"
      ]
     },
     "execution_count": 10,
     "metadata": {},
     "output_type": "execute_result"
    }
   ],
   "source": [
    "b_checkin_df.isnull().sum()"
   ]
  },
  {
   "cell_type": "code",
   "execution_count": 11,
   "metadata": {},
   "outputs": [],
   "source": [
    "'''Cleaning the data'''\n",
    "\n",
    "# locate rows with NaN\n",
    "rows_with_NaN_b = b_checkin_df.loc[(b_checkin_df['latitude'].isna() == True)]\n",
    "rows_with_NaN_g = g_checkin_df.loc[(g_checkin_df['latitude'].isna() == True)]\n",
    "\n",
    "# locate rows that are not in those interval : -90 < Latitude < 90 and -180 < Longitude < 180\n",
    "\n",
    "# latitude\n",
    "lat_to_removed_b = b_checkin_df.loc[(b_checkin_df['latitude'] > 90) | (b_checkin_df['latitude'] < -90)]\n",
    "lat_to_removed_g = g_checkin_df.loc[(g_checkin_df['latitude'] > 90) | (g_checkin_df['latitude'] < -90)]\n",
    "\n",
    "# longitude\n",
    "long_to_removed_b = b_checkin_df.loc[(b_checkin_df['longitude'] > 180) | (b_checkin_df['longitude'] < -180)]\n",
    "long_to_removed_g = g_checkin_df.loc[(g_checkin_df['longitude'] > 180) | (g_checkin_df['longitude'] < -180)]\n",
    "\n",
    "# Dropping all the rows\n",
    "\n",
    "# Brightkite\n",
    "b_checkin_df = b_checkin_df.drop(rows_with_NaN_b.index)\n",
    "b_checkin_df = b_checkin_df.drop(lat_to_removed_b.index)\n",
    "b_checkin_df = b_checkin_df.drop(long_to_removed_b.index)\n",
    "\n",
    "#see bellow\n",
    "b_checkin_df = b_checkin_df.drop(b_checkin_df[b_checkin_df['location_id'] == '00000000000000000000000000000000'].index)\n",
    "\n",
    "# Gowalla\n",
    "g_checkin_df = g_checkin_df.drop(rows_with_NaN_g.index)\n",
    "g_checkin_df = g_checkin_df.drop(lat_to_removed_g.index)\n",
    "g_checkin_df = g_checkin_df.drop(long_to_removed_g.index)"
   ]
  },
  {
   "cell_type": "markdown",
   "metadata": {},
   "source": [
    "Note that some weird values were spotted for the bright kite dataset on the position (0,0) with a \"location_id\" equal to \" 00000...0000 \". As quoted on page 1083 of our article: \" The total number of check-ins for Gowalla is 6.4 million and 4.5 million for Brightkite. \" So to be more consistent with those numbers we decide to also remove them. We can now show the shape of our two datasets."
   ]
  },
  {
   "cell_type": "code",
   "execution_count": 12,
   "metadata": {},
   "outputs": [
    {
     "name": "stdout",
     "output_type": "stream",
     "text": [
      "The total number of check-ins for Gowalla : 6442863\n",
      "The total number of check-ins for Brightkite : 4492552\n"
     ]
    }
   ],
   "source": [
    "# Number of the check-ins used in the recollection \n",
    "print('The total number of check-ins for Gowalla :',g_checkin_df.shape[0])\n",
    "print('The total number of check-ins for Brightkite :',b_checkin_df.shape[0])"
   ]
  },
  {
   "cell_type": "markdown",
   "metadata": {},
   "source": [
    "-------------------------------------------------------------------------"
   ]
  },
  {
   "cell_type": "markdown",
   "metadata": {},
   "source": [
    "## Data Recollection "
   ]
  },
  {
   "cell_type": "markdown",
   "metadata": {},
   "source": [
    "### Classing every check-ins in cells of 25x25 km \n",
    "In the next two sections, we will provide more details on the method described in the paper.\n",
    "So, we begin by classing every check-in in a grid of 25x25 km over the world. One way of classing into cells is to perform euclidean division by 25 on both latitude and longitude. Then we can use the quotient of those divisions to identify our cells.\n",
    "As we have two dimensions, we find two sets of intervals ( one on latitude and one on longitude) with the origin of the gird on (0,0). Both sets can be either positive or negative to map all the four earth's dial. Thus, two \"check-ins\" with the same latitude and longitude intervals will be classified in the same cell. Note that to do a euclidean division by 25 km, we need to transform all latitudes and longitudes into kilometers and take into account the distortion of the earth. This is performed by two functions which follow the formula from this website :\n",
    "https://stackoverflow.com/questions/1253499/simple-calculations-for-working-with-lat-lon-and-km-distance"
   ]
  },
  {
   "cell_type": "code",
   "execution_count": 13,
   "metadata": {},
   "outputs": [],
   "source": [
    "def lat_degree_to_km(latitude):\n",
    "    '''\n",
    "    Input : Latitude in degree\n",
    "    Output : Latitude in km\n",
    "    \n",
    "    '''\n",
    "    return latitude * 110.574\n",
    "    "
   ]
  },
  {
   "cell_type": "code",
   "execution_count": 14,
   "metadata": {},
   "outputs": [],
   "source": [
    "def long_degree_to_km(latitude,longitude):\n",
    "    '''\n",
    "    Input : Longitude , Latitude in degree\n",
    "    Output : Longitude in km  \n",
    "    \n",
    "    '''\n",
    "    return 111.320 * np.cos((latitude * np.pi) / 180) * longitude"
   ]
  },
  {
   "cell_type": "code",
   "execution_count": 15,
   "metadata": {},
   "outputs": [],
   "source": [
    "def classing_into_cells(g_checkin_df):\n",
    "    '''\n",
    "    Input : the time and location information of check-ins made by users\n",
    "    Output : check-in dataset classified by cells\n",
    "    \n",
    "    '''\n",
    "    # Creation of columns regrouping km for longitude and latitude with the two function see above\n",
    "    \n",
    "    g_checkin_df['lat_km'] = lat_degree_to_km(g_checkin_df['latitude']) \n",
    "    g_checkin_df['long_km'] = long_degree_to_km(g_checkin_df['latitude'],g_checkin_df['longitude'])\n",
    "    \n",
    "    # creation of cells with size 25 x 25 km represented by two sets of intervals int_longitude and int_latitude. \n",
    "    # By taking those two together we can build a grid with an origin at (0,0)\n",
    "    # Note that when the interval is transfering from float to int he takes the floor number for \n",
    "    # positive number and the ceil number for the negative interval, that's what we want .\n",
    "    \n",
    "    g_checkin_df['int_lat'] = (g_checkin_df['lat_km'] / 25).astype(int)\n",
    "    g_checkin_df['int_long'] = (g_checkin_df['long_km'] / 25).astype(int)\n",
    "    \n",
    "    return g_checkin_df"
   ]
  },
  {
   "cell_type": "code",
   "execution_count": 16,
   "metadata": {},
   "outputs": [],
   "source": [
    "g_checkin_df = classing_into_cells(g_checkin_df)\n",
    "b_checkin_df = classing_into_cells(b_checkin_df)"
   ]
  },
  {
   "cell_type": "code",
   "execution_count": 17,
   "metadata": {},
   "outputs": [
    {
     "data": {
      "text/html": [
       "<div>\n",
       "<style scoped>\n",
       "    .dataframe tbody tr th:only-of-type {\n",
       "        vertical-align: middle;\n",
       "    }\n",
       "\n",
       "    .dataframe tbody tr th {\n",
       "        vertical-align: top;\n",
       "    }\n",
       "\n",
       "    .dataframe thead th {\n",
       "        text-align: right;\n",
       "    }\n",
       "</style>\n",
       "<table border=\"1\" class=\"dataframe\">\n",
       "  <thead>\n",
       "    <tr style=\"text-align: right;\">\n",
       "      <th></th>\n",
       "      <th>user</th>\n",
       "      <th>checkin_time</th>\n",
       "      <th>latitude</th>\n",
       "      <th>longitude</th>\n",
       "      <th>location_id</th>\n",
       "      <th>lat_km</th>\n",
       "      <th>long_km</th>\n",
       "      <th>int_lat</th>\n",
       "      <th>int_long</th>\n",
       "    </tr>\n",
       "  </thead>\n",
       "  <tbody>\n",
       "    <tr>\n",
       "      <th>1965344</th>\n",
       "      <td>16596</td>\n",
       "      <td>2010-08-30T16:47:41Z</td>\n",
       "      <td>59.364421</td>\n",
       "      <td>17.880710</td>\n",
       "      <td>408236</td>\n",
       "      <td>6564.161515</td>\n",
       "      <td>1014.300803</td>\n",
       "      <td>262</td>\n",
       "      <td>40</td>\n",
       "    </tr>\n",
       "    <tr>\n",
       "      <th>927165</th>\n",
       "      <td>4216</td>\n",
       "      <td>2010-09-18T18:58:40Z</td>\n",
       "      <td>30.266891</td>\n",
       "      <td>-97.745686</td>\n",
       "      <td>9223</td>\n",
       "      <td>3346.731165</td>\n",
       "      <td>-9397.820744</td>\n",
       "      <td>133</td>\n",
       "      <td>-375</td>\n",
       "    </tr>\n",
       "    <tr>\n",
       "      <th>2921719</th>\n",
       "      <td>36701</td>\n",
       "      <td>2010-06-08T18:01:00Z</td>\n",
       "      <td>33.019745</td>\n",
       "      <td>-96.700408</td>\n",
       "      <td>72878</td>\n",
       "      <td>3651.125278</td>\n",
       "      <td>-9026.007183</td>\n",
       "      <td>146</td>\n",
       "      <td>-361</td>\n",
       "    </tr>\n",
       "  </tbody>\n",
       "</table>\n",
       "</div>"
      ],
      "text/plain": [
       "          user          checkin_time   latitude  longitude  location_id  \\\n",
       "1965344  16596  2010-08-30T16:47:41Z  59.364421  17.880710       408236   \n",
       "927165    4216  2010-09-18T18:58:40Z  30.266891 -97.745686         9223   \n",
       "2921719  36701  2010-06-08T18:01:00Z  33.019745 -96.700408        72878   \n",
       "\n",
       "              lat_km      long_km  int_lat  int_long  \n",
       "1965344  6564.161515  1014.300803      262        40  \n",
       "927165   3346.731165 -9397.820744      133      -375  \n",
       "2921719  3651.125278 -9026.007183      146      -361  "
      ]
     },
     "execution_count": 17,
     "metadata": {},
     "output_type": "execute_result"
    }
   ],
   "source": [
    "g_checkin_df.sample(3)"
   ]
  },
  {
   "cell_type": "code",
   "execution_count": 18,
   "metadata": {},
   "outputs": [
    {
     "data": {
      "text/html": [
       "<div>\n",
       "<style scoped>\n",
       "    .dataframe tbody tr th:only-of-type {\n",
       "        vertical-align: middle;\n",
       "    }\n",
       "\n",
       "    .dataframe tbody tr th {\n",
       "        vertical-align: top;\n",
       "    }\n",
       "\n",
       "    .dataframe thead th {\n",
       "        text-align: right;\n",
       "    }\n",
       "</style>\n",
       "<table border=\"1\" class=\"dataframe\">\n",
       "  <thead>\n",
       "    <tr style=\"text-align: right;\">\n",
       "      <th></th>\n",
       "      <th>user</th>\n",
       "      <th>checkin_time</th>\n",
       "      <th>latitude</th>\n",
       "      <th>longitude</th>\n",
       "      <th>location_id</th>\n",
       "      <th>lat_km</th>\n",
       "      <th>long_km</th>\n",
       "      <th>int_lat</th>\n",
       "      <th>int_long</th>\n",
       "    </tr>\n",
       "  </thead>\n",
       "  <tbody>\n",
       "    <tr>\n",
       "      <th>996876</th>\n",
       "      <td>2902</td>\n",
       "      <td>2010-01-04T04:21:20Z</td>\n",
       "      <td>35.664619</td>\n",
       "      <td>139.731586</td>\n",
       "      <td>388a0e0d5f3c9c758d3b7d21262b916e</td>\n",
       "      <td>3943.579581</td>\n",
       "      <td>12637.497154</td>\n",
       "      <td>157</td>\n",
       "      <td>505</td>\n",
       "    </tr>\n",
       "    <tr>\n",
       "      <th>100190</th>\n",
       "      <td>163</td>\n",
       "      <td>2008-10-19T01:46:49Z</td>\n",
       "      <td>37.977978</td>\n",
       "      <td>-122.031073</td>\n",
       "      <td>ee6dfa4ea22411ddb437d387fe6e2755</td>\n",
       "      <td>4199.376939</td>\n",
       "      <td>-10707.945087</td>\n",
       "      <td>167</td>\n",
       "      <td>-428</td>\n",
       "    </tr>\n",
       "    <tr>\n",
       "      <th>3594965</th>\n",
       "      <td>19750</td>\n",
       "      <td>2008-07-02T05:28:16Z</td>\n",
       "      <td>43.700114</td>\n",
       "      <td>-79.416304</td>\n",
       "      <td>ef30fa30a22411ddaa4273c6ec231196</td>\n",
       "      <td>4832.096405</td>\n",
       "      <td>-6391.467798</td>\n",
       "      <td>193</td>\n",
       "      <td>-255</td>\n",
       "    </tr>\n",
       "  </tbody>\n",
       "</table>\n",
       "</div>"
      ],
      "text/plain": [
       "          user          checkin_time   latitude   longitude  \\\n",
       "996876    2902  2010-01-04T04:21:20Z  35.664619  139.731586   \n",
       "100190     163  2008-10-19T01:46:49Z  37.977978 -122.031073   \n",
       "3594965  19750  2008-07-02T05:28:16Z  43.700114  -79.416304   \n",
       "\n",
       "                              location_id       lat_km       long_km  int_lat  \\\n",
       "996876   388a0e0d5f3c9c758d3b7d21262b916e  3943.579581  12637.497154      157   \n",
       "100190   ee6dfa4ea22411ddb437d387fe6e2755  4199.376939 -10707.945087      167   \n",
       "3594965  ef30fa30a22411ddaa4273c6ec231196  4832.096405  -6391.467798      193   \n",
       "\n",
       "         int_long  \n",
       "996876        505  \n",
       "100190       -428  \n",
       "3594965      -255  "
      ]
     },
     "execution_count": 18,
     "metadata": {},
     "output_type": "execute_result"
    }
   ],
   "source": [
    "b_checkin_df.sample(3)"
   ]
  },
  {
   "cell_type": "markdown",
   "metadata": {},
   "source": [
    "-----------------------------------------"
   ]
  },
  {
   "cell_type": "markdown",
   "metadata": {},
   "source": [
    "### Finding the location of the users (latitude, longitude)"
   ]
  },
  {
   "cell_type": "markdown",
   "metadata": {},
   "source": [
    "Now we want to find the location of the user's houses. Thus, we assume that the position of the house of the user will be at the mean of all the check-ins positions (latitude and longitude) appearing in one particular cell.\n",
    "This particular cell is established by analyzing all cells linked to one user and pick the one that has the most number of check-ins in it. The article claims that this method is known to be accurate at 85 %.\n",
    "\n",
    "##### Method:\n",
    "Here, we use the function \"groupby\" to get a new dataset that grouped for each user all his check-ins by cells by counting how many rows appear to have the same \"int_lat\", \"int_long\" and \"user\". So then, we can sort all counts by users to take only the top one with the highest number of check-ins. We merge this dataset to the one classified by cells. Then, by comparing all check-ins cells and the previous result we can find the rows representing the cell with the most check-ins. Finally, the location of the house will be the average position of all the check-ins contained in this particular cell. \n",
    "\n",
    "Note that in the paper \"Friendship and Mobility: User Movement in Location-Based Social Networks\", any information was provided on how to deal with users that had the same number of check-ins on all his cells. For them, we decide to just take the cell located at the top of the user's groupby after sorting it without any further research.\n"
   ]
  },
  {
   "cell_type": "code",
   "execution_count": 19,
   "metadata": {},
   "outputs": [],
   "source": [
    "def find_user_house(g_checkin_df):\n",
    "    '''\n",
    "    Input : check-in dataset classified by cells\n",
    "    Output : dataset link each user's with his house location (latitude, longitude)\n",
    "    \n",
    "    '''\n",
    "    # finding intervals that has the highest number of check-ins in it\n",
    "    \n",
    "    int_house_users = g_checkin_df.groupby(['user','int_lat','int_long']).count()\n",
    "    int_house_users = int_house_users['checkin_time'].sort_values(\n",
    "        ascending = False).groupby(level = 0).head(1).reset_index()\n",
    "    int_house_users = int_house_users.rename(\n",
    "        {'int_lat' : 'house_int_latitude','int_long' : 'house_int_longitude'},\n",
    "        axis = \"columns\")\n",
    "    \n",
    "    # finding all the check-ins made in those intervals (cells)\n",
    "    \n",
    "    house_users = g_checkin_df.merge(int_house_users,\n",
    "                    left_on = ['user'],\n",
    "                    right_on = ['user'])\n",
    "    \n",
    "    house_users = house_users.loc[(house_users['int_lat'] == house_users['house_int_latitude'])\n",
    "                            & (house_users['int_long'] == house_users['house_int_longitude'])]\n",
    "    \n",
    "    #finding latitude and longitude of the user's house.\n",
    "    \n",
    "    houses = house_users.groupby(['user']).mean()[['latitude','longitude']].rename(\n",
    "        { 'latitude':'user_house_lat' ,'longitude':'user_house_long'},\n",
    "        axis = \"columns\")\n",
    "    return houses"
   ]
  },
  {
   "cell_type": "code",
   "execution_count": 20,
   "metadata": {},
   "outputs": [],
   "source": [
    "houses_gowalla = find_user_house(g_checkin_df)\n",
    "houses_bright = find_user_house(b_checkin_df)"
   ]
  },
  {
   "cell_type": "markdown",
   "metadata": {},
   "source": [
    "----------------------"
   ]
  },
  {
   "cell_type": "markdown",
   "metadata": {},
   "source": [
    "### Matching the houses of the users and their friends "
   ]
  },
  {
   "cell_type": "markdown",
   "metadata": {},
   "source": [
    "By using the result from the last section, we have at our disposal two data set which maps all users with the location of their houses. In addition to this, we also have the two Friendship undirected network initially provided. As stated in the introduction, our goal is to find the distance between each user and his friends. In order to do that we match the two networks (\"g_network_df\" and \"b_network_df\") with both the location of their user's houses and the location of the friend's houses in one dataset. Then, we can calculate the distance for each row by the following method of the sinus:\n",
    "http://villemin.gerard.free.fr/aGeograp/Distance.htm"
   ]
  },
  {
   "cell_type": "code",
   "execution_count": 21,
   "metadata": {},
   "outputs": [],
   "source": [
    "def dist_km(Lat_start,Long_start,Lat_end,Long_end):\n",
    "    '''\n",
    "    Input : latitude and longitude of a point A and B\n",
    "    Output : Distance between A and B\n",
    "    \n",
    "    '''\n",
    "    # Calcul with the method of sinus\n",
    "    distance_km = np.arccos(np.sin(np.pi * Lat_start / 180.0) * np.sin(np.pi * Lat_end / 180.0) \\\n",
    "                          + np.cos(np.pi * Lat_start / 180.0) * np.cos(np.pi * Lat_end / 180.0) \\\n",
    "                            * np.cos(np.pi * Long_start / 180.0 - np.pi * Long_end / 180.0)) * 6371\n",
    "    return distance_km"
   ]
  },
  {
   "cell_type": "code",
   "execution_count": 22,
   "metadata": {},
   "outputs": [],
   "source": [
    "def matching_user_friend(houses,network_df):\n",
    "    '''  \n",
    "    \n",
    "    Input: two dataset one containing the dataset which link each user's with his house location (latitude, longitude)\n",
    "    and one other containing the friendship network of users\n",
    "    Output: one dataset with the location of both users and their friends and with the distance linking the both houses\n",
    "    \n",
    "    '''\n",
    "    \n",
    "    # merge the location of the friends houses to the network data set\n",
    "    \n",
    "    friend_house_location = houses.reset_index().rename({'user':'friend_edge'},axis = 'columns')\n",
    "    friend_house_location = network_df.merge(friend_house_location,\n",
    "                                           on = 'friend_edge').rename(\n",
    "        {'user_house_lat' : 'friend_house_lat','user_house_long' : 'friend_house_long'},\n",
    "        axis = \"columns\")\n",
    "    \n",
    "    # merge the location of the users houses to this same dataset\n",
    "\n",
    "    network_houses_locations_df = friend_house_location.merge(houses, on ='user')\n",
    "    \n",
    "    # calculate the distance between each users and their friends\n",
    "    \n",
    "    network_houses_locations_df['dist_btw_user_friend'] = dist_km(network_houses_locations_df['user_house_lat'],\n",
    "                                                                  network_houses_locations_df['user_house_long']\n",
    "                                                              ,network_houses_locations_df['friend_house_lat'],\n",
    "                                                                  network_houses_locations_df['friend_house_long'])\n",
    "    \n",
    "    return network_houses_locations_df"
   ]
  },
  {
   "cell_type": "code",
   "execution_count": 23,
   "metadata": {},
   "outputs": [
    {
     "name": "stderr",
     "output_type": "stream",
     "text": [
      "/home/afalsafi/.local/lib/python3.8/site-packages/pandas/core/series.py:726: RuntimeWarning: invalid value encountered in arccos\n",
      "  result = getattr(ufunc, method)(*inputs, **kwargs)\n"
     ]
    }
   ],
   "source": [
    "g_network_houses_locations_df = matching_user_friend(houses_gowalla, g_network_df)"
   ]
  },
  {
   "cell_type": "code",
   "execution_count": 24,
   "metadata": {},
   "outputs": [
    {
     "name": "stderr",
     "output_type": "stream",
     "text": [
      "/home/afalsafi/.local/lib/python3.8/site-packages/pandas/core/indexing.py:670: SettingWithCopyWarning: \n",
      "A value is trying to be set on a copy of a slice from a DataFrame\n",
      "\n",
      "See the caveats in the documentation: https://pandas.pydata.org/pandas-docs/stable/user_guide/indexing.html#returning-a-view-versus-a-copy\n",
      "  iloc._setitem_with_indexer(indexer, value)\n"
     ]
    }
   ],
   "source": [
    "b_network_houses_locations_df = matching_user_friend(houses_bright,b_network_df) \n",
    "# Here we have an error for the rows that are combining a user and a friend that live in the same cell so\n",
    "# we are simply replacing the Nan values by zero to take those values into account.\n",
    "b_network_houses_locations_df['dist_btw_user_friend'].loc[b_network_houses_locations_df['dist_btw_user_friend'].isna()] = 0"
   ]
  },
  {
   "cell_type": "code",
   "execution_count": 25,
   "metadata": {},
   "outputs": [
    {
     "data": {
      "text/html": [
       "<div>\n",
       "<style scoped>\n",
       "    .dataframe tbody tr th:only-of-type {\n",
       "        vertical-align: middle;\n",
       "    }\n",
       "\n",
       "    .dataframe tbody tr th {\n",
       "        vertical-align: top;\n",
       "    }\n",
       "\n",
       "    .dataframe thead th {\n",
       "        text-align: right;\n",
       "    }\n",
       "</style>\n",
       "<table border=\"1\" class=\"dataframe\">\n",
       "  <thead>\n",
       "    <tr style=\"text-align: right;\">\n",
       "      <th></th>\n",
       "      <th>user</th>\n",
       "      <th>friend_edge</th>\n",
       "      <th>friend_house_lat</th>\n",
       "      <th>friend_house_long</th>\n",
       "      <th>user_house_lat</th>\n",
       "      <th>user_house_long</th>\n",
       "      <th>dist_btw_user_friend</th>\n",
       "    </tr>\n",
       "  </thead>\n",
       "  <tbody>\n",
       "    <tr>\n",
       "      <th>0</th>\n",
       "      <td>0</td>\n",
       "      <td>1</td>\n",
       "      <td>45.202484</td>\n",
       "      <td>-0.746831</td>\n",
       "      <td>30.263544</td>\n",
       "      <td>-97.744633</td>\n",
       "      <td>8176.385471</td>\n",
       "    </tr>\n",
       "    <tr>\n",
       "      <th>1</th>\n",
       "      <td>0</td>\n",
       "      <td>2</td>\n",
       "      <td>34.061224</td>\n",
       "      <td>-118.307591</td>\n",
       "      <td>30.263544</td>\n",
       "      <td>-97.744633</td>\n",
       "      <td>1977.484474</td>\n",
       "    </tr>\n",
       "    <tr>\n",
       "      <th>2</th>\n",
       "      <td>0</td>\n",
       "      <td>4</td>\n",
       "      <td>37.787660</td>\n",
       "      <td>-122.406340</td>\n",
       "      <td>30.263544</td>\n",
       "      <td>-97.744633</td>\n",
       "      <td>2412.983086</td>\n",
       "    </tr>\n",
       "    <tr>\n",
       "      <th>3</th>\n",
       "      <td>0</td>\n",
       "      <td>5</td>\n",
       "      <td>30.274974</td>\n",
       "      <td>-97.726415</td>\n",
       "      <td>30.263544</td>\n",
       "      <td>-97.744633</td>\n",
       "      <td>2.162484</td>\n",
       "    </tr>\n",
       "    <tr>\n",
       "      <th>4</th>\n",
       "      <td>0</td>\n",
       "      <td>7</td>\n",
       "      <td>30.268433</td>\n",
       "      <td>-97.743261</td>\n",
       "      <td>30.263544</td>\n",
       "      <td>-97.744633</td>\n",
       "      <td>0.559443</td>\n",
       "    </tr>\n",
       "    <tr>\n",
       "      <th>...</th>\n",
       "      <td>...</td>\n",
       "      <td>...</td>\n",
       "      <td>...</td>\n",
       "      <td>...</td>\n",
       "      <td>...</td>\n",
       "      <td>...</td>\n",
       "      <td>...</td>\n",
       "    </tr>\n",
       "    <tr>\n",
       "      <th>913655</th>\n",
       "      <td>196480</td>\n",
       "      <td>196478</td>\n",
       "      <td>1.297822</td>\n",
       "      <td>103.849685</td>\n",
       "      <td>1.329142</td>\n",
       "      <td>103.879588</td>\n",
       "      <td>4.814444</td>\n",
       "    </tr>\n",
       "    <tr>\n",
       "      <th>913656</th>\n",
       "      <td>196480</td>\n",
       "      <td>196479</td>\n",
       "      <td>1.384787</td>\n",
       "      <td>103.876391</td>\n",
       "      <td>1.329142</td>\n",
       "      <td>103.879588</td>\n",
       "      <td>6.197671</td>\n",
       "    </tr>\n",
       "    <tr>\n",
       "      <th>913657</th>\n",
       "      <td>196478</td>\n",
       "      <td>196479</td>\n",
       "      <td>1.384787</td>\n",
       "      <td>103.876391</td>\n",
       "      <td>1.297822</td>\n",
       "      <td>103.849685</td>\n",
       "      <td>10.115484</td>\n",
       "    </tr>\n",
       "    <tr>\n",
       "      <th>913658</th>\n",
       "      <td>196478</td>\n",
       "      <td>196480</td>\n",
       "      <td>1.329142</td>\n",
       "      <td>103.879588</td>\n",
       "      <td>1.297822</td>\n",
       "      <td>103.849685</td>\n",
       "      <td>4.814444</td>\n",
       "    </tr>\n",
       "    <tr>\n",
       "      <th>913659</th>\n",
       "      <td>196033</td>\n",
       "      <td>196494</td>\n",
       "      <td>50.455257</td>\n",
       "      <td>3.979299</td>\n",
       "      <td>48.857791</td>\n",
       "      <td>2.399210</td>\n",
       "      <td>210.914049</td>\n",
       "    </tr>\n",
       "  </tbody>\n",
       "</table>\n",
       "<p>913660 rows × 7 columns</p>\n",
       "</div>"
      ],
      "text/plain": [
       "          user  friend_edge  friend_house_lat  friend_house_long  \\\n",
       "0            0            1         45.202484          -0.746831   \n",
       "1            0            2         34.061224        -118.307591   \n",
       "2            0            4         37.787660        -122.406340   \n",
       "3            0            5         30.274974         -97.726415   \n",
       "4            0            7         30.268433         -97.743261   \n",
       "...        ...          ...               ...                ...   \n",
       "913655  196480       196478          1.297822         103.849685   \n",
       "913656  196480       196479          1.384787         103.876391   \n",
       "913657  196478       196479          1.384787         103.876391   \n",
       "913658  196478       196480          1.329142         103.879588   \n",
       "913659  196033       196494         50.455257           3.979299   \n",
       "\n",
       "        user_house_lat  user_house_long  dist_btw_user_friend  \n",
       "0            30.263544       -97.744633           8176.385471  \n",
       "1            30.263544       -97.744633           1977.484474  \n",
       "2            30.263544       -97.744633           2412.983086  \n",
       "3            30.263544       -97.744633              2.162484  \n",
       "4            30.263544       -97.744633              0.559443  \n",
       "...                ...              ...                   ...  \n",
       "913655        1.329142       103.879588              4.814444  \n",
       "913656        1.329142       103.879588              6.197671  \n",
       "913657        1.297822       103.849685             10.115484  \n",
       "913658        1.297822       103.849685              4.814444  \n",
       "913659       48.857791         2.399210            210.914049  \n",
       "\n",
       "[913660 rows x 7 columns]"
      ]
     },
     "execution_count": 25,
     "metadata": {},
     "output_type": "execute_result"
    }
   ],
   "source": [
    "g_network_houses_locations_df.sample(3)"
   ]
  },
  {
   "cell_type": "code",
   "execution_count": 26,
   "metadata": {},
   "outputs": [
    {
     "data": {
      "text/html": [
       "<div>\n",
       "<style scoped>\n",
       "    .dataframe tbody tr th:only-of-type {\n",
       "        vertical-align: middle;\n",
       "    }\n",
       "\n",
       "    .dataframe tbody tr th {\n",
       "        vertical-align: top;\n",
       "    }\n",
       "\n",
       "    .dataframe thead th {\n",
       "        text-align: right;\n",
       "    }\n",
       "</style>\n",
       "<table border=\"1\" class=\"dataframe\">\n",
       "  <thead>\n",
       "    <tr style=\"text-align: right;\">\n",
       "      <th></th>\n",
       "      <th>user</th>\n",
       "      <th>friend_edge</th>\n",
       "      <th>friend_house_lat</th>\n",
       "      <th>friend_house_long</th>\n",
       "      <th>user_house_lat</th>\n",
       "      <th>user_house_long</th>\n",
       "      <th>dist_btw_user_friend</th>\n",
       "    </tr>\n",
       "  </thead>\n",
       "  <tbody>\n",
       "    <tr>\n",
       "      <th>0</th>\n",
       "      <td>0</td>\n",
       "      <td>2</td>\n",
       "      <td>39.738340</td>\n",
       "      <td>-104.960762</td>\n",
       "      <td>39.746676</td>\n",
       "      <td>-104.973602</td>\n",
       "      <td>1.436861</td>\n",
       "    </tr>\n",
       "    <tr>\n",
       "      <th>1</th>\n",
       "      <td>0</td>\n",
       "      <td>3</td>\n",
       "      <td>37.670403</td>\n",
       "      <td>-122.406295</td>\n",
       "      <td>39.746676</td>\n",
       "      <td>-104.973602</td>\n",
       "      <td>1527.636902</td>\n",
       "    </tr>\n",
       "    <tr>\n",
       "      <th>2</th>\n",
       "      <td>0</td>\n",
       "      <td>4</td>\n",
       "      <td>60.173672</td>\n",
       "      <td>24.942450</td>\n",
       "      <td>39.746676</td>\n",
       "      <td>-104.973602</td>\n",
       "      <td>8004.049318</td>\n",
       "    </tr>\n",
       "    <tr>\n",
       "      <th>3</th>\n",
       "      <td>0</td>\n",
       "      <td>5</td>\n",
       "      <td>37.635941</td>\n",
       "      <td>-122.385039</td>\n",
       "      <td>39.746676</td>\n",
       "      <td>-104.973602</td>\n",
       "      <td>1526.759839</td>\n",
       "    </tr>\n",
       "    <tr>\n",
       "      <th>4</th>\n",
       "      <td>0</td>\n",
       "      <td>6</td>\n",
       "      <td>41.925804</td>\n",
       "      <td>-87.700002</td>\n",
       "      <td>39.746676</td>\n",
       "      <td>-104.973602</td>\n",
       "      <td>1470.644415</td>\n",
       "    </tr>\n",
       "    <tr>\n",
       "      <th>...</th>\n",
       "      <td>...</td>\n",
       "      <td>...</td>\n",
       "      <td>...</td>\n",
       "      <td>...</td>\n",
       "      <td>...</td>\n",
       "      <td>...</td>\n",
       "      <td>...</td>\n",
       "    </tr>\n",
       "    <tr>\n",
       "      <th>388176</th>\n",
       "      <td>58225</td>\n",
       "      <td>58226</td>\n",
       "      <td>33.833333</td>\n",
       "      <td>35.833333</td>\n",
       "      <td>33.833333</td>\n",
       "      <td>35.833333</td>\n",
       "      <td>0.000000</td>\n",
       "    </tr>\n",
       "    <tr>\n",
       "      <th>388177</th>\n",
       "      <td>58225</td>\n",
       "      <td>58227</td>\n",
       "      <td>33.833333</td>\n",
       "      <td>35.833333</td>\n",
       "      <td>33.833333</td>\n",
       "      <td>35.833333</td>\n",
       "      <td>0.000000</td>\n",
       "    </tr>\n",
       "    <tr>\n",
       "      <th>388178</th>\n",
       "      <td>58226</td>\n",
       "      <td>58220</td>\n",
       "      <td>33.853940</td>\n",
       "      <td>35.577409</td>\n",
       "      <td>33.833333</td>\n",
       "      <td>35.833333</td>\n",
       "      <td>23.746457</td>\n",
       "    </tr>\n",
       "    <tr>\n",
       "      <th>388179</th>\n",
       "      <td>58226</td>\n",
       "      <td>58225</td>\n",
       "      <td>33.833333</td>\n",
       "      <td>35.833333</td>\n",
       "      <td>33.833333</td>\n",
       "      <td>35.833333</td>\n",
       "      <td>0.000000</td>\n",
       "    </tr>\n",
       "    <tr>\n",
       "      <th>388180</th>\n",
       "      <td>58227</td>\n",
       "      <td>58225</td>\n",
       "      <td>33.833333</td>\n",
       "      <td>35.833333</td>\n",
       "      <td>33.833333</td>\n",
       "      <td>35.833333</td>\n",
       "      <td>0.000000</td>\n",
       "    </tr>\n",
       "  </tbody>\n",
       "</table>\n",
       "<p>388181 rows × 7 columns</p>\n",
       "</div>"
      ],
      "text/plain": [
       "         user  friend_edge  friend_house_lat  friend_house_long  \\\n",
       "0           0            2         39.738340        -104.960762   \n",
       "1           0            3         37.670403        -122.406295   \n",
       "2           0            4         60.173672          24.942450   \n",
       "3           0            5         37.635941        -122.385039   \n",
       "4           0            6         41.925804         -87.700002   \n",
       "...       ...          ...               ...                ...   \n",
       "388176  58225        58226         33.833333          35.833333   \n",
       "388177  58225        58227         33.833333          35.833333   \n",
       "388178  58226        58220         33.853940          35.577409   \n",
       "388179  58226        58225         33.833333          35.833333   \n",
       "388180  58227        58225         33.833333          35.833333   \n",
       "\n",
       "        user_house_lat  user_house_long  dist_btw_user_friend  \n",
       "0            39.746676      -104.973602              1.436861  \n",
       "1            39.746676      -104.973602           1527.636902  \n",
       "2            39.746676      -104.973602           8004.049318  \n",
       "3            39.746676      -104.973602           1526.759839  \n",
       "4            39.746676      -104.973602           1470.644415  \n",
       "...                ...              ...                   ...  \n",
       "388176       33.833333        35.833333              0.000000  \n",
       "388177       33.833333        35.833333              0.000000  \n",
       "388178       33.833333        35.833333             23.746457  \n",
       "388179       33.833333        35.833333              0.000000  \n",
       "388180       33.833333        35.833333              0.000000  \n",
       "\n",
       "[388181 rows x 7 columns]"
      ]
     },
     "execution_count": 26,
     "metadata": {},
     "output_type": "execute_result"
    }
   ],
   "source": [
    "b_network_houses_locations_df.sample(3)"
   ]
  },
  {
   "cell_type": "markdown",
   "metadata": {},
   "source": [
    "------------------------------"
   ]
  },
  {
   "cell_type": "markdown",
   "metadata": {},
   "source": [
    "### Replication:\n",
    "\n",
    "\n"
   ]
  },
  {
   "cell_type": "markdown",
   "metadata": {},
   "source": [
    "Here we attempt to plot a figure similar to the one from the paper. At first, we rounded each distance over to the closest kilometer, but the obtained result was showing a lot of noises for high distance. So, to get rid of this issue, we decide to round all distance over a logarithmic scale. The rounding and probability are calculated through the NumPy function \"np.histogram\". "
   ]
  },
  {
   "cell_type": "code",
   "execution_count": 27,
   "metadata": {},
   "outputs": [],
   "source": [
    "# set logarithmic scale for rounding\n",
    "bins = np.logspace(0,5,75,endpoint = True)\n",
    "\n",
    "# rounding and calcul of the probability\n",
    "proba_g, bins = np.histogram(g_network_houses_locations_df['dist_btw_user_friend'].values, bins = bins ,density = True)\n",
    "proba_b, bins = np.histogram(b_network_houses_locations_df['dist_btw_user_friend'].values, bins = bins ,density = True)"
   ]
  },
  {
   "cell_type": "code",
   "execution_count": 28,
   "metadata": {},
   "outputs": [
    {
     "data": {
      "text/plain": [
       "Text(0.5, 1.0, '(a) Friends')"
      ]
     },
     "execution_count": 28,
     "metadata": {},
     "output_type": "execute_result"
    },
    {
     "data": {
      "image/png": "[encoded data removed]",
      "text/plain": [
       "<Figure size 648x504 with 1 Axes>"
      ]
     },
     "metadata": {
      "needs_background": "light"
     },
     "output_type": "display_data"
    }
   ],
   "source": [
    "# plot of the result\n",
    "\n",
    "plt.figure(figsize = (9,7), facecolor = 'none')\n",
    "plt.loglog(bins[:-1], proba_b,marker = \"o\",color ='none',linewidth = 0,markersize = 13,markeredgecolor = \"b\")\n",
    "plt.loglog(bins[:-1], proba_g,marker = \"*\",color ='r',linewidth = 0,markersize = 13 ,markeredgecolor = \"r\")\n",
    "plt.xscale('log')\n",
    "plt.yscale('log')\n",
    "plt.xlim((1,1e5))\n",
    "plt.ylim((1e-6,1))\n",
    "plt.legend(['Brightkite','Gowalla'],fontsize = 16)\n",
    "plt.xlabel('Distance between homes',fontsize = 12)\n",
    "plt.ylabel('Probability',fontsize = 14)\n",
    "plt.xticks(np.logspace(0,5,6),fontsize = 14)\n",
    "plt.yticks(np.logspace(-6,0,4),fontsize = 14)\n",
    "plt.title('(a) Friends',fontsize = 18)"
   ]
  },
  {
   "cell_type": "markdown",
   "metadata": {},
   "source": [
    "## Conclusion\n"
   ]
  },
  {
   "cell_type": "markdown",
   "metadata": {},
   "source": [
    "As you can see above, a similar figure was found with some small differences, but those can depend a lot on which rounding we took to calculate our probability. So a perfect replication will be difficult to find because the rounding used in the paper was not provided. Note that those discrepancies could also be caused by the differences in the formula that can be used to calculate the distance between two points on the Earth (Methods of the sinus, Pythagore, or the Haversine). Nevertheless, we still have similar curves and the same proportion on both axes. We can also see a similar kink between the distance $10^2$ [km] and $10^3$ [km] in both figures and around $10^4$ [km] we have the same nonlinear repartition of probability.But, above all the paper's hypothesis that two people living very far away from each other are unlikely to be friends is verified and we have two independent datasets (Gowalla and Brightkite) that give the same result.\n"
   ]
  },
  {
   "cell_type": "markdown",
   "metadata": {},
   "source": [
    "-----------------------------------------------------"
   ]
  },
  {
   "cell_type": "markdown",
   "metadata": {},
   "source": [
    "# Loading new data set "
   ]
  },
  {
   "cell_type": "code",
   "execution_count": 29,
   "metadata": {},
   "outputs": [],
   "source": [
    "import geopandas as gpd"
   ]
  },
  {
   "cell_type": "code",
   "execution_count": 30,
   "metadata": {},
   "outputs": [],
   "source": [
    "houses_gowalla = houses_gowalla.reset_index()\n",
    "houses_bright = houses_bright.reset_index()"
   ]
  },
  {
   "cell_type": "markdown",
   "metadata": {},
   "source": [
    "Making geodataframe with the user home"
   ]
  },
  {
   "cell_type": "code",
   "execution_count": 31,
   "metadata": {},
   "outputs": [],
   "source": [
    "gdf_home = gpd.GeoDataFrame(\n",
    "    houses_gowalla, geometry=gpd.points_from_xy(houses_gowalla.user_house_long,houses_gowalla.user_house_lat))\n",
    "gdf_home_b = gpd.GeoDataFrame(\n",
    "    houses_bright, geometry=gpd.points_from_xy(houses_bright.user_house_long,houses_bright.user_house_lat))"
   ]
  },
  {
   "cell_type": "code",
   "execution_count": 32,
   "metadata": {},
   "outputs": [
    {
     "data": {
      "text/html": [
       "<div>\n",
       "<style scoped>\n",
       "    .dataframe tbody tr th:only-of-type {\n",
       "        vertical-align: middle;\n",
       "    }\n",
       "\n",
       "    .dataframe tbody tr th {\n",
       "        vertical-align: top;\n",
       "    }\n",
       "\n",
       "    .dataframe thead th {\n",
       "        text-align: right;\n",
       "    }\n",
       "</style>\n",
       "<table border=\"1\" class=\"dataframe\">\n",
       "  <thead>\n",
       "    <tr style=\"text-align: right;\">\n",
       "      <th></th>\n",
       "      <th>user</th>\n",
       "      <th>user_house_lat</th>\n",
       "      <th>user_house_long</th>\n",
       "      <th>geometry</th>\n",
       "    </tr>\n",
       "  </thead>\n",
       "  <tbody>\n",
       "    <tr>\n",
       "      <th>16006</th>\n",
       "      <td>22882</td>\n",
       "      <td>37.746709</td>\n",
       "      <td>-122.355752</td>\n",
       "      <td>POINT (-122.35575 37.74671)</td>\n",
       "    </tr>\n",
       "  </tbody>\n",
       "</table>\n",
       "</div>"
      ],
      "text/plain": [
       "        user  user_house_lat  user_house_long                     geometry\n",
       "16006  22882       37.746709      -122.355752  POINT (-122.35575 37.74671)"
      ]
     },
     "execution_count": 32,
     "metadata": {},
     "output_type": "execute_result"
    }
   ],
   "source": [
    "gdf_home.sample(3)"
   ]
  },
  {
   "cell_type": "markdown",
   "metadata": {},
   "source": [
    "Import the shape file from https://www.igismap.com/united-states-shapefile-download-free-map-boundary-states-and-county/ called Download Polygon Shapefile of United States of America you can find the link for the download here https://map.igismap.com/share-map/export-layer/Alabama_AL4_US_Poly/1534b76d325a8f591b52d302e7181331"
   ]
  },
  {
   "cell_type": "code",
   "execution_count": 33,
   "metadata": {},
   "outputs": [],
   "source": [
    "#import shp\n",
    "states =gpd.read_file(INP_FOLDER + 'United_States-_States_Polygon.shp') "
   ]
  },
  {
   "cell_type": "markdown",
   "metadata": {},
   "source": [
    "Then we can join our user by states"
   ]
  },
  {
   "cell_type": "code",
   "execution_count": 34,
   "metadata": {},
   "outputs": [],
   "source": [
    "from geopandas.tools import sjoin\n",
    "gdf_home.crs = \"EPSG:4326\"\n",
    "gdf_home_b.crs = \"EPSG:4326\""
   ]
  },
  {
   "cell_type": "code",
   "execution_count": null,
   "metadata": {},
   "outputs": [],
   "source": []
  },
  {
   "cell_type": "code",
   "execution_count": 35,
   "metadata": {},
   "outputs": [],
   "source": [
    "def sjoin_chunk(chunk):\n",
    "    chunk.crs = \"EPSG:4326\"\n",
    "    return sjoin(chunk, states, how='left')"
   ]
  },
  {
   "cell_type": "code",
   "execution_count": 36,
   "metadata": {},
   "outputs": [],
   "source": [
    "def parallelize_dataframe_func(df, func):\n",
    "    num_cores = multiprocessing.cpu_count()-1  #leave one free to not freeze machine\n",
    "    num_partitions = num_cores #number of partitions to split dataframe\n",
    "    df_split = np.array_split(df, num_partitions)\n",
    "    pool = multiprocessing.Pool(num_cores)\n",
    "    df = pd.concat(pool.map(func, df_split))\n",
    "    pool.close()\n",
    "    pool.join()\n",
    "    return df"
   ]
  },
  {
   "cell_type": "code",
   "execution_count": 37,
   "metadata": {},
   "outputs": [],
   "source": [
    "pointInStates = parallelize_dataframe_func(gdf_home, sjoin_chunk)\n",
    "pointInStates_b = parallelize_dataframe_func(gdf_home_b, sjoin_chunk)\n"
   ]
  },
  {
   "cell_type": "code",
   "execution_count": 38,
   "metadata": {},
   "outputs": [],
   "source": [
    "#pointInStates= sjoin(gdf_home, states, how='left')\n",
    "#pointInStates_b = sjoin(gdf_home_b,states, how='left')"
   ]
  },
  {
   "cell_type": "code",
   "execution_count": 39,
   "metadata": {},
   "outputs": [
    {
     "data": {
      "text/plain": [
       "(107092, 4)"
      ]
     },
     "execution_count": 39,
     "metadata": {},
     "output_type": "execute_result"
    }
   ],
   "source": [
    "gdf_home.shape"
   ]
  },
  {
   "cell_type": "markdown",
   "metadata": {},
   "source": [
    "We clear the user outside the USA"
   ]
  },
  {
   "cell_type": "code",
   "execution_count": 40,
   "metadata": {},
   "outputs": [],
   "source": [
    "pointInStates = pointInStates.loc[pointInStates['country']=='USA']\n",
    "pointInStates_b = pointInStates_b.loc[pointInStates_b['country']=='USA']"
   ]
  },
  {
   "cell_type": "markdown",
   "metadata": {},
   "source": [
    "Data cleaning to have only what we want"
   ]
  },
  {
   "cell_type": "code",
   "execution_count": 41,
   "metadata": {},
   "outputs": [],
   "source": [
    "pointInStates = pointInStates[['user','user_house_lat','user_house_long','name']]\n",
    "pointInStates_b = pointInStates_b[['user','user_house_lat','user_house_long','name']]\n",
    "user_in_usa_g = pointInStates['user']\n",
    "user_in_usa_b = pointInStates_b['user']\n",
    "gdf_home_plot = gpd.GeoDataFrame(pointInStates, geometry=gpd.points_from_xy(pointInStates.user_house_long,pointInStates.user_house_lat))\n",
    "gdf_home_plot_b = gpd.GeoDataFrame(pointInStates_b, geometry=gpd.points_from_xy(pointInStates_b.user_house_long,pointInStates_b.user_house_lat))"
   ]
  },
  {
   "cell_type": "code",
   "execution_count": 42,
   "metadata": {},
   "outputs": [
    {
     "data": {
      "text/html": [
       "<div>\n",
       "<style scoped>\n",
       "    .dataframe tbody tr th:only-of-type {\n",
       "        vertical-align: middle;\n",
       "    }\n",
       "\n",
       "    .dataframe tbody tr th {\n",
       "        vertical-align: top;\n",
       "    }\n",
       "\n",
       "    .dataframe thead th {\n",
       "        text-align: right;\n",
       "    }\n",
       "</style>\n",
       "<table border=\"1\" class=\"dataframe\">\n",
       "  <thead>\n",
       "    <tr style=\"text-align: right;\">\n",
       "      <th></th>\n",
       "      <th>user</th>\n",
       "      <th>user_house_lat</th>\n",
       "      <th>user_house_long</th>\n",
       "      <th>name</th>\n",
       "      <th>geometry</th>\n",
       "    </tr>\n",
       "  </thead>\n",
       "  <tbody>\n",
       "    <tr>\n",
       "      <th>22865</th>\n",
       "      <td>33793</td>\n",
       "      <td>36.119521</td>\n",
       "      <td>-115.168207</td>\n",
       "      <td>Nevada</td>\n",
       "      <td>POINT (-115.16821 36.11952)</td>\n",
       "    </tr>\n",
       "  </tbody>\n",
       "</table>\n",
       "</div>"
      ],
      "text/plain": [
       "        user  user_house_lat  user_house_long    name  \\\n",
       "22865  33793       36.119521      -115.168207  Nevada   \n",
       "\n",
       "                          geometry  \n",
       "22865  POINT (-115.16821 36.11952)  "
      ]
     },
     "execution_count": 42,
     "metadata": {},
     "output_type": "execute_result"
    }
   ],
   "source": [
    "pointInStates.sample(3)"
   ]
  },
  {
   "cell_type": "markdown",
   "metadata": {},
   "source": [
    "Taking only the major states"
   ]
  },
  {
   "cell_type": "code",
   "execution_count": 43,
   "metadata": {},
   "outputs": [],
   "source": [
    "list_major_states =[\"Alabama\",\"Arizona\",\"Arkansas\",\"California\",\"Colorado\",\n",
    "  \"Connecticut\",\"Delaware\",\"Florida\",\"Georgia\",\"Idaho\",\"Illinois\",\n",
    "  \"Indiana\",\"Iowa\",\"Kansas\",\"Kentucky\",\"Louisiana\",\"Maine\",\"Maryland\",\n",
    "  \"Massachusetts\",\"Michigan\",\"Minnesota\",\"Mississippi\",\"Missouri\",\"Montana\",\n",
    "  \"Nebraska\",\"Nevada\",\"New Hampshire\",\"New Jersey\",\"New Mexico\",\"New York\",\n",
    "  \"North Carolina\",\"North Dakota\",\"Ohio\",\"Oklahoma\",\"Oregon\",\"Pennsylvania\",\n",
    "  \"Rhode Island\",\"South Carolina\",\"South Dakota\",\"Tennessee\",\"Texas\",\"Utah\",\n",
    "  \"Vermont\",\"Virginia\",\"Washington\",\"West Virginia\",\"Wisconsin\",\"Wyoming\"]\n"
   ]
  },
  {
   "cell_type": "code",
   "execution_count": 44,
   "metadata": {},
   "outputs": [
    {
     "data": {
      "text/plain": [
       "0          POINT (-97.74463 30.26354)\n",
       "2         POINT (-118.30759 34.06122)\n",
       "3         POINT (-122.40634 37.78766)\n",
       "4          POINT (-97.72641 30.27497)\n",
       "5          POINT (-97.74326 30.26843)\n",
       "                     ...             \n",
       "107059     POINT (-71.11343 42.35185)\n",
       "107076     POINT (-97.85035 26.14918)\n",
       "107077     POINT (-81.56547 30.19239)\n",
       "107078     POINT (-81.58938 30.15345)\n",
       "107088    POINT (-121.99995 37.52312)\n",
       "Name: geometry, Length: 49605, dtype: geometry"
      ]
     },
     "execution_count": 44,
     "metadata": {},
     "output_type": "execute_result"
    }
   ],
   "source": [
    "point_in_major_states = gdf_home_plot.loc[gdf_home_plot['name'].isin(list_major_states)==True]\n",
    "point_in_major_states_b= gdf_home_plot_b.loc[gdf_home_plot_b['name'].isin(list_major_states)==True]\n",
    "\n",
    "\n",
    "major_states =states.loc[states['name'].isin(list_major_states)==True]\n",
    "point_in_major_states['geometry']"
   ]
  },
  {
   "cell_type": "markdown",
   "metadata": {},
   "source": [
    "Plotting a graph of the user on the map"
   ]
  },
  {
   "cell_type": "code",
   "execution_count": 45,
   "metadata": {},
   "outputs": [
    {
     "data": {
      "text/plain": [
       "<matplotlib.legend.Legend at 0x7fd39c19fb50>"
      ]
     },
     "execution_count": 45,
     "metadata": {},
     "output_type": "execute_result"
    },
    {
     "data": {
      "image/png": "[encoded data removed]",
      "text/plain": [
       "<Figure size 1800x1440 with 1 Axes>"
      ]
     },
     "metadata": {
      "needs_background": "light"
     },
     "output_type": "display_data"
    }
   ],
   "source": [
    "ax = major_states['geometry'].plot(cmap='Greys',figsize=(25, 20),edgecolor='k')\n",
    "point_in_major_states['geometry'].plot(ax=ax,color='r',markersize =4)\n",
    "point_in_major_states_b['geometry'].plot(ax=ax,color='b',markersize =4)\n",
    "plt.title('\\n Major states of U.S with the user home location \\n ',size=40)\n",
    "plt.xlabel('\\n Longitude \\n ',size=40)\n",
    "plt.ylabel('\\n Latitude \\n',size=40)\n",
    "plt.xticks(size=20)\n",
    "plt.yticks(size=20)\n",
    "plt.legend(['Home Gowalla user','Home Brightkite user'],fontsize=20,loc='lower right')"
   ]
  },
  {
   "cell_type": "code",
   "execution_count": 46,
   "metadata": {},
   "outputs": [
    {
     "data": {
      "text/html": [
       "<div>\n",
       "<style scoped>\n",
       "    .dataframe tbody tr th:only-of-type {\n",
       "        vertical-align: middle;\n",
       "    }\n",
       "\n",
       "    .dataframe tbody tr th {\n",
       "        vertical-align: top;\n",
       "    }\n",
       "\n",
       "    .dataframe thead th {\n",
       "        text-align: right;\n",
       "    }\n",
       "</style>\n",
       "<table border=\"1\" class=\"dataframe\">\n",
       "  <thead>\n",
       "    <tr style=\"text-align: right;\">\n",
       "      <th></th>\n",
       "      <th>user</th>\n",
       "      <th>user_house_lat</th>\n",
       "      <th>user_house_long</th>\n",
       "      <th>name</th>\n",
       "      <th>geometry</th>\n",
       "    </tr>\n",
       "  </thead>\n",
       "  <tbody>\n",
       "    <tr>\n",
       "      <th>24823</th>\n",
       "      <td>37162</td>\n",
       "      <td>37.428781</td>\n",
       "      <td>-122.150408</td>\n",
       "      <td>California</td>\n",
       "      <td>POINT (-122.15041 37.42878)</td>\n",
       "    </tr>\n",
       "  </tbody>\n",
       "</table>\n",
       "</div>"
      ],
      "text/plain": [
       "        user  user_house_lat  user_house_long        name  \\\n",
       "24823  37162       37.428781      -122.150408  California   \n",
       "\n",
       "                          geometry  \n",
       "24823  POINT (-122.15041 37.42878)  "
      ]
     },
     "execution_count": 46,
     "metadata": {},
     "output_type": "execute_result"
    }
   ],
   "source": [
    "point_in_major_states.sample(3)"
   ]
  },
  {
   "cell_type": "code",
   "execution_count": 47,
   "metadata": {},
   "outputs": [
    {
     "data": {
      "text/html": [
       "<div>\n",
       "<style scoped>\n",
       "    .dataframe tbody tr th:only-of-type {\n",
       "        vertical-align: middle;\n",
       "    }\n",
       "\n",
       "    .dataframe tbody tr th {\n",
       "        vertical-align: top;\n",
       "    }\n",
       "\n",
       "    .dataframe thead th {\n",
       "        text-align: right;\n",
       "    }\n",
       "</style>\n",
       "<table border=\"1\" class=\"dataframe\">\n",
       "  <thead>\n",
       "    <tr style=\"text-align: right;\">\n",
       "      <th></th>\n",
       "      <th>user</th>\n",
       "      <th>user_house_lat</th>\n",
       "      <th>user_house_long</th>\n",
       "      <th>name</th>\n",
       "      <th>geometry</th>\n",
       "    </tr>\n",
       "  </thead>\n",
       "  <tbody>\n",
       "    <tr>\n",
       "      <th>24643</th>\n",
       "      <td>27272</td>\n",
       "      <td>38.704282</td>\n",
       "      <td>-77.22776</td>\n",
       "      <td>Virginia</td>\n",
       "      <td>POINT (-77.22776 38.70428)</td>\n",
       "    </tr>\n",
       "  </tbody>\n",
       "</table>\n",
       "</div>"
      ],
      "text/plain": [
       "        user  user_house_lat  user_house_long      name  \\\n",
       "24643  27272       38.704282        -77.22776  Virginia   \n",
       "\n",
       "                         geometry  \n",
       "24643  POINT (-77.22776 38.70428)  "
      ]
     },
     "execution_count": 47,
     "metadata": {},
     "output_type": "execute_result"
    }
   ],
   "source": [
    "point_in_major_states_b.sample(3)"
   ]
  },
  {
   "cell_type": "code",
   "execution_count": 48,
   "metadata": {},
   "outputs": [
    {
     "data": {
      "text/html": [
       "<div>\n",
       "<style scoped>\n",
       "    .dataframe tbody tr th:only-of-type {\n",
       "        vertical-align: middle;\n",
       "    }\n",
       "\n",
       "    .dataframe tbody tr th {\n",
       "        vertical-align: top;\n",
       "    }\n",
       "\n",
       "    .dataframe thead th {\n",
       "        text-align: right;\n",
       "    }\n",
       "</style>\n",
       "<table border=\"1\" class=\"dataframe\">\n",
       "  <thead>\n",
       "    <tr style=\"text-align: right;\">\n",
       "      <th></th>\n",
       "      <th>user</th>\n",
       "      <th>checkin_time</th>\n",
       "      <th>latitude</th>\n",
       "      <th>longitude</th>\n",
       "      <th>location_id</th>\n",
       "      <th>lat_km</th>\n",
       "      <th>long_km</th>\n",
       "      <th>int_lat</th>\n",
       "      <th>int_long</th>\n",
       "    </tr>\n",
       "  </thead>\n",
       "  <tbody>\n",
       "    <tr>\n",
       "      <th>0</th>\n",
       "      <td>0</td>\n",
       "      <td>2010-10-19T23:55:27Z</td>\n",
       "      <td>30.235909</td>\n",
       "      <td>-97.795140</td>\n",
       "      <td>22847</td>\n",
       "      <td>3343.305415</td>\n",
       "      <td>-9405.541183</td>\n",
       "      <td>133</td>\n",
       "      <td>-376</td>\n",
       "    </tr>\n",
       "    <tr>\n",
       "      <th>1</th>\n",
       "      <td>0</td>\n",
       "      <td>2010-10-18T22:17:43Z</td>\n",
       "      <td>30.269103</td>\n",
       "      <td>-97.749395</td>\n",
       "      <td>420315</td>\n",
       "      <td>3346.975790</td>\n",
       "      <td>-9397.965617</td>\n",
       "      <td>133</td>\n",
       "      <td>-375</td>\n",
       "    </tr>\n",
       "    <tr>\n",
       "      <th>2</th>\n",
       "      <td>0</td>\n",
       "      <td>2010-10-17T23:42:03Z</td>\n",
       "      <td>30.255731</td>\n",
       "      <td>-97.763386</td>\n",
       "      <td>316637</td>\n",
       "      <td>3345.497199</td>\n",
       "      <td>-9400.590729</td>\n",
       "      <td>133</td>\n",
       "      <td>-376</td>\n",
       "    </tr>\n",
       "    <tr>\n",
       "      <th>3</th>\n",
       "      <td>0</td>\n",
       "      <td>2010-10-17T19:26:05Z</td>\n",
       "      <td>30.263418</td>\n",
       "      <td>-97.757597</td>\n",
       "      <td>16516</td>\n",
       "      <td>3346.347196</td>\n",
       "      <td>-9399.298327</td>\n",
       "      <td>133</td>\n",
       "      <td>-375</td>\n",
       "    </tr>\n",
       "    <tr>\n",
       "      <th>4</th>\n",
       "      <td>0</td>\n",
       "      <td>2010-10-16T18:50:42Z</td>\n",
       "      <td>30.274292</td>\n",
       "      <td>-97.740523</td>\n",
       "      <td>5535878</td>\n",
       "      <td>3347.549548</td>\n",
       "      <td>-9396.615832</td>\n",
       "      <td>133</td>\n",
       "      <td>-375</td>\n",
       "    </tr>\n",
       "    <tr>\n",
       "      <th>...</th>\n",
       "      <td>...</td>\n",
       "      <td>...</td>\n",
       "      <td>...</td>\n",
       "      <td>...</td>\n",
       "      <td>...</td>\n",
       "      <td>...</td>\n",
       "      <td>...</td>\n",
       "      <td>...</td>\n",
       "      <td>...</td>\n",
       "    </tr>\n",
       "    <tr>\n",
       "      <th>6442887</th>\n",
       "      <td>196578</td>\n",
       "      <td>2010-06-11T13:32:26Z</td>\n",
       "      <td>51.742988</td>\n",
       "      <td>-0.488065</td>\n",
       "      <td>906885</td>\n",
       "      <td>5721.429146</td>\n",
       "      <td>-33.641493</td>\n",
       "      <td>228</td>\n",
       "      <td>-1</td>\n",
       "    </tr>\n",
       "    <tr>\n",
       "      <th>6442888</th>\n",
       "      <td>196578</td>\n",
       "      <td>2010-06-11T13:26:45Z</td>\n",
       "      <td>51.746492</td>\n",
       "      <td>-0.490780</td>\n",
       "      <td>965121</td>\n",
       "      <td>5721.816613</td>\n",
       "      <td>-33.825968</td>\n",
       "      <td>228</td>\n",
       "      <td>-1</td>\n",
       "    </tr>\n",
       "    <tr>\n",
       "      <th>6442889</th>\n",
       "      <td>196578</td>\n",
       "      <td>2010-06-11T13:26:34Z</td>\n",
       "      <td>51.741916</td>\n",
       "      <td>-0.496729</td>\n",
       "      <td>1174322</td>\n",
       "      <td>5721.310601</td>\n",
       "      <td>-34.239436</td>\n",
       "      <td>228</td>\n",
       "      <td>-1</td>\n",
       "    </tr>\n",
       "    <tr>\n",
       "      <th>6442890</th>\n",
       "      <td>196585</td>\n",
       "      <td>2010-10-08T21:01:49Z</td>\n",
       "      <td>50.105516</td>\n",
       "      <td>8.571525</td>\n",
       "      <td>471724</td>\n",
       "      <td>5540.367274</td>\n",
       "      <td>611.989355</td>\n",
       "      <td>221</td>\n",
       "      <td>24</td>\n",
       "    </tr>\n",
       "    <tr>\n",
       "      <th>6442891</th>\n",
       "      <td>196585</td>\n",
       "      <td>2010-10-07T17:39:18Z</td>\n",
       "      <td>50.027812</td>\n",
       "      <td>8.785098</td>\n",
       "      <td>4555073</td>\n",
       "      <td>5531.775232</td>\n",
       "      <td>628.255009</td>\n",
       "      <td>221</td>\n",
       "      <td>25</td>\n",
       "    </tr>\n",
       "  </tbody>\n",
       "</table>\n",
       "<p>6442863 rows × 9 columns</p>\n",
       "</div>"
      ],
      "text/plain": [
       "           user          checkin_time   latitude  longitude  location_id  \\\n",
       "0             0  2010-10-19T23:55:27Z  30.235909 -97.795140        22847   \n",
       "1             0  2010-10-18T22:17:43Z  30.269103 -97.749395       420315   \n",
       "2             0  2010-10-17T23:42:03Z  30.255731 -97.763386       316637   \n",
       "3             0  2010-10-17T19:26:05Z  30.263418 -97.757597        16516   \n",
       "4             0  2010-10-16T18:50:42Z  30.274292 -97.740523      5535878   \n",
       "...         ...                   ...        ...        ...          ...   \n",
       "6442887  196578  2010-06-11T13:32:26Z  51.742988  -0.488065       906885   \n",
       "6442888  196578  2010-06-11T13:26:45Z  51.746492  -0.490780       965121   \n",
       "6442889  196578  2010-06-11T13:26:34Z  51.741916  -0.496729      1174322   \n",
       "6442890  196585  2010-10-08T21:01:49Z  50.105516   8.571525       471724   \n",
       "6442891  196585  2010-10-07T17:39:18Z  50.027812   8.785098      4555073   \n",
       "\n",
       "              lat_km      long_km  int_lat  int_long  \n",
       "0        3343.305415 -9405.541183      133      -376  \n",
       "1        3346.975790 -9397.965617      133      -375  \n",
       "2        3345.497199 -9400.590729      133      -376  \n",
       "3        3346.347196 -9399.298327      133      -375  \n",
       "4        3347.549548 -9396.615832      133      -375  \n",
       "...              ...          ...      ...       ...  \n",
       "6442887  5721.429146   -33.641493      228        -1  \n",
       "6442888  5721.816613   -33.825968      228        -1  \n",
       "6442889  5721.310601   -34.239436      228        -1  \n",
       "6442890  5540.367274   611.989355      221        24  \n",
       "6442891  5531.775232   628.255009      221        25  \n",
       "\n",
       "[6442863 rows x 9 columns]"
      ]
     },
     "execution_count": 48,
     "metadata": {},
     "output_type": "execute_result"
    }
   ],
   "source": [
    "g_checkin_df.smaple(3)"
   ]
  },
  {
   "cell_type": "code",
   "execution_count": 49,
   "metadata": {},
   "outputs": [],
   "source": [
    "gdf_checkin = gpd.GeoDataFrame(\n",
    "    g_checkin_df, geometry=gpd.points_from_xy(g_checkin_df.longitude,g_checkin_df.latitude))\n",
    "gdf_checkin_b = gpd.GeoDataFrame(\n",
    "    b_checkin_df, geometry=gpd.points_from_xy(b_checkin_df.longitude,b_checkin_df.latitude))"
   ]
  },
  {
   "cell_type": "markdown",
   "metadata": {},
   "source": [
    "### Checkin only in the usa made by usa user"
   ]
  },
  {
   "cell_type": "code",
   "execution_count": 50,
   "metadata": {},
   "outputs": [],
   "source": [
    "gdf_checkin_usa_g = point_in_major_states.merge(gdf_checkin,left_on = ['user'],right_on = ['user'])\n",
    "gdf_checkin_usa_b = point_in_major_states.merge(gdf_checkin_b,left_on = ['user'],right_on = ['user'])"
   ]
  },
  {
   "cell_type": "markdown",
   "metadata": {},
   "source": [
    "### Cleaning"
   ]
  },
  {
   "cell_type": "code",
   "execution_count": 51,
   "metadata": {},
   "outputs": [],
   "source": [
    "COLUMN_TO_DROP = ['location_id','lat_km','long_km','int_lat','int_long','geometry_y']"
   ]
  },
  {
   "cell_type": "code",
   "execution_count": 52,
   "metadata": {},
   "outputs": [],
   "source": [
    "gdf_checkin_usa_g = gdf_checkin_usa_g.drop(COLUMN_TO_DROP,axis=1)\n",
    "gdf_checkin_usa_b = gdf_checkin_usa_b.drop(COLUMN_TO_DROP,axis=1)"
   ]
  },
  {
   "cell_type": "code",
   "execution_count": 53,
   "metadata": {},
   "outputs": [],
   "source": [
    "gdf_checkin_usa_g = gdf_checkin_usa_g.rename({'name':'States of homes'\n",
    "                                             ,'geometry_x':'geometry homes'},axis=1)\n",
    "gdf_checkin_usa_b = gdf_checkin_usa_b.rename({'name':'States of homes'\n",
    "                                             ,'geometry_x':'geometry homes'},axis=1)"
   ]
  },
  {
   "cell_type": "code",
   "execution_count": 54,
   "metadata": {},
   "outputs": [
    {
     "data": {
      "text/plain": [
       "34.64213995525386"
      ]
     },
     "execution_count": 54,
     "metadata": {},
     "output_type": "execute_result"
    }
   ],
   "source": [
    "(((2235366+3518110)/157779)*57)/60"
   ]
  },
  {
   "cell_type": "code",
   "execution_count": 55,
   "metadata": {},
   "outputs": [],
   "source": [
    "gdf_checkin_usa_g = gpd.GeoDataFrame(\n",
    "    gdf_checkin_usa_g, geometry=gpd.points_from_xy(gdf_checkin_usa_g.longitude,gdf_checkin_usa_g.latitude))\n",
    "gdf_checkin_usa_b = gpd.GeoDataFrame(\n",
    "    gdf_checkin_usa_b, geometry=gpd.points_from_xy(gdf_checkin_usa_b.longitude,gdf_checkin_usa_b.latitude))"
   ]
  },
  {
   "cell_type": "code",
   "execution_count": 56,
   "metadata": {},
   "outputs": [],
   "source": [
    "from geopandas.tools import sjoin\n",
    "#check_in_pointInStates_b = sjoin(gdf_checkin_usa_b,states, how='left')"
   ]
  },
  {
   "cell_type": "code",
   "execution_count": 57,
   "metadata": {},
   "outputs": [],
   "source": [
    "check_in_pointInStates_b = parallelize_dataframe_func(gdf_checkin_usa_b, sjoin_chunk)"
   ]
  },
  {
   "cell_type": "code",
   "execution_count": 58,
   "metadata": {},
   "outputs": [],
   "source": [
    "check_in_pointInStates_b = check_in_pointInStates_b[['user','user_house_lat','user_house_long','States of homes','geometry homes',\n",
    "                                                     'checkin_time','latitude','longitude','country','name']]\n",
    "check_in_pointInStates_b = check_in_pointInStates_b.loc[check_in_pointInStates_b['country']=='USA']"
   ]
  },
  {
   "cell_type": "code",
   "execution_count": null,
   "metadata": {},
   "outputs": [],
   "source": []
  },
  {
   "cell_type": "code",
   "execution_count": 59,
   "metadata": {},
   "outputs": [],
   "source": [
    "# check_in_pointInStates_g = sjoin(gdf_checkin_usa_g, states, how='left')\n",
    "check_in_pointInStates_g = parallelize_dataframe_func(gdf_checkin_usa_g, sjoin_chunk)"
   ]
  },
  {
   "cell_type": "code",
   "execution_count": 60,
   "metadata": {},
   "outputs": [],
   "source": [
    "check_in_pointInStates_g = check_in_pointInStates_g[['user','user_house_lat','user_house_long','States of homes','geometry homes',\n",
    "                                                     'checkin_time','latitude','longitude','country','name']]\n",
    "check_in_pointInStates_g = check_in_pointInStates_g.loc[check_in_pointInStates_g['country']=='USA']"
   ]
  },
  {
   "cell_type": "code",
   "execution_count": 61,
   "metadata": {},
   "outputs": [
    {
     "data": {
      "text/html": [
       "<div>\n",
       "<style scoped>\n",
       "    .dataframe tbody tr th:only-of-type {\n",
       "        vertical-align: middle;\n",
       "    }\n",
       "\n",
       "    .dataframe tbody tr th {\n",
       "        vertical-align: top;\n",
       "    }\n",
       "\n",
       "    .dataframe thead th {\n",
       "        text-align: right;\n",
       "    }\n",
       "</style>\n",
       "<table border=\"1\" class=\"dataframe\">\n",
       "  <thead>\n",
       "    <tr style=\"text-align: right;\">\n",
       "      <th></th>\n",
       "      <th>user</th>\n",
       "      <th>user_house_lat</th>\n",
       "      <th>user_house_long</th>\n",
       "      <th>States of homes</th>\n",
       "      <th>geometry homes</th>\n",
       "      <th>checkin_time</th>\n",
       "      <th>latitude</th>\n",
       "      <th>longitude</th>\n",
       "      <th>country</th>\n",
       "      <th>name</th>\n",
       "    </tr>\n",
       "  </thead>\n",
       "  <tbody>\n",
       "    <tr>\n",
       "      <th>1696171</th>\n",
       "      <td>13109</td>\n",
       "      <td>40.832639</td>\n",
       "      <td>-81.479077</td>\n",
       "      <td>Ohio</td>\n",
       "      <td>POINT (-81.47908 40.83264)</td>\n",
       "      <td>2010-09-22T19:01:33Z</td>\n",
       "      <td>20.894722</td>\n",
       "      <td>-156.470000</td>\n",
       "      <td>USA</td>\n",
       "      <td>Hawaii</td>\n",
       "    </tr>\n",
       "    <tr>\n",
       "      <th>281502</th>\n",
       "      <td>853</td>\n",
       "      <td>40.728488</td>\n",
       "      <td>-73.994308</td>\n",
       "      <td>New York</td>\n",
       "      <td>POINT (-73.99431 40.72849)</td>\n",
       "      <td>2010-08-01T07:07:33Z</td>\n",
       "      <td>33.926856</td>\n",
       "      <td>-118.370997</td>\n",
       "      <td>USA</td>\n",
       "      <td>California</td>\n",
       "    </tr>\n",
       "    <tr>\n",
       "      <th>468105</th>\n",
       "      <td>2001</td>\n",
       "      <td>27.777527</td>\n",
       "      <td>-82.659241</td>\n",
       "      <td>Florida</td>\n",
       "      <td>POINT (-82.65924 27.77753)</td>\n",
       "      <td>2008-07-03T04:23:13Z</td>\n",
       "      <td>38.890390</td>\n",
       "      <td>-77.084145</td>\n",
       "      <td>USA</td>\n",
       "      <td>Virginia</td>\n",
       "    </tr>\n",
       "  </tbody>\n",
       "</table>\n",
       "</div>"
      ],
      "text/plain": [
       "          user  user_house_lat  user_house_long States of homes  \\\n",
       "1696171  13109       40.832639       -81.479077            Ohio   \n",
       "281502     853       40.728488       -73.994308        New York   \n",
       "468105    2001       27.777527       -82.659241         Florida   \n",
       "\n",
       "                     geometry homes          checkin_time   latitude  \\\n",
       "1696171  POINT (-81.47908 40.83264)  2010-09-22T19:01:33Z  20.894722   \n",
       "281502   POINT (-73.99431 40.72849)  2010-08-01T07:07:33Z  33.926856   \n",
       "468105   POINT (-82.65924 27.77753)  2008-07-03T04:23:13Z  38.890390   \n",
       "\n",
       "          longitude country        name  \n",
       "1696171 -156.470000     USA      Hawaii  \n",
       "281502  -118.370997     USA  California  \n",
       "468105   -77.084145     USA    Virginia  "
      ]
     },
     "execution_count": 61,
     "metadata": {},
     "output_type": "execute_result"
    }
   ],
   "source": [
    "check_in_pointInStates_b.sample(3)"
   ]
  },
  {
   "cell_type": "code",
   "execution_count": 62,
   "metadata": {},
   "outputs": [
    {
     "data": {
      "text/html": [
       "<div>\n",
       "<style scoped>\n",
       "    .dataframe tbody tr th:only-of-type {\n",
       "        vertical-align: middle;\n",
       "    }\n",
       "\n",
       "    .dataframe tbody tr th {\n",
       "        vertical-align: top;\n",
       "    }\n",
       "\n",
       "    .dataframe thead th {\n",
       "        text-align: right;\n",
       "    }\n",
       "</style>\n",
       "<table border=\"1\" class=\"dataframe\">\n",
       "  <thead>\n",
       "    <tr style=\"text-align: right;\">\n",
       "      <th></th>\n",
       "      <th>user</th>\n",
       "      <th>user_house_lat</th>\n",
       "      <th>user_house_long</th>\n",
       "      <th>States of homes</th>\n",
       "      <th>geometry homes</th>\n",
       "      <th>checkin_time</th>\n",
       "      <th>latitude</th>\n",
       "      <th>longitude</th>\n",
       "      <th>country</th>\n",
       "      <th>name</th>\n",
       "    </tr>\n",
       "  </thead>\n",
       "  <tbody>\n",
       "    <tr>\n",
       "      <th>1651668</th>\n",
       "      <td>21389</td>\n",
       "      <td>30.268026</td>\n",
       "      <td>-97.740343</td>\n",
       "      <td>Texas</td>\n",
       "      <td>POINT (-97.74034 30.26803)</td>\n",
       "      <td>2010-03-16T01:30:48Z</td>\n",
       "      <td>30.264977</td>\n",
       "      <td>-97.746139</td>\n",
       "      <td>USA</td>\n",
       "      <td>Texas</td>\n",
       "    </tr>\n",
       "    <tr>\n",
       "      <th>3176118</th>\n",
       "      <td>125177</td>\n",
       "      <td>42.125145</td>\n",
       "      <td>-88.002458</td>\n",
       "      <td>Illinois</td>\n",
       "      <td>POINT (-88.00246 42.12515)</td>\n",
       "      <td>2010-10-17T15:52:17Z</td>\n",
       "      <td>42.178213</td>\n",
       "      <td>-87.998042</td>\n",
       "      <td>USA</td>\n",
       "      <td>Illinois</td>\n",
       "    </tr>\n",
       "    <tr>\n",
       "      <th>2456150</th>\n",
       "      <td>60002</td>\n",
       "      <td>42.384663</td>\n",
       "      <td>-72.543674</td>\n",
       "      <td>Massachusetts</td>\n",
       "      <td>POINT (-72.54367 42.38466)</td>\n",
       "      <td>2009-12-11T17:31:23Z</td>\n",
       "      <td>42.358150</td>\n",
       "      <td>-72.549894</td>\n",
       "      <td>USA</td>\n",
       "      <td>Massachusetts</td>\n",
       "    </tr>\n",
       "  </tbody>\n",
       "</table>\n",
       "</div>"
      ],
      "text/plain": [
       "           user  user_house_lat  user_house_long States of homes  \\\n",
       "1651668   21389       30.268026       -97.740343           Texas   \n",
       "3176118  125177       42.125145       -88.002458        Illinois   \n",
       "2456150   60002       42.384663       -72.543674   Massachusetts   \n",
       "\n",
       "                     geometry homes          checkin_time   latitude  \\\n",
       "1651668  POINT (-97.74034 30.26803)  2010-03-16T01:30:48Z  30.264977   \n",
       "3176118  POINT (-88.00246 42.12515)  2010-10-17T15:52:17Z  42.178213   \n",
       "2456150  POINT (-72.54367 42.38466)  2009-12-11T17:31:23Z  42.358150   \n",
       "\n",
       "         longitude country           name  \n",
       "1651668 -97.746139     USA          Texas  \n",
       "3176118 -87.998042     USA       Illinois  \n",
       "2456150 -72.549894     USA  Massachusetts  "
      ]
     },
     "execution_count": 62,
     "metadata": {},
     "output_type": "execute_result"
    }
   ],
   "source": [
    "check_in_pointInStates_g.sample(3)"
   ]
  },
  {
   "cell_type": "code",
   "execution_count": 64,
   "metadata": {},
   "outputs": [],
   "source": [
    "check_in_pointInStates_b['date'] =\\\n",
    "check_in_pointInStates_b['checkin_time'].astype(str).parallel_apply(lambda x: np.datetime64(x.split(\"T\", 1)[0]))"
   ]
  },
  {
   "cell_type": "code",
   "execution_count": 65,
   "metadata": {},
   "outputs": [],
   "source": [
    "check_in_pointInStates_g['date'] =\\\n",
    "check_in_pointInStates_g['checkin_time'].astype(str).parallel_apply(lambda x: np.datetime64(x.split(\"T\", 1)[0]))"
   ]
  },
  {
   "cell_type": "code",
   "execution_count": 66,
   "metadata": {},
   "outputs": [],
   "source": [
    "ds_tmin = xr.open_dataset(\"./InputData/coarse_tmmn.nc\")\n",
    "ds_tmax = xr.open_dataset(\"./InputData/coarse_tmmx.nc\")\n",
    "ds_pr = xr.open_dataset(\"./InputData/coarse_pr.nc\")"
   ]
  },
  {
   "cell_type": "code",
   "execution_count": 67,
   "metadata": {},
   "outputs": [],
   "source": [
    "check_in_pointInStates_b[\"tmin\"] =\\\n",
    "check_in_pointInStates_b.parallel_apply(\n",
    "    lambda df : ds_tmin.sel(day=df.date, lon=df.longitude,\n",
    "                            lat=df.latitude, method=\"nearest\",\n",
    "                            tolerance=400).get('air_temperature').data.ravel()[0],\n",
    "    axis=1)"
   ]
  },
  {
   "cell_type": "code",
   "execution_count": 68,
   "metadata": {},
   "outputs": [],
   "source": [
    "check_in_pointInStates_b[\"tmax\"] =\\\n",
    "check_in_pointInStates_b.parallel_apply(\n",
    "    lambda df : ds_tmax.sel(day=df.date, lon=df.longitude,\n",
    "                            lat=df.latitude, method=\"nearest\",\n",
    "                            tolerance=400).get('air_temperature').data.ravel()[0],\n",
    "    axis=1)"
   ]
  },
  {
   "cell_type": "code",
   "execution_count": 69,
   "metadata": {},
   "outputs": [],
   "source": [
    "check_in_pointInStates_b[\"pr\"] =\\\n",
    "check_in_pointInStates_b.parallel_apply(\n",
    "    lambda df : ds_pr.sel(day=df.date, lon=df.longitude,\n",
    "                            lat=df.latitude, method=\"nearest\",\n",
    "                            tolerance=400).get('precipitation_amount').data.ravel()[0],\n",
    "    axis=1)"
   ]
  },
  {
   "cell_type": "code",
   "execution_count": 91,
   "metadata": {},
   "outputs": [
    {
     "data": {
      "text/html": [
       "<div>\n",
       "<style scoped>\n",
       "    .dataframe tbody tr th:only-of-type {\n",
       "        vertical-align: middle;\n",
       "    }\n",
       "\n",
       "    .dataframe tbody tr th {\n",
       "        vertical-align: top;\n",
       "    }\n",
       "\n",
       "    .dataframe thead th {\n",
       "        text-align: right;\n",
       "    }\n",
       "</style>\n",
       "<table border=\"1\" class=\"dataframe\">\n",
       "  <thead>\n",
       "    <tr style=\"text-align: right;\">\n",
       "      <th></th>\n",
       "      <th>user</th>\n",
       "      <th>user_house_lat</th>\n",
       "      <th>user_house_long</th>\n",
       "      <th>States of homes</th>\n",
       "      <th>geometry homes</th>\n",
       "      <th>checkin_time</th>\n",
       "      <th>latitude</th>\n",
       "      <th>longitude</th>\n",
       "      <th>country</th>\n",
       "      <th>name</th>\n",
       "      <th>date</th>\n",
       "      <th>tmin</th>\n",
       "      <th>tmax</th>\n",
       "      <th>pr</th>\n",
       "    </tr>\n",
       "  </thead>\n",
       "  <tbody>\n",
       "    <tr>\n",
       "      <th>1789083</th>\n",
       "      <td>15679</td>\n",
       "      <td>42.004020</td>\n",
       "      <td>-91.673368</td>\n",
       "      <td>Iowa</td>\n",
       "      <td>POINT (-91.67337 42.00402)</td>\n",
       "      <td>2009-11-27T16:21:16Z</td>\n",
       "      <td>38.878034</td>\n",
       "      <td>-97.619032</td>\n",
       "      <td>USA</td>\n",
       "      <td>Kansas</td>\n",
       "      <td>2009-11-27</td>\n",
       "      <td>270.299988</td>\n",
       "      <td>289.600006</td>\n",
       "      <td>0.0</td>\n",
       "    </tr>\n",
       "    <tr>\n",
       "      <th>1625202</th>\n",
       "      <td>11587</td>\n",
       "      <td>37.391467</td>\n",
       "      <td>-122.022124</td>\n",
       "      <td>California</td>\n",
       "      <td>POINT (-122.02212 37.39147)</td>\n",
       "      <td>2009-06-30T04:15:37Z</td>\n",
       "      <td>42.071729</td>\n",
       "      <td>-75.967996</td>\n",
       "      <td>USA</td>\n",
       "      <td>New York</td>\n",
       "      <td>2009-06-30</td>\n",
       "      <td>286.799988</td>\n",
       "      <td>295.299988</td>\n",
       "      <td>9.0</td>\n",
       "    </tr>\n",
       "    <tr>\n",
       "      <th>1180506</th>\n",
       "      <td>7532</td>\n",
       "      <td>30.265064</td>\n",
       "      <td>-97.740378</td>\n",
       "      <td>Texas</td>\n",
       "      <td>POINT (-97.74038 30.26506)</td>\n",
       "      <td>2009-04-16T00:34:20Z</td>\n",
       "      <td>34.147785</td>\n",
       "      <td>-118.144515</td>\n",
       "      <td>USA</td>\n",
       "      <td>California</td>\n",
       "      <td>2009-04-16</td>\n",
       "      <td>278.299988</td>\n",
       "      <td>292.799988</td>\n",
       "      <td>0.0</td>\n",
       "    </tr>\n",
       "  </tbody>\n",
       "</table>\n",
       "</div>"
      ],
      "text/plain": [
       "          user  user_house_lat  user_house_long States of homes  \\\n",
       "1789083  15679       42.004020       -91.673368            Iowa   \n",
       "1625202  11587       37.391467      -122.022124      California   \n",
       "1180506   7532       30.265064       -97.740378           Texas   \n",
       "\n",
       "                      geometry homes          checkin_time   latitude  \\\n",
       "1789083   POINT (-91.67337 42.00402)  2009-11-27T16:21:16Z  38.878034   \n",
       "1625202  POINT (-122.02212 37.39147)  2009-06-30T04:15:37Z  42.071729   \n",
       "1180506   POINT (-97.74038 30.26506)  2009-04-16T00:34:20Z  34.147785   \n",
       "\n",
       "          longitude country        name       date        tmin        tmax  \\\n",
       "1789083  -97.619032     USA      Kansas 2009-11-27  270.299988  289.600006   \n",
       "1625202  -75.967996     USA    New York 2009-06-30  286.799988  295.299988   \n",
       "1180506 -118.144515     USA  California 2009-04-16  278.299988  292.799988   \n",
       "\n",
       "          pr  \n",
       "1789083  0.0  \n",
       "1625202  9.0  \n",
       "1180506  0.0  "
      ]
     },
     "execution_count": 91,
     "metadata": {},
     "output_type": "execute_result"
    }
   ],
   "source": [
    "check_in_pointInStates_b.sample(3)"
   ]
  },
  {
   "cell_type": "code",
   "execution_count": 71,
   "metadata": {},
   "outputs": [],
   "source": [
    "check_in_pointInStates_g[\"tmin\"] =\\\n",
    "check_in_pointInStates_g.parallel_apply(\n",
    "    lambda df : ds_tmin.sel(day=df.date, lon=df.longitude,\n",
    "                            lat=df.latitude, method=\"nearest\",\n",
    "                            tolerance=400).get('air_temperature').data.ravel()[0],\n",
    "    axis=1)"
   ]
  },
  {
   "cell_type": "code",
   "execution_count": 72,
   "metadata": {},
   "outputs": [],
   "source": [
    "check_in_pointInStates_g[\"tmax\"] =\\\n",
    "check_in_pointInStates_g.parallel_apply(\n",
    "    lambda df : ds_tmax.sel(day=df.date, lon=df.longitude,\n",
    "                            lat=df.latitude, method=\"nearest\",\n",
    "                            tolerance=400).get('air_temperature').data.ravel()[0],\n",
    "    axis=1)"
   ]
  },
  {
   "cell_type": "code",
   "execution_count": 73,
   "metadata": {},
   "outputs": [],
   "source": [
    "check_in_pointInStates_g[\"pr\"] =\\\n",
    "check_in_pointInStates_g.parallel_apply(\n",
    "    lambda df : ds_pr.sel(day=df.date, lon=df.longitude,\n",
    "                            lat=df.latitude, method=\"nearest\",\n",
    "                            tolerance=400).get('precipitation_amount').data.ravel()[0],\n",
    "    axis=1)"
   ]
  },
  {
   "cell_type": "code",
   "execution_count": 74,
   "metadata": {},
   "outputs": [
    {
     "data": {
      "text/html": [
       "<div>\n",
       "<style scoped>\n",
       "    .dataframe tbody tr th:only-of-type {\n",
       "        vertical-align: middle;\n",
       "    }\n",
       "\n",
       "    .dataframe tbody tr th {\n",
       "        vertical-align: top;\n",
       "    }\n",
       "\n",
       "    .dataframe thead th {\n",
       "        text-align: right;\n",
       "    }\n",
       "</style>\n",
       "<table border=\"1\" class=\"dataframe\">\n",
       "  <thead>\n",
       "    <tr style=\"text-align: right;\">\n",
       "      <th></th>\n",
       "      <th>user</th>\n",
       "      <th>user_house_lat</th>\n",
       "      <th>user_house_long</th>\n",
       "      <th>States of homes</th>\n",
       "      <th>geometry homes</th>\n",
       "      <th>checkin_time</th>\n",
       "      <th>latitude</th>\n",
       "      <th>longitude</th>\n",
       "      <th>country</th>\n",
       "      <th>name</th>\n",
       "      <th>date</th>\n",
       "      <th>tmin</th>\n",
       "      <th>tmax</th>\n",
       "      <th>pr</th>\n",
       "    </tr>\n",
       "  </thead>\n",
       "  <tbody>\n",
       "    <tr>\n",
       "      <th>2671750</th>\n",
       "      <td>79251</td>\n",
       "      <td>37.162747</td>\n",
       "      <td>-93.249949</td>\n",
       "      <td>Missouri</td>\n",
       "      <td>POINT (-93.24995 37.16275)</td>\n",
       "      <td>2010-09-30T21:17:26Z</td>\n",
       "      <td>37.148580</td>\n",
       "      <td>-93.239133</td>\n",
       "      <td>USA</td>\n",
       "      <td>Missouri</td>\n",
       "      <td>2010-09-30</td>\n",
       "      <td>280.100006</td>\n",
       "      <td>296.500000</td>\n",
       "      <td>0.0</td>\n",
       "    </tr>\n",
       "    <tr>\n",
       "      <th>2747688</th>\n",
       "      <td>90131</td>\n",
       "      <td>29.543397</td>\n",
       "      <td>-95.131387</td>\n",
       "      <td>Texas</td>\n",
       "      <td>POINT (-95.13139 29.54340)</td>\n",
       "      <td>2010-05-16T16:20:08Z</td>\n",
       "      <td>29.648732</td>\n",
       "      <td>-95.113934</td>\n",
       "      <td>USA</td>\n",
       "      <td>Texas</td>\n",
       "      <td>2010-05-16</td>\n",
       "      <td>293.799988</td>\n",
       "      <td>302.600006</td>\n",
       "      <td>0.0</td>\n",
       "    </tr>\n",
       "    <tr>\n",
       "      <th>1224530</th>\n",
       "      <td>10440</td>\n",
       "      <td>41.715923</td>\n",
       "      <td>-88.298020</td>\n",
       "      <td>Illinois</td>\n",
       "      <td>POINT (-88.29802 41.71592)</td>\n",
       "      <td>2010-03-16T17:34:01Z</td>\n",
       "      <td>41.705971</td>\n",
       "      <td>-87.987160</td>\n",
       "      <td>USA</td>\n",
       "      <td>Illinois</td>\n",
       "      <td>2010-03-16</td>\n",
       "      <td>272.299988</td>\n",
       "      <td>289.500000</td>\n",
       "      <td>0.0</td>\n",
       "    </tr>\n",
       "    <tr>\n",
       "      <th>363492</th>\n",
       "      <td>1732</td>\n",
       "      <td>41.246431</td>\n",
       "      <td>-96.015587</td>\n",
       "      <td>Nebraska</td>\n",
       "      <td>POINT (-96.01559 41.24643)</td>\n",
       "      <td>2010-07-23T16:26:53Z</td>\n",
       "      <td>44.947495</td>\n",
       "      <td>-93.096417</td>\n",
       "      <td>USA</td>\n",
       "      <td>Minnesota</td>\n",
       "      <td>2010-07-23</td>\n",
       "      <td>290.500000</td>\n",
       "      <td>301.799988</td>\n",
       "      <td>10.1</td>\n",
       "    </tr>\n",
       "    <tr>\n",
       "      <th>1471856</th>\n",
       "      <td>15881</td>\n",
       "      <td>37.975429</td>\n",
       "      <td>-87.565607</td>\n",
       "      <td>Indiana</td>\n",
       "      <td>POINT (-87.56561 37.97543)</td>\n",
       "      <td>2010-06-03T20:23:37Z</td>\n",
       "      <td>37.979229</td>\n",
       "      <td>-87.566913</td>\n",
       "      <td>USA</td>\n",
       "      <td>Indiana</td>\n",
       "      <td>2010-06-03</td>\n",
       "      <td>293.000000</td>\n",
       "      <td>304.100006</td>\n",
       "      <td>0.0</td>\n",
       "    </tr>\n",
       "  </tbody>\n",
       "</table>\n",
       "</div>"
      ],
      "text/plain": [
       "          user  user_house_lat  user_house_long States of homes  \\\n",
       "2671750  79251       37.162747       -93.249949        Missouri   \n",
       "2747688  90131       29.543397       -95.131387           Texas   \n",
       "1224530  10440       41.715923       -88.298020        Illinois   \n",
       "363492    1732       41.246431       -96.015587        Nebraska   \n",
       "1471856  15881       37.975429       -87.565607         Indiana   \n",
       "\n",
       "                     geometry homes          checkin_time   latitude  \\\n",
       "2671750  POINT (-93.24995 37.16275)  2010-09-30T21:17:26Z  37.148580   \n",
       "2747688  POINT (-95.13139 29.54340)  2010-05-16T16:20:08Z  29.648732   \n",
       "1224530  POINT (-88.29802 41.71592)  2010-03-16T17:34:01Z  41.705971   \n",
       "363492   POINT (-96.01559 41.24643)  2010-07-23T16:26:53Z  44.947495   \n",
       "1471856  POINT (-87.56561 37.97543)  2010-06-03T20:23:37Z  37.979229   \n",
       "\n",
       "         longitude country       name       date        tmin        tmax    pr  \n",
       "2671750 -93.239133     USA   Missouri 2010-09-30  280.100006  296.500000   0.0  \n",
       "2747688 -95.113934     USA      Texas 2010-05-16  293.799988  302.600006   0.0  \n",
       "1224530 -87.987160     USA   Illinois 2010-03-16  272.299988  289.500000   0.0  \n",
       "363492  -93.096417     USA  Minnesota 2010-07-23  290.500000  301.799988  10.1  \n",
       "1471856 -87.566913     USA    Indiana 2010-06-03  293.000000  304.100006   0.0  "
      ]
     },
     "execution_count": 74,
     "metadata": {},
     "output_type": "execute_result"
    }
   ],
   "source": [
    "check_in_pointInStates_g.sample(5)"
   ]
  },
  {
   "cell_type": "code",
   "execution_count": 96,
   "metadata": {},
   "outputs": [],
   "source": [
    "check_in_pointInStates_b.dropna(inplace=True)\n",
    "check_in_pointInStates_g.dropna(inplace=True)"
   ]
  },
  {
   "cell_type": "code",
   "execution_count": 75,
   "metadata": {},
   "outputs": [],
   "source": [
    "check_in_pointInStates_b.to_csv('home_and_checkin_with_states_bright.csv')\n",
    "check_in_pointInStates_g.to_csv('home_and_checkin_with_states_gowalla.csv')"
   ]
  },
  {
   "cell_type": "code",
   "execution_count": null,
   "metadata": {},
   "outputs": [],
   "source": []
  }
 ],
 "metadata": {
  "kernelspec": {
   "display_name": "Python 3",
   "language": "python",
   "name": "python3"
  },
  "language_info": {
   "codemirror_mode": {
    "name": "ipython",
    "version": 3
   },
   "file_extension": ".py",
   "mimetype": "text/x-python",
   "name": "python",
   "nbconvert_exporter": "python",
   "pygments_lexer": "ipython3",
   "version": "3.8.6"
  }
 },
 "nbformat": 4,
 "nbformat_minor": 4
}
