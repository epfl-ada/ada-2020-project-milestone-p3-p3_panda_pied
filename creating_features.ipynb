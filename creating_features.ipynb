{
 "cells": [
  {
   "cell_type": "markdown",
   "metadata": {},
   "source": [
    "### Generate Statistics:\n",
    "\n",
    "**Daily average traveled distance (scaled by user)**\n",
    "\n",
    "We will also look at the daily average traveled distance.\n",
    "\n",
    "\n",
    "**Daily movement entropy**\n",
    "\n",
    "Calculate movement entropy and its temporal variation in a year span.\n",
    "\n",
    "\n",
    "**Daily count of check-ins (scaled by user)**\n",
    "\n",
    "We will number the check-ins during a day in a year span."
   ]
  },
  {
   "cell_type": "code",
   "execution_count": 69,
   "metadata": {
    "scrolled": true
   },
   "outputs": [
    {
     "name": "stdout",
     "output_type": "stream",
     "text": [
      "INFO: Pandarallel will run on 7 workers.\n",
      "INFO: Pandarallel will use standard multiprocessing data transfer (pipe) to transfer data between the main process and workers.\n"
     ]
    }
   ],
   "source": [
    "import numpy as np\n",
    "import pandas as pd\n",
    "import matplotlib.pyplot as plt # needed for plotting\n",
    "import geopandas as gpd # for Geo-location filtering\n",
    "from netCDF4 import Dataset as nc  # for loading standard climate date format (nc extension)\n",
    "import netCDF4 # for loading standard climate date format (nc extension)\n",
    "import xarray as xr # for handling climate data\n",
    "from pandarallel import pandarallel # for running pandas functions in parallel\n",
    "import multiprocessing # for general parallelizing of codes\n",
    "from tqdm import tqdm # for having progres bar\n",
    "from functools import partial # for full control over handling function arguemnts\n",
    "pandarallel.initialize(nb_workers=multiprocessing.cpu_count()-1)"
   ]
  },
  {
   "cell_type": "code",
   "execution_count": 52,
   "metadata": {
    "scrolled": false
   },
   "outputs": [],
   "source": [
    "from datetime import datetime, date\n",
    "from scipy import stats\n",
    "import holidays\n",
    "tqdm.pandas()"
   ]
  },
  {
   "cell_type": "code",
   "execution_count": 53,
   "metadata": {},
   "outputs": [],
   "source": [
    "PATH_GOWALLA = 'data/home_and_checkin_with_states_gowalla.csv'\n",
    "PATH_BRIGHT = 'data/home_and_checkin_with_states_bright.csv'\n",
    "df_gowalla = pd.read_csv(PATH_GOWALLA)\n",
    "df_bright = pd.read_csv(PATH_BRIGHT)"
   ]
  },
  {
   "cell_type": "code",
   "execution_count": 54,
   "metadata": {},
   "outputs": [],
   "source": [
    "PATH_GOWALLA2 = 'data/cck_in_USA_user_g.csv'\n",
    "PATH_BRIGHT2 = 'data/cck_in_USA_user_b.csv'\n",
    "df_gowalla2 = pd.read_csv(PATH_GOWALLA2)\n",
    "df_bright2 = pd.read_csv(PATH_BRIGHT2)"
   ]
  },
  {
   "cell_type": "code",
   "execution_count": 55,
   "metadata": {},
   "outputs": [],
   "source": [
    "df_gowalla = df_gowalla.drop(['Unnamed: 0'], axis=1)\n",
    "df_bright = df_bright.drop(['Unnamed: 0'], axis=1)\n",
    "df_gowalla2 = df_gowalla2.drop(['Unnamed: 0'], axis=1)\n",
    "df_bright2 = df_bright2.drop(['Unnamed: 0'], axis=1)"
   ]
  },
  {
   "cell_type": "code",
   "execution_count": 63,
   "metadata": {},
   "outputs": [
    {
     "data": {
      "text/plain": [
       "29881"
      ]
     },
     "execution_count": 63,
     "metadata": {},
     "output_type": "execute_result"
    }
   ],
   "source": [
    "len(df_bright2['user'].unique())"
   ]
  },
  {
   "cell_type": "code",
   "execution_count": 64,
   "metadata": {},
   "outputs": [
    {
     "data": {
      "text/plain": [
       "13354"
      ]
     },
     "execution_count": 64,
     "metadata": {},
     "output_type": "execute_result"
    }
   ],
   "source": [
    "len(df_bright['user'].unique())"
   ]
  },
  {
   "cell_type": "code",
   "execution_count": 58,
   "metadata": {},
   "outputs": [
    {
     "data": {
      "text/plain": [
       "49605"
      ]
     },
     "execution_count": 58,
     "metadata": {},
     "output_type": "execute_result"
    }
   ],
   "source": [
    "len(df_gowalla2['user'].unique())"
   ]
  },
  {
   "cell_type": "code",
   "execution_count": 59,
   "metadata": {},
   "outputs": [
    {
     "data": {
      "text/plain": [
       "49605"
      ]
     },
     "execution_count": 59,
     "metadata": {},
     "output_type": "execute_result"
    }
   ],
   "source": [
    "len(df_gowalla['user'].unique())"
   ]
  },
  {
   "cell_type": "markdown",
   "metadata": {},
   "source": [
    "## Holidays"
   ]
  },
  {
   "cell_type": "code",
   "execution_count": 6,
   "metadata": {},
   "outputs": [
    {
     "ename": "KeyError",
     "evalue": "'date'",
     "output_type": "error",
     "traceback": [
      "\u001b[0;31m---------------------------------------------------------------------------\u001b[0m",
      "\u001b[0;31mKeyError\u001b[0m                                  Traceback (most recent call last)",
      "\u001b[0;32m~/Documents/EPFL/2020_fall/ada_final_project/venv/lib/python3.8/site-packages/pandas/core/indexes/base.py\u001b[0m in \u001b[0;36mget_loc\u001b[0;34m(self, key, method, tolerance)\u001b[0m\n\u001b[1;32m   2894\u001b[0m             \u001b[0;32mtry\u001b[0m\u001b[0;34m:\u001b[0m\u001b[0;34m\u001b[0m\u001b[0;34m\u001b[0m\u001b[0m\n\u001b[0;32m-> 2895\u001b[0;31m                 \u001b[0;32mreturn\u001b[0m \u001b[0mself\u001b[0m\u001b[0;34m.\u001b[0m\u001b[0m_engine\u001b[0m\u001b[0;34m.\u001b[0m\u001b[0mget_loc\u001b[0m\u001b[0;34m(\u001b[0m\u001b[0mcasted_key\u001b[0m\u001b[0;34m)\u001b[0m\u001b[0;34m\u001b[0m\u001b[0;34m\u001b[0m\u001b[0m\n\u001b[0m\u001b[1;32m   2896\u001b[0m             \u001b[0;32mexcept\u001b[0m \u001b[0mKeyError\u001b[0m \u001b[0;32mas\u001b[0m \u001b[0merr\u001b[0m\u001b[0;34m:\u001b[0m\u001b[0;34m\u001b[0m\u001b[0;34m\u001b[0m\u001b[0m\n",
      "\u001b[0;32mpandas/_libs/index.pyx\u001b[0m in \u001b[0;36mpandas._libs.index.IndexEngine.get_loc\u001b[0;34m()\u001b[0m\n",
      "\u001b[0;32mpandas/_libs/index.pyx\u001b[0m in \u001b[0;36mpandas._libs.index.IndexEngine.get_loc\u001b[0;34m()\u001b[0m\n",
      "\u001b[0;32mpandas/_libs/hashtable_class_helper.pxi\u001b[0m in \u001b[0;36mpandas._libs.hashtable.PyObjectHashTable.get_item\u001b[0;34m()\u001b[0m\n",
      "\u001b[0;32mpandas/_libs/hashtable_class_helper.pxi\u001b[0m in \u001b[0;36mpandas._libs.hashtable.PyObjectHashTable.get_item\u001b[0;34m()\u001b[0m\n",
      "\u001b[0;31mKeyError\u001b[0m: 'date'",
      "\nThe above exception was the direct cause of the following exception:\n",
      "\u001b[0;31mKeyError\u001b[0m                                  Traceback (most recent call last)",
      "\u001b[0;32m<ipython-input-6-8509ed869b6a>\u001b[0m in \u001b[0;36m<module>\u001b[0;34m\u001b[0m\n\u001b[0;32m----> 1\u001b[0;31m \u001b[0mdf_gowalla\u001b[0m\u001b[0;34m[\u001b[0m\u001b[0;34m'date'\u001b[0m\u001b[0;34m]\u001b[0m \u001b[0;34m=\u001b[0m \u001b[0mpd\u001b[0m\u001b[0;34m.\u001b[0m\u001b[0mto_datetime\u001b[0m\u001b[0;34m(\u001b[0m\u001b[0mdf_gowalla\u001b[0m\u001b[0;34m[\u001b[0m\u001b[0;34m'date'\u001b[0m\u001b[0;34m]\u001b[0m\u001b[0;34m,\u001b[0m \u001b[0mformat\u001b[0m \u001b[0;34m=\u001b[0m \u001b[0;34m'%Y-%m-%d'\u001b[0m\u001b[0;34m)\u001b[0m\u001b[0;34m\u001b[0m\u001b[0;34m\u001b[0m\u001b[0m\n\u001b[0m\u001b[1;32m      2\u001b[0m \u001b[0mdf_bright\u001b[0m\u001b[0;34m[\u001b[0m\u001b[0;34m'date'\u001b[0m\u001b[0;34m]\u001b[0m \u001b[0;34m=\u001b[0m \u001b[0mpd\u001b[0m\u001b[0;34m.\u001b[0m\u001b[0mto_datetime\u001b[0m\u001b[0;34m(\u001b[0m\u001b[0mdf_bright\u001b[0m\u001b[0;34m[\u001b[0m\u001b[0;34m'date'\u001b[0m\u001b[0;34m]\u001b[0m\u001b[0;34m,\u001b[0m \u001b[0mformat\u001b[0m \u001b[0;34m=\u001b[0m \u001b[0;34m'%Y-%m-%d'\u001b[0m\u001b[0;34m)\u001b[0m\u001b[0;34m\u001b[0m\u001b[0;34m\u001b[0m\u001b[0m\n",
      "\u001b[0;32m~/Documents/EPFL/2020_fall/ada_final_project/venv/lib/python3.8/site-packages/pandas/core/frame.py\u001b[0m in \u001b[0;36m__getitem__\u001b[0;34m(self, key)\u001b[0m\n\u001b[1;32m   2904\u001b[0m             \u001b[0;32mif\u001b[0m \u001b[0mself\u001b[0m\u001b[0;34m.\u001b[0m\u001b[0mcolumns\u001b[0m\u001b[0;34m.\u001b[0m\u001b[0mnlevels\u001b[0m \u001b[0;34m>\u001b[0m \u001b[0;36m1\u001b[0m\u001b[0;34m:\u001b[0m\u001b[0;34m\u001b[0m\u001b[0;34m\u001b[0m\u001b[0m\n\u001b[1;32m   2905\u001b[0m                 \u001b[0;32mreturn\u001b[0m \u001b[0mself\u001b[0m\u001b[0;34m.\u001b[0m\u001b[0m_getitem_multilevel\u001b[0m\u001b[0;34m(\u001b[0m\u001b[0mkey\u001b[0m\u001b[0;34m)\u001b[0m\u001b[0;34m\u001b[0m\u001b[0;34m\u001b[0m\u001b[0m\n\u001b[0;32m-> 2906\u001b[0;31m             \u001b[0mindexer\u001b[0m \u001b[0;34m=\u001b[0m \u001b[0mself\u001b[0m\u001b[0;34m.\u001b[0m\u001b[0mcolumns\u001b[0m\u001b[0;34m.\u001b[0m\u001b[0mget_loc\u001b[0m\u001b[0;34m(\u001b[0m\u001b[0mkey\u001b[0m\u001b[0;34m)\u001b[0m\u001b[0;34m\u001b[0m\u001b[0;34m\u001b[0m\u001b[0m\n\u001b[0m\u001b[1;32m   2907\u001b[0m             \u001b[0;32mif\u001b[0m \u001b[0mis_integer\u001b[0m\u001b[0;34m(\u001b[0m\u001b[0mindexer\u001b[0m\u001b[0;34m)\u001b[0m\u001b[0;34m:\u001b[0m\u001b[0;34m\u001b[0m\u001b[0;34m\u001b[0m\u001b[0m\n\u001b[1;32m   2908\u001b[0m                 \u001b[0mindexer\u001b[0m \u001b[0;34m=\u001b[0m \u001b[0;34m[\u001b[0m\u001b[0mindexer\u001b[0m\u001b[0;34m]\u001b[0m\u001b[0;34m\u001b[0m\u001b[0;34m\u001b[0m\u001b[0m\n",
      "\u001b[0;32m~/Documents/EPFL/2020_fall/ada_final_project/venv/lib/python3.8/site-packages/pandas/core/indexes/base.py\u001b[0m in \u001b[0;36mget_loc\u001b[0;34m(self, key, method, tolerance)\u001b[0m\n\u001b[1;32m   2895\u001b[0m                 \u001b[0;32mreturn\u001b[0m \u001b[0mself\u001b[0m\u001b[0;34m.\u001b[0m\u001b[0m_engine\u001b[0m\u001b[0;34m.\u001b[0m\u001b[0mget_loc\u001b[0m\u001b[0;34m(\u001b[0m\u001b[0mcasted_key\u001b[0m\u001b[0;34m)\u001b[0m\u001b[0;34m\u001b[0m\u001b[0;34m\u001b[0m\u001b[0m\n\u001b[1;32m   2896\u001b[0m             \u001b[0;32mexcept\u001b[0m \u001b[0mKeyError\u001b[0m \u001b[0;32mas\u001b[0m \u001b[0merr\u001b[0m\u001b[0;34m:\u001b[0m\u001b[0;34m\u001b[0m\u001b[0;34m\u001b[0m\u001b[0m\n\u001b[0;32m-> 2897\u001b[0;31m                 \u001b[0;32mraise\u001b[0m \u001b[0mKeyError\u001b[0m\u001b[0;34m(\u001b[0m\u001b[0mkey\u001b[0m\u001b[0;34m)\u001b[0m \u001b[0;32mfrom\u001b[0m \u001b[0merr\u001b[0m\u001b[0;34m\u001b[0m\u001b[0;34m\u001b[0m\u001b[0m\n\u001b[0m\u001b[1;32m   2898\u001b[0m \u001b[0;34m\u001b[0m\u001b[0m\n\u001b[1;32m   2899\u001b[0m         \u001b[0;32mif\u001b[0m \u001b[0mtolerance\u001b[0m \u001b[0;32mis\u001b[0m \u001b[0;32mnot\u001b[0m \u001b[0;32mNone\u001b[0m\u001b[0;34m:\u001b[0m\u001b[0;34m\u001b[0m\u001b[0;34m\u001b[0m\u001b[0m\n",
      "\u001b[0;31mKeyError\u001b[0m: 'date'"
     ]
    }
   ],
   "source": [
    "df_gowalla['date'] = pd.to_datetime(df_gowalla['date'], format = '%Y-%m-%d')\n",
    "df_bright['date'] = pd.to_datetime(df_bright['date'], format = '%Y-%m-%d')"
   ]
  },
  {
   "cell_type": "code",
   "execution_count": null,
   "metadata": {},
   "outputs": [],
   "source": [
    "df_gowalla['us_holiday'] = df_gowalla['date'].progress_apply(us_holidays.get)"
   ]
  },
  {
   "cell_type": "code",
   "execution_count": 7,
   "metadata": {
    "scrolled": true
   },
   "outputs": [
    {
     "ename": "KeyError",
     "evalue": "'date'",
     "output_type": "error",
     "traceback": [
      "\u001b[0;31m---------------------------------------------------------------------------\u001b[0m",
      "\u001b[0;31mKeyError\u001b[0m                                  Traceback (most recent call last)",
      "\u001b[0;32m~/Documents/EPFL/2020_fall/ada_final_project/venv/lib/python3.8/site-packages/pandas/core/indexes/base.py\u001b[0m in \u001b[0;36mget_loc\u001b[0;34m(self, key, method, tolerance)\u001b[0m\n\u001b[1;32m   2894\u001b[0m             \u001b[0;32mtry\u001b[0m\u001b[0;34m:\u001b[0m\u001b[0;34m\u001b[0m\u001b[0;34m\u001b[0m\u001b[0m\n\u001b[0;32m-> 2895\u001b[0;31m                 \u001b[0;32mreturn\u001b[0m \u001b[0mself\u001b[0m\u001b[0;34m.\u001b[0m\u001b[0m_engine\u001b[0m\u001b[0;34m.\u001b[0m\u001b[0mget_loc\u001b[0m\u001b[0;34m(\u001b[0m\u001b[0mcasted_key\u001b[0m\u001b[0;34m)\u001b[0m\u001b[0;34m\u001b[0m\u001b[0;34m\u001b[0m\u001b[0m\n\u001b[0m\u001b[1;32m   2896\u001b[0m             \u001b[0;32mexcept\u001b[0m \u001b[0mKeyError\u001b[0m \u001b[0;32mas\u001b[0m \u001b[0merr\u001b[0m\u001b[0;34m:\u001b[0m\u001b[0;34m\u001b[0m\u001b[0;34m\u001b[0m\u001b[0m\n",
      "\u001b[0;32mpandas/_libs/index.pyx\u001b[0m in \u001b[0;36mpandas._libs.index.IndexEngine.get_loc\u001b[0;34m()\u001b[0m\n",
      "\u001b[0;32mpandas/_libs/index.pyx\u001b[0m in \u001b[0;36mpandas._libs.index.IndexEngine.get_loc\u001b[0;34m()\u001b[0m\n",
      "\u001b[0;32mpandas/_libs/hashtable_class_helper.pxi\u001b[0m in \u001b[0;36mpandas._libs.hashtable.PyObjectHashTable.get_item\u001b[0;34m()\u001b[0m\n",
      "\u001b[0;32mpandas/_libs/hashtable_class_helper.pxi\u001b[0m in \u001b[0;36mpandas._libs.hashtable.PyObjectHashTable.get_item\u001b[0;34m()\u001b[0m\n",
      "\u001b[0;31mKeyError\u001b[0m: 'date'",
      "\nThe above exception was the direct cause of the following exception:\n",
      "\u001b[0;31mKeyError\u001b[0m                                  Traceback (most recent call last)",
      "\u001b[0;32m<ipython-input-7-90b82b446ded>\u001b[0m in \u001b[0;36m<module>\u001b[0;34m\u001b[0m\n\u001b[0;32m----> 1\u001b[0;31m \u001b[0mdf_bright\u001b[0m\u001b[0;34m[\u001b[0m\u001b[0;34m'us_holiday'\u001b[0m\u001b[0;34m]\u001b[0m \u001b[0;34m=\u001b[0m \u001b[0mdf_bright\u001b[0m\u001b[0;34m[\u001b[0m\u001b[0;34m'date'\u001b[0m\u001b[0;34m]\u001b[0m\u001b[0;34m.\u001b[0m\u001b[0mprogress_apply\u001b[0m\u001b[0;34m(\u001b[0m\u001b[0mus_holidays\u001b[0m\u001b[0;34m.\u001b[0m\u001b[0mget\u001b[0m\u001b[0;34m)\u001b[0m\u001b[0;34m\u001b[0m\u001b[0;34m\u001b[0m\u001b[0m\n\u001b[0m",
      "\u001b[0;32m~/Documents/EPFL/2020_fall/ada_final_project/venv/lib/python3.8/site-packages/pandas/core/frame.py\u001b[0m in \u001b[0;36m__getitem__\u001b[0;34m(self, key)\u001b[0m\n\u001b[1;32m   2904\u001b[0m             \u001b[0;32mif\u001b[0m \u001b[0mself\u001b[0m\u001b[0;34m.\u001b[0m\u001b[0mcolumns\u001b[0m\u001b[0;34m.\u001b[0m\u001b[0mnlevels\u001b[0m \u001b[0;34m>\u001b[0m \u001b[0;36m1\u001b[0m\u001b[0;34m:\u001b[0m\u001b[0;34m\u001b[0m\u001b[0;34m\u001b[0m\u001b[0m\n\u001b[1;32m   2905\u001b[0m                 \u001b[0;32mreturn\u001b[0m \u001b[0mself\u001b[0m\u001b[0;34m.\u001b[0m\u001b[0m_getitem_multilevel\u001b[0m\u001b[0;34m(\u001b[0m\u001b[0mkey\u001b[0m\u001b[0;34m)\u001b[0m\u001b[0;34m\u001b[0m\u001b[0;34m\u001b[0m\u001b[0m\n\u001b[0;32m-> 2906\u001b[0;31m             \u001b[0mindexer\u001b[0m \u001b[0;34m=\u001b[0m \u001b[0mself\u001b[0m\u001b[0;34m.\u001b[0m\u001b[0mcolumns\u001b[0m\u001b[0;34m.\u001b[0m\u001b[0mget_loc\u001b[0m\u001b[0;34m(\u001b[0m\u001b[0mkey\u001b[0m\u001b[0;34m)\u001b[0m\u001b[0;34m\u001b[0m\u001b[0;34m\u001b[0m\u001b[0m\n\u001b[0m\u001b[1;32m   2907\u001b[0m             \u001b[0;32mif\u001b[0m \u001b[0mis_integer\u001b[0m\u001b[0;34m(\u001b[0m\u001b[0mindexer\u001b[0m\u001b[0;34m)\u001b[0m\u001b[0;34m:\u001b[0m\u001b[0;34m\u001b[0m\u001b[0;34m\u001b[0m\u001b[0m\n\u001b[1;32m   2908\u001b[0m                 \u001b[0mindexer\u001b[0m \u001b[0;34m=\u001b[0m \u001b[0;34m[\u001b[0m\u001b[0mindexer\u001b[0m\u001b[0;34m]\u001b[0m\u001b[0;34m\u001b[0m\u001b[0;34m\u001b[0m\u001b[0m\n",
      "\u001b[0;32m~/Documents/EPFL/2020_fall/ada_final_project/venv/lib/python3.8/site-packages/pandas/core/indexes/base.py\u001b[0m in \u001b[0;36mget_loc\u001b[0;34m(self, key, method, tolerance)\u001b[0m\n\u001b[1;32m   2895\u001b[0m                 \u001b[0;32mreturn\u001b[0m \u001b[0mself\u001b[0m\u001b[0;34m.\u001b[0m\u001b[0m_engine\u001b[0m\u001b[0;34m.\u001b[0m\u001b[0mget_loc\u001b[0m\u001b[0;34m(\u001b[0m\u001b[0mcasted_key\u001b[0m\u001b[0;34m)\u001b[0m\u001b[0;34m\u001b[0m\u001b[0;34m\u001b[0m\u001b[0m\n\u001b[1;32m   2896\u001b[0m             \u001b[0;32mexcept\u001b[0m \u001b[0mKeyError\u001b[0m \u001b[0;32mas\u001b[0m \u001b[0merr\u001b[0m\u001b[0;34m:\u001b[0m\u001b[0;34m\u001b[0m\u001b[0;34m\u001b[0m\u001b[0m\n\u001b[0;32m-> 2897\u001b[0;31m                 \u001b[0;32mraise\u001b[0m \u001b[0mKeyError\u001b[0m\u001b[0;34m(\u001b[0m\u001b[0mkey\u001b[0m\u001b[0;34m)\u001b[0m \u001b[0;32mfrom\u001b[0m \u001b[0merr\u001b[0m\u001b[0;34m\u001b[0m\u001b[0;34m\u001b[0m\u001b[0m\n\u001b[0m\u001b[1;32m   2898\u001b[0m \u001b[0;34m\u001b[0m\u001b[0m\n\u001b[1;32m   2899\u001b[0m         \u001b[0;32mif\u001b[0m \u001b[0mtolerance\u001b[0m \u001b[0;32mis\u001b[0m \u001b[0;32mnot\u001b[0m \u001b[0;32mNone\u001b[0m\u001b[0;34m:\u001b[0m\u001b[0;34m\u001b[0m\u001b[0;34m\u001b[0m\u001b[0m\n",
      "\u001b[0;31mKeyError\u001b[0m: 'date'"
     ]
    }
   ],
   "source": [
    "df_bright['us_holiday'] = df_bright['date'].progress_apply(us_holidays.get)"
   ]
  },
  {
   "cell_type": "code",
   "execution_count": 382,
   "metadata": {},
   "outputs": [
    {
     "data": {
      "text/plain": [
       "Timestamp('2010-10-23 00:00:00')"
      ]
     },
     "execution_count": 382,
     "metadata": {},
     "output_type": "execute_result"
    }
   ],
   "source": [
    "df_gowalla['date'].max()"
   ]
  },
  {
   "cell_type": "markdown",
   "metadata": {},
   "source": [
    "## Seasons:"
   ]
  },
  {
   "cell_type": "markdown",
   "metadata": {},
   "source": [
    "Northern Hemisphere for local time of Denver, CO.\n",
    "https://www.calendardate.com/year2009.php"
   ]
  },
  {
   "cell_type": "code",
   "execution_count": 383,
   "metadata": {},
   "outputs": [],
   "source": [
    "def seasons(date):\n",
    "    \n",
    "    spring_2008 = datetime.strptime('2008-03-19', '%Y-%m-%d')\n",
    "    summer_2008 = datetime.strptime('2008-06-20', '%Y-%m-%d')\n",
    "    autumn_2008 = datetime.strptime('2008-09-22', '%Y-%m-%d')\n",
    "    winter_2008 = datetime.strptime('2008-12-21', '%Y-%m-%d')\n",
    "    spring_2009 = datetime.strptime('2009-03-20', '%Y-%m-%d')\n",
    "    summer_2009 = datetime.strptime('2009-06-20', '%Y-%m-%d')\n",
    "    autumn_2009 = datetime.strptime('2009-09-22', '%Y-%m-%d')\n",
    "    winter_2009 = datetime.strptime('2009-12-21', '%Y-%m-%d')\n",
    "    spring_2010 = datetime.strptime('2010-03-20', '%Y-%m-%d')\n",
    "    summer_2010 = datetime.strptime('2010-06-21', '%Y-%m-%d')\n",
    "    autumn_2010 = datetime.strptime('2010-09-22', '%Y-%m-%d')\n",
    "    winter_2010 = datetime.strptime('2010-12-21', '%Y-%m-%d')\n",
    "    \n",
    "    if spring_2008 >= date:\n",
    "        return 'winter_2007'\n",
    "    elif summer_2008 >= date:\n",
    "        return 'spring_2008'\n",
    "    elif autumn_2008 >= date:\n",
    "        return 'summer_2008'\n",
    "    elif winter_2008 >= date:\n",
    "        return 'autumn_2008'\n",
    "    elif spring_2009 >= date:\n",
    "        return 'winter_2008'\n",
    "    elif summer_2009 >= date:\n",
    "        return 'spring_2009'\n",
    "    elif autumn_2009 >= date:\n",
    "        return 'summer_2009'\n",
    "    elif winter_2009 >= date:\n",
    "        return 'autumn_2009'\n",
    "    elif spring_2010 >= date:\n",
    "        return 'winter_2010'\n",
    "    elif summer_2010 >= date:\n",
    "        return 'spring_2010'\n",
    "    elif autumn_2010 >= date:\n",
    "        return 'summer_2010' \n",
    "    elif winter_2010 >= date:\n",
    "        return 'autumn_2010'\n",
    "    else:\n",
    "        return np.nan"
   ]
  },
  {
   "cell_type": "code",
   "execution_count": 348,
   "metadata": {
    "scrolled": true
   },
   "outputs": [
    {
     "name": "stderr",
     "output_type": "stream",
     "text": [
      "100%|██████████| 3484212/3484212 [03:42<00:00, 15627.33it/s]\n"
     ]
    }
   ],
   "source": [
    "#Check that this is working correctly!!!\n",
    "df_gowalla['season'] = df_gowalla['date'].progress_apply(seasons)"
   ]
  },
  {
   "cell_type": "code",
   "execution_count": 343,
   "metadata": {},
   "outputs": [
    {
     "name": "stderr",
     "output_type": "stream",
     "text": [
      "100%|██████████| 1491726/1491726 [01:29<00:00, 16587.26it/s]\n"
     ]
    }
   ],
   "source": [
    "df_bright['season'] = df_bright['date'].progress_apply(seasons)"
   ]
  },
  {
   "cell_type": "code",
   "execution_count": 350,
   "metadata": {
    "scrolled": true
   },
   "outputs": [
    {
     "data": {
      "text/plain": [
       "autumn_2010    1272736\n",
       "summer_2010     943382\n",
       "spring_2010     646639\n",
       "winter_2009     170361\n",
       "autumn_2009       5483\n",
       "summer_2009       2158\n",
       "spring_2009        668\n",
       "Name: season, dtype: int64"
      ]
     },
     "execution_count": 350,
     "metadata": {},
     "output_type": "execute_result"
    }
   ],
   "source": [
    "df_gowalla['season'].value_counts()"
   ]
  },
  {
   "cell_type": "code",
   "execution_count": 351,
   "metadata": {},
   "outputs": [
    {
     "data": {
      "text/plain": [
       "winter_2008    454114\n",
       "spring_2009    237521\n",
       "summer_2009    230366\n",
       "autumn_2009    224550\n",
       "winter_2009    118887\n",
       "spring_2010     80857\n",
       "autumn_2010     66104\n",
       "summer_2010     58073\n",
       "Name: season, dtype: int64"
      ]
     },
     "execution_count": 351,
     "metadata": {},
     "output_type": "execute_result"
    }
   ],
   "source": [
    "df_bright['season'].value_counts()"
   ]
  },
  {
   "cell_type": "code",
   "execution_count": 404,
   "metadata": {},
   "outputs": [],
   "source": [
    "df_gowalla.to_csv('./data/temp_seasons_gowalla.csv', index=False)\n",
    "df_bright.to_csv('./data/temp_seasons_bright.csv', index=False)"
   ]
  },
  {
   "cell_type": "code",
   "execution_count": 508,
   "metadata": {},
   "outputs": [],
   "source": [
    "df_gowalla = pd.read_csv('./data/temp_seasons_gowalla.csv')\n",
    "df_bright = pd.read_csv('./data/temp_seasons_bright.csv')"
   ]
  },
  {
   "cell_type": "markdown",
   "metadata": {},
   "source": [
    "## Distance From Home"
   ]
  },
  {
   "cell_type": "code",
   "execution_count": 586,
   "metadata": {},
   "outputs": [],
   "source": [
    "def dist_km(Lat_start,Long_start,Lat_end,Long_end):\n",
    "    '''\n",
    "    Input : latitude and longitude of a point A and B\n",
    "    Output : Distance between A and B\n",
    "    \n",
    "    '''\n",
    "    if (Lat_start!=Lat_start) or (Long_start!=Long_start) or (Lat_end!=Lat_end) or (Long_end!=Long_end):\n",
    "        return np.nan\n",
    "    \n",
    "    # Calcul with the method of sinus\n",
    "    distance_km = np.arccos(np.sin(np.pi * Lat_start / 180.0) * np.sin(np.pi * Lat_end / 180.0) \\\n",
    "                          + np.cos(np.pi * Lat_start / 180.0) * np.cos(np.pi * Lat_end / 180.0) \\\n",
    "                            * np.cos(np.pi * Long_start / 180.0 - np.pi * Long_end / 180.0)) * 6371\n",
    "    return distance_km"
   ]
  },
  {
   "cell_type": "code",
   "execution_count": 585,
   "metadata": {
    "scrolled": true
   },
   "outputs": [
    {
     "name": "stderr",
     "output_type": "stream",
     "text": [
      "  8%|▊         | 268022/3484212 [00:08<01:16, 41887.78it/s]<ipython-input-584-2d62ac8ea4ab>:11: RuntimeWarning: invalid value encountered in arccos\n",
      "  distance_km = np.arccos(np.sin(np.pi * Lat_start / 180.0) * np.sin(np.pi * Lat_end / 180.0) \\\n",
      " 31%|███       | 1080101/3484212 [00:28<01:03, 38107.72it/s]\n"
     ]
    },
    {
     "ename": "KeyboardInterrupt",
     "evalue": "",
     "output_type": "error",
     "traceback": [
      "\u001b[0;31m---------------------------------------------------------------------------\u001b[0m",
      "\u001b[0;31mKeyboardInterrupt\u001b[0m                         Traceback (most recent call last)",
      "\u001b[0;32m<ipython-input-585-e99984a403e3>\u001b[0m in \u001b[0;36m<module>\u001b[0;34m\u001b[0m\n\u001b[0;32m----> 1\u001b[0;31m df_gowalla['distance_from_home'] = df_gowalla.progress_apply(lambda x: dist_km(x['user_house_lat'],\\\n\u001b[0m\u001b[1;32m      2\u001b[0m                                                                      \u001b[0mx\u001b[0m\u001b[0;34m[\u001b[0m\u001b[0;34m'user_house_long'\u001b[0m\u001b[0;34m]\u001b[0m\u001b[0;34m,\u001b[0m\u001b[0;31m\\\u001b[0m\u001b[0;34m\u001b[0m\u001b[0;34m\u001b[0m\u001b[0m\n\u001b[1;32m      3\u001b[0m                                                                      \u001b[0mx\u001b[0m\u001b[0;34m[\u001b[0m\u001b[0;34m'latitude'\u001b[0m\u001b[0;34m]\u001b[0m\u001b[0;34m,\u001b[0m\u001b[0;31m\\\u001b[0m\u001b[0;34m\u001b[0m\u001b[0;34m\u001b[0m\u001b[0m\n\u001b[1;32m      4\u001b[0m                                                                      x['longitude']), axis=1)\n",
      "\u001b[0;32m~/Documents/EPFL/2020_fall/ada_final_project/venv/lib/python3.8/site-packages/tqdm/std.py\u001b[0m in \u001b[0;36minner\u001b[0;34m(df, func, *args, **kwargs)\u001b[0m\n\u001b[1;32m    797\u001b[0m                 \u001b[0;31m# on the df using our wrapper (which provides bar updating)\u001b[0m\u001b[0;34m\u001b[0m\u001b[0;34m\u001b[0m\u001b[0;34m\u001b[0m\u001b[0m\n\u001b[1;32m    798\u001b[0m                 \u001b[0;32mtry\u001b[0m\u001b[0;34m:\u001b[0m\u001b[0;34m\u001b[0m\u001b[0;34m\u001b[0m\u001b[0m\n\u001b[0;32m--> 799\u001b[0;31m                     \u001b[0;32mreturn\u001b[0m \u001b[0mgetattr\u001b[0m\u001b[0;34m(\u001b[0m\u001b[0mdf\u001b[0m\u001b[0;34m,\u001b[0m \u001b[0mdf_function\u001b[0m\u001b[0;34m)\u001b[0m\u001b[0;34m(\u001b[0m\u001b[0mwrapper\u001b[0m\u001b[0;34m,\u001b[0m \u001b[0;34m**\u001b[0m\u001b[0mkwargs\u001b[0m\u001b[0;34m)\u001b[0m\u001b[0;34m\u001b[0m\u001b[0;34m\u001b[0m\u001b[0m\n\u001b[0m\u001b[1;32m    800\u001b[0m                 \u001b[0;32mfinally\u001b[0m\u001b[0;34m:\u001b[0m\u001b[0;34m\u001b[0m\u001b[0;34m\u001b[0m\u001b[0m\n\u001b[1;32m    801\u001b[0m                     \u001b[0mt\u001b[0m\u001b[0;34m.\u001b[0m\u001b[0mclose\u001b[0m\u001b[0;34m(\u001b[0m\u001b[0;34m)\u001b[0m\u001b[0;34m\u001b[0m\u001b[0;34m\u001b[0m\u001b[0m\n",
      "\u001b[0;32m~/Documents/EPFL/2020_fall/ada_final_project/venv/lib/python3.8/site-packages/pandas/core/frame.py\u001b[0m in \u001b[0;36mapply\u001b[0;34m(self, func, axis, raw, result_type, args, **kwds)\u001b[0m\n\u001b[1;32m   7550\u001b[0m             \u001b[0mkwds\u001b[0m\u001b[0;34m=\u001b[0m\u001b[0mkwds\u001b[0m\u001b[0;34m,\u001b[0m\u001b[0;34m\u001b[0m\u001b[0;34m\u001b[0m\u001b[0m\n\u001b[1;32m   7551\u001b[0m         )\n\u001b[0;32m-> 7552\u001b[0;31m         \u001b[0;32mreturn\u001b[0m \u001b[0mop\u001b[0m\u001b[0;34m.\u001b[0m\u001b[0mget_result\u001b[0m\u001b[0;34m(\u001b[0m\u001b[0;34m)\u001b[0m\u001b[0;34m\u001b[0m\u001b[0;34m\u001b[0m\u001b[0m\n\u001b[0m\u001b[1;32m   7553\u001b[0m \u001b[0;34m\u001b[0m\u001b[0m\n\u001b[1;32m   7554\u001b[0m     \u001b[0;32mdef\u001b[0m \u001b[0mapplymap\u001b[0m\u001b[0;34m(\u001b[0m\u001b[0mself\u001b[0m\u001b[0;34m,\u001b[0m \u001b[0mfunc\u001b[0m\u001b[0;34m)\u001b[0m \u001b[0;34m->\u001b[0m \u001b[0;34m\"DataFrame\"\u001b[0m\u001b[0;34m:\u001b[0m\u001b[0;34m\u001b[0m\u001b[0;34m\u001b[0m\u001b[0m\n",
      "\u001b[0;32m~/Documents/EPFL/2020_fall/ada_final_project/venv/lib/python3.8/site-packages/pandas/core/apply.py\u001b[0m in \u001b[0;36mget_result\u001b[0;34m(self)\u001b[0m\n\u001b[1;32m    178\u001b[0m             \u001b[0;32mreturn\u001b[0m \u001b[0mself\u001b[0m\u001b[0;34m.\u001b[0m\u001b[0mapply_raw\u001b[0m\u001b[0;34m(\u001b[0m\u001b[0;34m)\u001b[0m\u001b[0;34m\u001b[0m\u001b[0;34m\u001b[0m\u001b[0m\n\u001b[1;32m    179\u001b[0m \u001b[0;34m\u001b[0m\u001b[0m\n\u001b[0;32m--> 180\u001b[0;31m         \u001b[0;32mreturn\u001b[0m \u001b[0mself\u001b[0m\u001b[0;34m.\u001b[0m\u001b[0mapply_standard\u001b[0m\u001b[0;34m(\u001b[0m\u001b[0;34m)\u001b[0m\u001b[0;34m\u001b[0m\u001b[0;34m\u001b[0m\u001b[0m\n\u001b[0m\u001b[1;32m    181\u001b[0m \u001b[0;34m\u001b[0m\u001b[0m\n\u001b[1;32m    182\u001b[0m     \u001b[0;32mdef\u001b[0m \u001b[0mapply_empty_result\u001b[0m\u001b[0;34m(\u001b[0m\u001b[0mself\u001b[0m\u001b[0;34m)\u001b[0m\u001b[0;34m:\u001b[0m\u001b[0;34m\u001b[0m\u001b[0;34m\u001b[0m\u001b[0m\n",
      "\u001b[0;32m~/Documents/EPFL/2020_fall/ada_final_project/venv/lib/python3.8/site-packages/pandas/core/apply.py\u001b[0m in \u001b[0;36mapply_standard\u001b[0;34m(self)\u001b[0m\n\u001b[1;32m    269\u001b[0m \u001b[0;34m\u001b[0m\u001b[0m\n\u001b[1;32m    270\u001b[0m     \u001b[0;32mdef\u001b[0m \u001b[0mapply_standard\u001b[0m\u001b[0;34m(\u001b[0m\u001b[0mself\u001b[0m\u001b[0;34m)\u001b[0m\u001b[0;34m:\u001b[0m\u001b[0;34m\u001b[0m\u001b[0;34m\u001b[0m\u001b[0m\n\u001b[0;32m--> 271\u001b[0;31m         \u001b[0mresults\u001b[0m\u001b[0;34m,\u001b[0m \u001b[0mres_index\u001b[0m \u001b[0;34m=\u001b[0m \u001b[0mself\u001b[0m\u001b[0;34m.\u001b[0m\u001b[0mapply_series_generator\u001b[0m\u001b[0;34m(\u001b[0m\u001b[0;34m)\u001b[0m\u001b[0;34m\u001b[0m\u001b[0;34m\u001b[0m\u001b[0m\n\u001b[0m\u001b[1;32m    272\u001b[0m \u001b[0;34m\u001b[0m\u001b[0m\n\u001b[1;32m    273\u001b[0m         \u001b[0;31m# wrap results\u001b[0m\u001b[0;34m\u001b[0m\u001b[0;34m\u001b[0m\u001b[0;34m\u001b[0m\u001b[0m\n",
      "\u001b[0;32m~/Documents/EPFL/2020_fall/ada_final_project/venv/lib/python3.8/site-packages/pandas/core/apply.py\u001b[0m in \u001b[0;36mapply_series_generator\u001b[0;34m(self)\u001b[0m\n\u001b[1;32m    298\u001b[0m                 \u001b[0;32mfor\u001b[0m \u001b[0mi\u001b[0m\u001b[0;34m,\u001b[0m \u001b[0mv\u001b[0m \u001b[0;32min\u001b[0m \u001b[0menumerate\u001b[0m\u001b[0;34m(\u001b[0m\u001b[0mseries_gen\u001b[0m\u001b[0;34m)\u001b[0m\u001b[0;34m:\u001b[0m\u001b[0;34m\u001b[0m\u001b[0;34m\u001b[0m\u001b[0m\n\u001b[1;32m    299\u001b[0m                     \u001b[0;31m# ignore SettingWithCopy here in case the user mutates\u001b[0m\u001b[0;34m\u001b[0m\u001b[0;34m\u001b[0m\u001b[0;34m\u001b[0m\u001b[0m\n\u001b[0;32m--> 300\u001b[0;31m                     \u001b[0mresults\u001b[0m\u001b[0;34m[\u001b[0m\u001b[0mi\u001b[0m\u001b[0;34m]\u001b[0m \u001b[0;34m=\u001b[0m \u001b[0mself\u001b[0m\u001b[0;34m.\u001b[0m\u001b[0mf\u001b[0m\u001b[0;34m(\u001b[0m\u001b[0mv\u001b[0m\u001b[0;34m)\u001b[0m\u001b[0;34m\u001b[0m\u001b[0;34m\u001b[0m\u001b[0m\n\u001b[0m\u001b[1;32m    301\u001b[0m                     \u001b[0;32mif\u001b[0m \u001b[0misinstance\u001b[0m\u001b[0;34m(\u001b[0m\u001b[0mresults\u001b[0m\u001b[0;34m[\u001b[0m\u001b[0mi\u001b[0m\u001b[0;34m]\u001b[0m\u001b[0;34m,\u001b[0m \u001b[0mABCSeries\u001b[0m\u001b[0;34m)\u001b[0m\u001b[0;34m:\u001b[0m\u001b[0;34m\u001b[0m\u001b[0;34m\u001b[0m\u001b[0m\n\u001b[1;32m    302\u001b[0m                         \u001b[0;31m# If we have a view on v, we need to make a copy because\u001b[0m\u001b[0;34m\u001b[0m\u001b[0;34m\u001b[0m\u001b[0;34m\u001b[0m\u001b[0m\n",
      "\u001b[0;32m~/Documents/EPFL/2020_fall/ada_final_project/venv/lib/python3.8/site-packages/tqdm/std.py\u001b[0m in \u001b[0;36mwrapper\u001b[0;34m(*args, **kwargs)\u001b[0m\n\u001b[1;32m    792\u001b[0m                     \u001b[0;31m# take a fast or slow code path; so stop when t.total==t.n\u001b[0m\u001b[0;34m\u001b[0m\u001b[0;34m\u001b[0m\u001b[0;34m\u001b[0m\u001b[0m\n\u001b[1;32m    793\u001b[0m                     \u001b[0mt\u001b[0m\u001b[0;34m.\u001b[0m\u001b[0mupdate\u001b[0m\u001b[0;34m(\u001b[0m\u001b[0mn\u001b[0m\u001b[0;34m=\u001b[0m\u001b[0;36m1\u001b[0m \u001b[0;32mif\u001b[0m \u001b[0;32mnot\u001b[0m \u001b[0mt\u001b[0m\u001b[0;34m.\u001b[0m\u001b[0mtotal\u001b[0m \u001b[0;32mor\u001b[0m \u001b[0mt\u001b[0m\u001b[0;34m.\u001b[0m\u001b[0mn\u001b[0m \u001b[0;34m<\u001b[0m \u001b[0mt\u001b[0m\u001b[0;34m.\u001b[0m\u001b[0mtotal\u001b[0m \u001b[0;32melse\u001b[0m \u001b[0;36m0\u001b[0m\u001b[0;34m)\u001b[0m\u001b[0;34m\u001b[0m\u001b[0;34m\u001b[0m\u001b[0m\n\u001b[0;32m--> 794\u001b[0;31m                     \u001b[0;32mreturn\u001b[0m \u001b[0mfunc\u001b[0m\u001b[0;34m(\u001b[0m\u001b[0;34m*\u001b[0m\u001b[0margs\u001b[0m\u001b[0;34m,\u001b[0m \u001b[0;34m**\u001b[0m\u001b[0mkwargs\u001b[0m\u001b[0;34m)\u001b[0m\u001b[0;34m\u001b[0m\u001b[0;34m\u001b[0m\u001b[0m\n\u001b[0m\u001b[1;32m    795\u001b[0m \u001b[0;34m\u001b[0m\u001b[0m\n\u001b[1;32m    796\u001b[0m                 \u001b[0;31m# Apply the provided function (in **kwargs)\u001b[0m\u001b[0;34m\u001b[0m\u001b[0;34m\u001b[0m\u001b[0;34m\u001b[0m\u001b[0m\n",
      "\u001b[0;32m<ipython-input-585-e99984a403e3>\u001b[0m in \u001b[0;36m<lambda>\u001b[0;34m(x)\u001b[0m\n\u001b[1;32m      2\u001b[0m                                                                      \u001b[0mx\u001b[0m\u001b[0;34m[\u001b[0m\u001b[0;34m'user_house_long'\u001b[0m\u001b[0;34m]\u001b[0m\u001b[0;34m,\u001b[0m\u001b[0;31m\\\u001b[0m\u001b[0;34m\u001b[0m\u001b[0;34m\u001b[0m\u001b[0m\n\u001b[1;32m      3\u001b[0m                                                                      \u001b[0mx\u001b[0m\u001b[0;34m[\u001b[0m\u001b[0;34m'latitude'\u001b[0m\u001b[0;34m]\u001b[0m\u001b[0;34m,\u001b[0m\u001b[0;31m\\\u001b[0m\u001b[0;34m\u001b[0m\u001b[0;34m\u001b[0m\u001b[0m\n\u001b[0;32m----> 4\u001b[0;31m                                                                      x['longitude']), axis=1)\n\u001b[0m",
      "\u001b[0;32m~/Documents/EPFL/2020_fall/ada_final_project/venv/lib/python3.8/site-packages/pandas/core/series.py\u001b[0m in \u001b[0;36m__getitem__\u001b[0;34m(self, key)\u001b[0m\n\u001b[1;32m    867\u001b[0m \u001b[0;34m\u001b[0m\u001b[0m\n\u001b[1;32m    868\u001b[0m     \u001b[0;32mdef\u001b[0m \u001b[0m__getitem__\u001b[0m\u001b[0;34m(\u001b[0m\u001b[0mself\u001b[0m\u001b[0;34m,\u001b[0m \u001b[0mkey\u001b[0m\u001b[0;34m)\u001b[0m\u001b[0;34m:\u001b[0m\u001b[0;34m\u001b[0m\u001b[0;34m\u001b[0m\u001b[0m\n\u001b[0;32m--> 869\u001b[0;31m         \u001b[0mkey\u001b[0m \u001b[0;34m=\u001b[0m \u001b[0mcom\u001b[0m\u001b[0;34m.\u001b[0m\u001b[0mapply_if_callable\u001b[0m\u001b[0;34m(\u001b[0m\u001b[0mkey\u001b[0m\u001b[0;34m,\u001b[0m \u001b[0mself\u001b[0m\u001b[0;34m)\u001b[0m\u001b[0;34m\u001b[0m\u001b[0;34m\u001b[0m\u001b[0m\n\u001b[0m\u001b[1;32m    870\u001b[0m \u001b[0;34m\u001b[0m\u001b[0m\n\u001b[1;32m    871\u001b[0m         \u001b[0;32mif\u001b[0m \u001b[0mkey\u001b[0m \u001b[0;32mis\u001b[0m \u001b[0mEllipsis\u001b[0m\u001b[0;34m:\u001b[0m\u001b[0;34m\u001b[0m\u001b[0;34m\u001b[0m\u001b[0m\n",
      "\u001b[0;31mKeyboardInterrupt\u001b[0m: "
     ]
    }
   ],
   "source": [
    "df_gowalla['distance_from_home'] = df_gowalla.progress_apply(lambda x: dist_km(x['user_house_lat'],\\\n",
    "                                                                     x['user_house_long'],\\\n",
    "                                                                     x['latitude'],\\\n",
    "                                                                     x['longitude']), axis=1)"
   ]
  },
  {
   "cell_type": "code",
   "execution_count": 513,
   "metadata": {
    "scrolled": false
   },
   "outputs": [
    {
     "name": "stderr",
     "output_type": "stream",
     "text": [
      "100%|██████████| 1491726/1491726 [00:38<00:00, 38747.91it/s]\n"
     ]
    }
   ],
   "source": [
    "df_bright['distance_from_home'] = df_bright.progress_apply(lambda x: dist_km(x['user_house_lat'],\\\n",
    "                                                                     x['user_house_long'],\\\n",
    "                                                                     x['latitude'],\\\n",
    "                                                                     x['longitude']), axis=1)"
   ]
  },
  {
   "cell_type": "markdown",
   "metadata": {},
   "source": [
    "## Distance between user check-ins"
   ]
  },
  {
   "cell_type": "markdown",
   "metadata": {},
   "source": [
    "**Daily average distance. **\n",
    "- going to join the table again but with the prevous check in so I have current check in and previous check in. Can then calculate the distance between and sum those distances by day.\n",
    "- assumption is people are checking in all the time"
   ]
  },
  {
   "cell_type": "code",
   "execution_count": 565,
   "metadata": {},
   "outputs": [],
   "source": [
    "def offset(data):\n",
    "    data_reset = data.reset_index(drop=True)\n",
    "    data_offset = data_reset.set_index(np.arange(1, data_reset.shape[0]+1, 1))[['latitude','longitude']]\n",
    "    return data_reset.merge(data_offset, how='left',left_index=True, right_index=True,\\\n",
    "                            suffixes=['','_prev_check'])"
   ]
  },
  {
   "cell_type": "code",
   "execution_count": 566,
   "metadata": {},
   "outputs": [
    {
     "name": "stderr",
     "output_type": "stream",
     "text": [
      "100%|██████████| 49605/49605 [02:55<00:00, 282.64it/s]\n"
     ]
    }
   ],
   "source": [
    "df_gowalla_off = df_gowalla.sort_values('time_obj', ascending=True).groupby('user')\\\n",
    "                                                    .progress_apply(lambda group: offset(group))"
   ]
  },
  {
   "cell_type": "code",
   "execution_count": 567,
   "metadata": {},
   "outputs": [
    {
     "name": "stderr",
     "output_type": "stream",
     "text": [
      "100%|██████████| 13354/13354 [00:45<00:00, 294.36it/s]\n"
     ]
    }
   ],
   "source": [
    "df_bright_off = df_bright.sort_values('time_obj', ascending=True).groupby('user')\\\n",
    "                                                    .progress_apply(lambda group: offset(group))"
   ]
  },
  {
   "cell_type": "code",
   "execution_count": 569,
   "metadata": {},
   "outputs": [],
   "source": [
    "df_gowalla_off = df_gowalla_off.reset_index(drop=True)\n",
    "df_bright_off = df_bright_off.reset_index(drop=True)"
   ]
  },
  {
   "cell_type": "code",
   "execution_count": 587,
   "metadata": {},
   "outputs": [
    {
     "name": "stderr",
     "output_type": "stream",
     "text": [
      "  0%|          | 1/3484212 [00:02<2740:17:56,  2.83s/it]<ipython-input-586-2d62ac8ea4ab>:11: RuntimeWarning: invalid value encountered in arccos\n",
      "  distance_km = np.arccos(np.sin(np.pi * Lat_start / 180.0) * np.sin(np.pi * Lat_end / 180.0) \\\n",
      "100%|██████████| 3484212/3484212 [01:34<00:00, 36769.83it/s]\n"
     ]
    }
   ],
   "source": [
    "df_gowalla_off['distance_from_prev_check'] = df_gowalla_off.progress_apply(lambda x: dist_km(x['latitude'],\\\n",
    "                                                                     x['longitude'],\\\n",
    "                                                                     x['latitude_prev_check'],\\\n",
    "                                                                     x['longitude_prev_check']), axis=1)"
   ]
  },
  {
   "cell_type": "code",
   "execution_count": 588,
   "metadata": {},
   "outputs": [
    {
     "name": "stderr",
     "output_type": "stream",
     "text": [
      "  0%|          | 1/1491726 [00:01<511:18:26,  1.23s/it]<ipython-input-586-2d62ac8ea4ab>:11: RuntimeWarning: invalid value encountered in arccos\n",
      "  distance_km = np.arccos(np.sin(np.pi * Lat_start / 180.0) * np.sin(np.pi * Lat_end / 180.0) \\\n",
      "100%|██████████| 1491726/1491726 [00:39<00:00, 38016.96it/s]\n"
     ]
    }
   ],
   "source": [
    "df_bright_off['distance_from_prev_check'] = df_bright_off.progress_apply(lambda x: dist_km(x['latitude'],\\\n",
    "                                                                     x['longitude'],\\\n",
    "                                                                     x['latitude_prev_check'],\\\n",
    "                                                                     x['longitude_prev_check']), axis=1)"
   ]
  },
  {
   "cell_type": "markdown",
   "metadata": {},
   "source": [
    "This next section is for features that we are going to calculate over a certain period of time. We will have things like:\n",
    "- Entropy per hour\n",
    "- Average check ins per hour\n",
    "- Average distance from home per hour\n",
    "- "
   ]
  },
  {
   "cell_type": "code",
   "execution_count": 591,
   "metadata": {},
   "outputs": [],
   "source": [
    "df_gowalla_off.to_csv('./data/seasons_distances_gowalla.csv', index=False)\n",
    "df_bright_off.to_csv('./data/seasons_distances_bright.csv', index=False)"
   ]
  },
  {
   "cell_type": "code",
   "execution_count": 3,
   "metadata": {},
   "outputs": [],
   "source": [
    "df_gowalla = pd.read_csv('./data/seasons_distances_gowalla.csv')\n",
    "df_bright = pd.read_csv('./data/seasons_distances_bright.csv')"
   ]
  },
  {
   "cell_type": "markdown",
   "metadata": {},
   "source": [
    "## Add Timezones & Local Time"
   ]
  },
  {
   "cell_type": "code",
   "execution_count": 37,
   "metadata": {},
   "outputs": [],
   "source": [
    "from timezonefinder import TimezoneFinderL\n",
    "tf = TimezoneFinderL(in_memory=False)"
   ]
  },
  {
   "cell_type": "code",
   "execution_count": 54,
   "metadata": {},
   "outputs": [],
   "source": [
    "from pytz import timezone\n",
    "import pytz\n",
    "utc = pytz.utc"
   ]
  },
  {
   "cell_type": "code",
   "execution_count": 312,
   "metadata": {},
   "outputs": [],
   "source": [
    "df_bright = pd.read_csv('data/bright_totalClean.csv')"
   ]
  },
  {
   "cell_type": "code",
   "execution_count": 313,
   "metadata": {},
   "outputs": [],
   "source": [
    "#Z stands for GMT and UTC timezone it is offset from 0 by coordinated time\n",
    "\n",
    "df_gowalla['time_obj'] = pd.to_datetime(df_gowalla['checkin_time'].str.replace('[T]',':').str.replace('Z',''),\\\n",
    "                                        format='%Y-%m-%d:%H:%M:%S')\n",
    "\n",
    "df_bright['time_obj'] = pd.to_datetime(df_bright['checkin_time'].str.replace('[T]',':').str.replace('Z',''),\\\n",
    "                                        format='%Y-%m-%d:%H:%M:%S')"
   ]
  },
  {
   "cell_type": "code",
   "execution_count": 314,
   "metadata": {},
   "outputs": [
    {
     "name": "stderr",
     "output_type": "stream",
     "text": [
      "100%|██████████| 4492552/4492552 [00:55<00:00, 81263.12it/s]\n"
     ]
    }
   ],
   "source": [
    "df_bright['timezone'] = df_bright[['longitude', 'latitude']].progress_apply(lambda x:tf.timezone_at(lng=x[0],lat=x[1]),axis=1)"
   ]
  },
  {
   "cell_type": "code",
   "execution_count": 41,
   "metadata": {
    "scrolled": true
   },
   "outputs": [
    {
     "name": "stderr",
     "output_type": "stream",
     "text": [
      "100%|██████████| 3484212/3484212 [00:41<00:00, 84014.05it/s]\n"
     ]
    }
   ],
   "source": [
    "df_gowalla['timezone'] = df_gowalla[['longitude', 'latitude']].progress_apply(lambda x:tf.timezone_at(lng=x[0],lat=x[1]),axis=1)"
   ]
  },
  {
   "cell_type": "code",
   "execution_count": 106,
   "metadata": {},
   "outputs": [
    {
     "name": "stderr",
     "output_type": "stream",
     "text": [
      "100%|██████████| 3484212/3484212 [00:29<00:00, 117068.22it/s]\n"
     ]
    }
   ],
   "source": [
    "df_gowalla['utc'] = df_gowalla['time_obj'].progress_apply(timezone(utc.zone).localize)"
   ]
  },
  {
   "cell_type": "code",
   "execution_count": 315,
   "metadata": {},
   "outputs": [
    {
     "name": "stderr",
     "output_type": "stream",
     "text": [
      "100%|██████████| 4492552/4492552 [00:38<00:00, 115944.11it/s]\n"
     ]
    }
   ],
   "source": [
    "df_bright['utc'] = df_bright['time_obj'].progress_apply(timezone(utc.zone).localize)"
   ]
  },
  {
   "cell_type": "code",
   "execution_count": 107,
   "metadata": {
    "scrolled": false
   },
   "outputs": [
    {
     "name": "stderr",
     "output_type": "stream",
     "text": [
      "100%|██████████| 3484212/3484212 [01:16<00:00, 45302.08it/s]\n"
     ]
    }
   ],
   "source": [
    "df_gowalla['local_time'] = df_gowalla[['utc','timezone']].progress_apply(lambda x: x[0].astimezone(timezone(x[1])),axis=1)"
   ]
  },
  {
   "cell_type": "code",
   "execution_count": 336,
   "metadata": {
    "scrolled": true
   },
   "outputs": [
    {
     "name": "stderr",
     "output_type": "stream",
     "text": [
      "100%|██████████| 4490243/4490243 [01:47<00:00, 41598.14it/s]\n"
     ]
    }
   ],
   "source": [
    "df_bright['local_time'] = df_bright[['utc','timezone']].progress_apply(lambda x: x[0].astimezone(timezone(x[1])),axis=1)"
   ]
  },
  {
   "cell_type": "code",
   "execution_count": 108,
   "metadata": {},
   "outputs": [
    {
     "name": "stderr",
     "output_type": "stream",
     "text": [
      "100%|██████████| 3484212/3484212 [00:32<00:00, 107001.20it/s]\n"
     ]
    }
   ],
   "source": [
    "df_gowalla['local_time_grouper'] = df_gowalla['local_time'].progress_apply(lambda x: x.replace(tzinfo=None))"
   ]
  },
  {
   "cell_type": "code",
   "execution_count": 337,
   "metadata": {},
   "outputs": [
    {
     "name": "stderr",
     "output_type": "stream",
     "text": [
      "100%|██████████| 4490243/4490243 [00:46<00:00, 97237.56it/s] \n"
     ]
    }
   ],
   "source": [
    "df_bright['local_time_grouper'] = df_bright['local_time'].progress_apply(lambda x: x.replace(tzinfo=None))"
   ]
  },
  {
   "cell_type": "code",
   "execution_count": 129,
   "metadata": {},
   "outputs": [],
   "source": [
    "df_gowalla = df_gowalla.assign(\n",
    "        unique_loc=[str(x) + str(y) for x, y in zip(df_gowalla['latitude'], df_gowalla['longitude'])])"
   ]
  },
  {
   "cell_type": "code",
   "execution_count": 338,
   "metadata": {},
   "outputs": [],
   "source": [
    "df_bright = df_bright.assign(\n",
    "        unique_loc=[str(x) + str(y) for x, y in zip(df_bright['latitude'], df_bright['longitude'])])"
   ]
  },
  {
   "cell_type": "code",
   "execution_count": 311,
   "metadata": {},
   "outputs": [],
   "source": [
    "df_gowalla.to_csv('./data/seasons_distances_timezone_gowalla.csv', index=False)\n",
    "df_bright.to_csv('./data/seasons_distances_timezone_bright.csv', index=False)"
   ]
  },
  {
   "cell_type": "code",
   "execution_count": null,
   "metadata": {},
   "outputs": [],
   "source": [
    "df_gowalla = pd.read_csv('./data/seasons_distances_timezone_gowalla.csv')\n",
    "df_bright = pd.read_csv('./data/seasons_distances_timezone_bright.csv')"
   ]
  },
  {
   "cell_type": "markdown",
   "metadata": {},
   "source": [
    "## Entropy"
   ]
  },
  {
   "cell_type": "markdown",
   "metadata": {},
   "source": [
    "**Daily Movement Entropy (Average entropy of check in locations over time)**\n",
    "- average shannon entropy of check in locations for each hour of the week\n",
    "- lower the entropy, lower the variability of check ins during that time period\n",
    "- need to recreate the graphs to make sure using correct shannon entropy\n",
    "\n",
    "H(X) = -$\\sum_{i=1}^{n} P(x_i)LogP(x_i)$"
   ]
  },
  {
   "cell_type": "markdown",
   "metadata": {},
   "source": [
    "Took inspiration from this stack overflow for entropy\n",
    "https://stackoverflow.com/questions/15450192/fastest-way-to-compute-entropy-in-python"
   ]
  },
  {
   "cell_type": "code",
   "execution_count": 164,
   "metadata": {},
   "outputs": [],
   "source": [
    "def apply_entropy(data):\n",
    "    p_data = data.value_counts()\n",
    "    ent = stats.entropy(p_data, base=2)\n",
    "    return ent"
   ]
  },
  {
   "cell_type": "code",
   "execution_count": 339,
   "metadata": {},
   "outputs": [],
   "source": [
    "df_gowalla_group = df_gowalla.groupby(pd.Grouper(key=\"local_time_grouper\", freq=\"1H\"))\n",
    "df_bright_group = df_bright.groupby(pd.Grouper(key=\"local_time_grouper\", freq=\"1H\"))"
   ]
  },
  {
   "cell_type": "code",
   "execution_count": 166,
   "metadata": {},
   "outputs": [],
   "source": [
    "# df_bright_group['unique_loc'].progress_apply(apply_entropy)"
   ]
  },
  {
   "cell_type": "code",
   "execution_count": 167,
   "metadata": {},
   "outputs": [
    {
     "data": {
      "text/plain": [
       "6.281209564709819"
      ]
     },
     "execution_count": 167,
     "metadata": {},
     "output_type": "execute_result"
    }
   ],
   "source": [
    "apply_entropy(df_bright_group.get_group('2008-09-17 20:00:00')['unique_loc'])"
   ]
  },
  {
   "cell_type": "code",
   "execution_count": 168,
   "metadata": {
    "scrolled": false
   },
   "outputs": [
    {
     "data": {
      "text/plain": [
       "42.739496-78.845522            1\n",
       "29.424122-98.493628            1\n",
       "37.777855-122.423192           1\n",
       "42.205883-72.604663            1\n",
       "34.754052-77.43024100000002    1\n",
       "Name: unique_loc, dtype: int64"
      ]
     },
     "execution_count": 168,
     "metadata": {},
     "output_type": "execute_result"
    }
   ],
   "source": [
    "df_bright_group.get_group('2008-09-18 4:00:00')['unique_loc'].value_counts()"
   ]
  },
  {
   "cell_type": "code",
   "execution_count": 340,
   "metadata": {
    "scrolled": true
   },
   "outputs": [
    {
     "name": "stderr",
     "output_type": "stream",
     "text": [
      "100%|██████████| 22597/22597 [00:17<00:00, 1315.29it/s]\n"
     ]
    }
   ],
   "source": [
    "entropy_hour_gowalla = df_gowalla_group['unique_loc'].progress_apply(apply_entropy)\n",
    "entropy_hour_gowalla = entropy_hour_gowalla.to_frame().reset_index(drop=False)\n",
    "\n",
    "entropy_hour_bright = df_bright_group['unique_loc'].progress_apply(apply_entropy)\n",
    "entropy_hour_bright = entropy_hour_bright.to_frame().reset_index(drop=False)"
   ]
  },
  {
   "cell_type": "code",
   "execution_count": 170,
   "metadata": {},
   "outputs": [
    {
     "data": {
      "text/plain": [
       "<AxesSubplot:xlabel='local_time_grouper'>"
      ]
     },
     "execution_count": 170,
     "metadata": {},
     "output_type": "execute_result"
    },
    {
     "data": {
      "image/png": "[encoded data removed]",
      "text/plain": [
       "<Figure size 432x288 with 1 Axes>"
      ]
     },
     "metadata": {
      "needs_background": "light"
     },
     "output_type": "display_data"
    }
   ],
   "source": [
    "entropy_hour_gowalla.plot(x = 'local_time_grouper', y='unique_loc')"
   ]
  },
  {
   "cell_type": "code",
   "execution_count": 171,
   "metadata": {},
   "outputs": [],
   "source": [
    "#entropy_hour = entropy_hour[(entropy_hour.time_obj >= pd.Timestamp(year=2009,month=1,day=1))\\\n",
    "#                            &(entropy_hour.time_obj < pd.Timestamp(year=2010,month=1,day=1))].copy()"
   ]
  },
  {
   "cell_type": "code",
   "execution_count": 172,
   "metadata": {},
   "outputs": [],
   "source": [
    "entropy_hour_gowalla['weekday'] = entropy_hour_gowalla['local_time_grouper'].map(lambda x: x.weekday())\n",
    "entropy_hour_gowalla['hour'] = entropy_hour_gowalla['local_time_grouper'].map(lambda x: x.hour)"
   ]
  },
  {
   "cell_type": "code",
   "execution_count": 341,
   "metadata": {},
   "outputs": [],
   "source": [
    "entropy_hour_bright['weekday'] = entropy_hour_bright['local_time_grouper'].map(lambda x: x.weekday())\n",
    "entropy_hour_bright['hour'] = entropy_hour_bright['local_time_grouper'].map(lambda x: x.hour)"
   ]
  },
  {
   "cell_type": "code",
   "execution_count": 174,
   "metadata": {},
   "outputs": [
    {
     "data": {
      "text/html": [
       "<div>\n",
       "<style scoped>\n",
       "    .dataframe tbody tr th:only-of-type {\n",
       "        vertical-align: middle;\n",
       "    }\n",
       "\n",
       "    .dataframe tbody tr th {\n",
       "        vertical-align: top;\n",
       "    }\n",
       "\n",
       "    .dataframe thead th {\n",
       "        text-align: right;\n",
       "    }\n",
       "</style>\n",
       "<table border=\"1\" class=\"dataframe\">\n",
       "  <thead>\n",
       "    <tr style=\"text-align: right;\">\n",
       "      <th></th>\n",
       "      <th>local_time_grouper</th>\n",
       "      <th>unique_loc</th>\n",
       "      <th>weekday</th>\n",
       "      <th>hour</th>\n",
       "    </tr>\n",
       "  </thead>\n",
       "  <tbody>\n",
       "    <tr>\n",
       "      <th>0</th>\n",
       "      <td>2009-02-03 23:00:00</td>\n",
       "      <td>0.0</td>\n",
       "      <td>1</td>\n",
       "      <td>23</td>\n",
       "    </tr>\n",
       "    <tr>\n",
       "      <th>1</th>\n",
       "      <td>2009-02-04 00:00:00</td>\n",
       "      <td>0.0</td>\n",
       "      <td>2</td>\n",
       "      <td>0</td>\n",
       "    </tr>\n",
       "    <tr>\n",
       "      <th>2</th>\n",
       "      <td>2009-02-04 01:00:00</td>\n",
       "      <td>0.0</td>\n",
       "      <td>2</td>\n",
       "      <td>1</td>\n",
       "    </tr>\n",
       "    <tr>\n",
       "      <th>3</th>\n",
       "      <td>2009-02-04 02:00:00</td>\n",
       "      <td>0.0</td>\n",
       "      <td>2</td>\n",
       "      <td>2</td>\n",
       "    </tr>\n",
       "    <tr>\n",
       "      <th>4</th>\n",
       "      <td>2009-02-04 03:00:00</td>\n",
       "      <td>0.0</td>\n",
       "      <td>2</td>\n",
       "      <td>3</td>\n",
       "    </tr>\n",
       "  </tbody>\n",
       "</table>\n",
       "</div>"
      ],
      "text/plain": [
       "   local_time_grouper  unique_loc  weekday  hour\n",
       "0 2009-02-03 23:00:00         0.0        1    23\n",
       "1 2009-02-04 00:00:00         0.0        2     0\n",
       "2 2009-02-04 01:00:00         0.0        2     1\n",
       "3 2009-02-04 02:00:00         0.0        2     2\n",
       "4 2009-02-04 03:00:00         0.0        2     3"
      ]
     },
     "execution_count": 174,
     "metadata": {},
     "output_type": "execute_result"
    }
   ],
   "source": [
    "entropy_hour_gowalla.head()"
   ]
  },
  {
   "cell_type": "code",
   "execution_count": 175,
   "metadata": {},
   "outputs": [],
   "source": [
    "#entropy_hour = entropy_hour[entropy_hour['unique_loc'] != 0]"
   ]
  },
  {
   "cell_type": "code",
   "execution_count": 176,
   "metadata": {},
   "outputs": [
    {
     "name": "stderr",
     "output_type": "stream",
     "text": [
      "<ipython-input-176-f47f27afc1ed>:1: FutureWarning: DataFrame.mean and DataFrame.median with numeric_only=None will include datetime64 and datetime64tz columns in a future version.\n",
      "  entropy_hour_gowalla.groupby(['weekday','hour']).get_group((4,10)).mean()\n"
     ]
    },
    {
     "data": {
      "text/plain": [
       "unique_loc     5.285425\n",
       "weekday        4.000000\n",
       "hour          10.000000\n",
       "dtype: float64"
      ]
     },
     "execution_count": 176,
     "metadata": {},
     "output_type": "execute_result"
    }
   ],
   "source": [
    "entropy_hour_gowalla.groupby(['weekday','hour']).get_group((4,10)).mean()"
   ]
  },
  {
   "cell_type": "code",
   "execution_count": 177,
   "metadata": {},
   "outputs": [],
   "source": [
    "entropy_week_hour_gowalla = entropy_hour_gowalla.groupby(['weekday','hour']).mean()\n",
    "entropy_week_hour_gowalla = entropy_week_hour_gowalla.reset_index(drop=False)"
   ]
  },
  {
   "cell_type": "code",
   "execution_count": 342,
   "metadata": {},
   "outputs": [],
   "source": [
    "entropy_week_hour_bright = entropy_hour_bright.groupby(['weekday','hour']).mean()\n",
    "entropy_week_hour_bright = entropy_week_hour_bright.reset_index(drop=False)"
   ]
  },
  {
   "cell_type": "code",
   "execution_count": 179,
   "metadata": {},
   "outputs": [],
   "source": [
    "entropy_week_hour_gowalla['graph_date'] = entropy_week_hour_gowalla.apply(lambda x: \\\n",
    "                                                          pd.Timestamp(year=2020,month=6,day=int(x['weekday']+1),\\\n",
    "                                                                       hour=int(x['hour'])),axis=1)"
   ]
  },
  {
   "cell_type": "code",
   "execution_count": 343,
   "metadata": {},
   "outputs": [],
   "source": [
    "entropy_week_hour_bright['graph_date'] = entropy_week_hour_bright.apply(lambda x: \\\n",
    "                                                          pd.Timestamp(year=2020,month=6,day=int(x['weekday']+1),\\\n",
    "                                                                       hour=int(x['hour'])),axis=1)"
   ]
  },
  {
   "cell_type": "code",
   "execution_count": 181,
   "metadata": {
    "scrolled": true
   },
   "outputs": [
    {
     "data": {
      "text/html": [
       "<div>\n",
       "<style scoped>\n",
       "    .dataframe tbody tr th:only-of-type {\n",
       "        vertical-align: middle;\n",
       "    }\n",
       "\n",
       "    .dataframe tbody tr th {\n",
       "        vertical-align: top;\n",
       "    }\n",
       "\n",
       "    .dataframe thead th {\n",
       "        text-align: right;\n",
       "    }\n",
       "</style>\n",
       "<table border=\"1\" class=\"dataframe\">\n",
       "  <thead>\n",
       "    <tr style=\"text-align: right;\">\n",
       "      <th></th>\n",
       "      <th>weekday</th>\n",
       "      <th>hour</th>\n",
       "      <th>unique_loc</th>\n",
       "      <th>graph_date</th>\n",
       "    </tr>\n",
       "  </thead>\n",
       "  <tbody>\n",
       "    <tr>\n",
       "      <th>0</th>\n",
       "      <td>0</td>\n",
       "      <td>0</td>\n",
       "      <td>3.601481</td>\n",
       "      <td>2020-06-01 00:00:00</td>\n",
       "    </tr>\n",
       "    <tr>\n",
       "      <th>1</th>\n",
       "      <td>0</td>\n",
       "      <td>1</td>\n",
       "      <td>2.865031</td>\n",
       "      <td>2020-06-01 01:00:00</td>\n",
       "    </tr>\n",
       "    <tr>\n",
       "      <th>2</th>\n",
       "      <td>0</td>\n",
       "      <td>2</td>\n",
       "      <td>2.402634</td>\n",
       "      <td>2020-06-01 02:00:00</td>\n",
       "    </tr>\n",
       "    <tr>\n",
       "      <th>3</th>\n",
       "      <td>0</td>\n",
       "      <td>3</td>\n",
       "      <td>1.773398</td>\n",
       "      <td>2020-06-01 03:00:00</td>\n",
       "    </tr>\n",
       "    <tr>\n",
       "      <th>4</th>\n",
       "      <td>0</td>\n",
       "      <td>4</td>\n",
       "      <td>2.088523</td>\n",
       "      <td>2020-06-01 04:00:00</td>\n",
       "    </tr>\n",
       "    <tr>\n",
       "      <th>...</th>\n",
       "      <td>...</td>\n",
       "      <td>...</td>\n",
       "      <td>...</td>\n",
       "      <td>...</td>\n",
       "    </tr>\n",
       "    <tr>\n",
       "      <th>163</th>\n",
       "      <td>6</td>\n",
       "      <td>19</td>\n",
       "      <td>5.655092</td>\n",
       "      <td>2020-06-07 19:00:00</td>\n",
       "    </tr>\n",
       "    <tr>\n",
       "      <th>164</th>\n",
       "      <td>6</td>\n",
       "      <td>20</td>\n",
       "      <td>5.300824</td>\n",
       "      <td>2020-06-07 20:00:00</td>\n",
       "    </tr>\n",
       "    <tr>\n",
       "      <th>165</th>\n",
       "      <td>6</td>\n",
       "      <td>21</td>\n",
       "      <td>4.953262</td>\n",
       "      <td>2020-06-07 21:00:00</td>\n",
       "    </tr>\n",
       "    <tr>\n",
       "      <th>166</th>\n",
       "      <td>6</td>\n",
       "      <td>22</td>\n",
       "      <td>4.476978</td>\n",
       "      <td>2020-06-07 22:00:00</td>\n",
       "    </tr>\n",
       "    <tr>\n",
       "      <th>167</th>\n",
       "      <td>6</td>\n",
       "      <td>23</td>\n",
       "      <td>4.011777</td>\n",
       "      <td>2020-06-07 23:00:00</td>\n",
       "    </tr>\n",
       "  </tbody>\n",
       "</table>\n",
       "<p>168 rows × 4 columns</p>\n",
       "</div>"
      ],
      "text/plain": [
       "     weekday  hour  unique_loc          graph_date\n",
       "0          0     0    3.601481 2020-06-01 00:00:00\n",
       "1          0     1    2.865031 2020-06-01 01:00:00\n",
       "2          0     2    2.402634 2020-06-01 02:00:00\n",
       "3          0     3    1.773398 2020-06-01 03:00:00\n",
       "4          0     4    2.088523 2020-06-01 04:00:00\n",
       "..       ...   ...         ...                 ...\n",
       "163        6    19    5.655092 2020-06-07 19:00:00\n",
       "164        6    20    5.300824 2020-06-07 20:00:00\n",
       "165        6    21    4.953262 2020-06-07 21:00:00\n",
       "166        6    22    4.476978 2020-06-07 22:00:00\n",
       "167        6    23    4.011777 2020-06-07 23:00:00\n",
       "\n",
       "[168 rows x 4 columns]"
      ]
     },
     "execution_count": 181,
     "metadata": {},
     "output_type": "execute_result"
    }
   ],
   "source": [
    "entropy_week_hour_gowalla"
   ]
  },
  {
   "cell_type": "code",
   "execution_count": 182,
   "metadata": {},
   "outputs": [
    {
     "data": {
      "text/html": [
       "<div>\n",
       "<style scoped>\n",
       "    .dataframe tbody tr th:only-of-type {\n",
       "        vertical-align: middle;\n",
       "    }\n",
       "\n",
       "    .dataframe tbody tr th {\n",
       "        vertical-align: top;\n",
       "    }\n",
       "\n",
       "    .dataframe thead th {\n",
       "        text-align: right;\n",
       "    }\n",
       "</style>\n",
       "<table border=\"1\" class=\"dataframe\">\n",
       "  <thead>\n",
       "    <tr style=\"text-align: right;\">\n",
       "      <th></th>\n",
       "      <th>weekday</th>\n",
       "      <th>hour</th>\n",
       "      <th>unique_loc</th>\n",
       "      <th>graph_date</th>\n",
       "    </tr>\n",
       "  </thead>\n",
       "  <tbody>\n",
       "    <tr>\n",
       "      <th>0</th>\n",
       "      <td>0</td>\n",
       "      <td>0</td>\n",
       "      <td>4.378599</td>\n",
       "      <td>2020-06-01 00:00:00</td>\n",
       "    </tr>\n",
       "    <tr>\n",
       "      <th>1</th>\n",
       "      <td>0</td>\n",
       "      <td>1</td>\n",
       "      <td>3.806590</td>\n",
       "      <td>2020-06-01 01:00:00</td>\n",
       "    </tr>\n",
       "    <tr>\n",
       "      <th>2</th>\n",
       "      <td>0</td>\n",
       "      <td>2</td>\n",
       "      <td>3.020734</td>\n",
       "      <td>2020-06-01 02:00:00</td>\n",
       "    </tr>\n",
       "    <tr>\n",
       "      <th>3</th>\n",
       "      <td>0</td>\n",
       "      <td>3</td>\n",
       "      <td>2.411321</td>\n",
       "      <td>2020-06-01 03:00:00</td>\n",
       "    </tr>\n",
       "    <tr>\n",
       "      <th>4</th>\n",
       "      <td>0</td>\n",
       "      <td>4</td>\n",
       "      <td>2.131414</td>\n",
       "      <td>2020-06-01 04:00:00</td>\n",
       "    </tr>\n",
       "    <tr>\n",
       "      <th>...</th>\n",
       "      <td>...</td>\n",
       "      <td>...</td>\n",
       "      <td>...</td>\n",
       "      <td>...</td>\n",
       "    </tr>\n",
       "    <tr>\n",
       "      <th>163</th>\n",
       "      <td>6</td>\n",
       "      <td>19</td>\n",
       "      <td>5.631946</td>\n",
       "      <td>2020-06-07 19:00:00</td>\n",
       "    </tr>\n",
       "    <tr>\n",
       "      <th>164</th>\n",
       "      <td>6</td>\n",
       "      <td>20</td>\n",
       "      <td>5.515212</td>\n",
       "      <td>2020-06-07 20:00:00</td>\n",
       "    </tr>\n",
       "    <tr>\n",
       "      <th>165</th>\n",
       "      <td>6</td>\n",
       "      <td>21</td>\n",
       "      <td>5.333050</td>\n",
       "      <td>2020-06-07 21:00:00</td>\n",
       "    </tr>\n",
       "    <tr>\n",
       "      <th>166</th>\n",
       "      <td>6</td>\n",
       "      <td>22</td>\n",
       "      <td>5.110335</td>\n",
       "      <td>2020-06-07 22:00:00</td>\n",
       "    </tr>\n",
       "    <tr>\n",
       "      <th>167</th>\n",
       "      <td>6</td>\n",
       "      <td>23</td>\n",
       "      <td>4.809826</td>\n",
       "      <td>2020-06-07 23:00:00</td>\n",
       "    </tr>\n",
       "  </tbody>\n",
       "</table>\n",
       "<p>168 rows × 4 columns</p>\n",
       "</div>"
      ],
      "text/plain": [
       "     weekday  hour  unique_loc          graph_date\n",
       "0          0     0    4.378599 2020-06-01 00:00:00\n",
       "1          0     1    3.806590 2020-06-01 01:00:00\n",
       "2          0     2    3.020734 2020-06-01 02:00:00\n",
       "3          0     3    2.411321 2020-06-01 03:00:00\n",
       "4          0     4    2.131414 2020-06-01 04:00:00\n",
       "..       ...   ...         ...                 ...\n",
       "163        6    19    5.631946 2020-06-07 19:00:00\n",
       "164        6    20    5.515212 2020-06-07 20:00:00\n",
       "165        6    21    5.333050 2020-06-07 21:00:00\n",
       "166        6    22    5.110335 2020-06-07 22:00:00\n",
       "167        6    23    4.809826 2020-06-07 23:00:00\n",
       "\n",
       "[168 rows x 4 columns]"
      ]
     },
     "execution_count": 182,
     "metadata": {},
     "output_type": "execute_result"
    }
   ],
   "source": [
    "entropy_week_hour_bright"
   ]
  },
  {
   "cell_type": "code",
   "execution_count": 183,
   "metadata": {
    "scrolled": false
   },
   "outputs": [
    {
     "data": {
      "image/png": "[encoded data removed]",
      "text/plain": [
       "<Figure size 720x360 with 1 Axes>"
      ]
     },
     "metadata": {
      "needs_background": "light"
     },
     "output_type": "display_data"
    }
   ],
   "source": [
    "import matplotlib.dates as mdates\n",
    "\n",
    "fig, ax1 = plt.subplots(figsize=(10, 5))\n",
    "ax1.set(xlabel='', ylabel='Avg Entropy')\n",
    "ax1.plot(entropy_week_hour_gowalla.graph_date, entropy_week_hour_gowalla['unique_loc'], color='g', marker = '.')\n",
    "#ax1.plot(entropy_week_hour.graph_date, entropy_week_hour['unique_loc'], color='g', marker = '.')\n",
    "#ax1.plot(entropy_hour.index, df_bright.Registered, color='b')\n",
    "\n",
    "ax1.xaxis.set(\n",
    "    major_locator=mdates.DayLocator(),\n",
    "    major_formatter=mdates.DateFormatter(\"\\n\\n%A\"),\n",
    "    minor_locator=mdates.HourLocator((6 ,12, 18)),\n",
    "    minor_formatter=mdates.DateFormatter(\"%H\"),\n",
    ")\n",
    "plt.show()"
   ]
  },
  {
   "cell_type": "code",
   "execution_count": 344,
   "metadata": {},
   "outputs": [
    {
     "data": {
      "image/png": "[encoded data removed]",
      "text/plain": [
       "<Figure size 720x360 with 1 Axes>"
      ]
     },
     "metadata": {
      "needs_background": "light"
     },
     "output_type": "display_data"
    }
   ],
   "source": [
    "import matplotlib.dates as mdates\n",
    "\n",
    "fig, ax1 = plt.subplots(figsize=(10, 5))\n",
    "ax1.set(xlabel='', ylabel='Avg Entropy')\n",
    "ax1.plot(entropy_week_hour_bright.graph_date, entropy_week_hour_bright['unique_loc'], color='g', marker = '.')\n",
    "#ax1.plot(entropy_week_hour.graph_date, entropy_week_hour['unique_loc'], color='g', marker = '.')\n",
    "#ax1.plot(entropy_hour.index, df_bright.Registered, color='b')\n",
    "\n",
    "ax1.xaxis.set(\n",
    "    major_locator=mdates.DayLocator(),\n",
    "    major_formatter=mdates.DateFormatter(\"\\n\\n%A\"),\n",
    "    minor_locator=mdates.HourLocator((6 ,12, 18)),\n",
    "    minor_formatter=mdates.DateFormatter(\"%H\"),\n",
    ")\n",
    "plt.show()"
   ]
  },
  {
   "cell_type": "markdown",
   "metadata": {},
   "source": [
    "## Trial 2"
   ]
  },
  {
   "cell_type": "markdown",
   "metadata": {},
   "source": [
    "Maybe I need a certain threshold of time that someone has been active? If they just started and we only have data over a month or two it is likely their entropy will be very low as they may just have 1 or two places per week..."
   ]
  },
  {
   "cell_type": "code",
   "execution_count": 345,
   "metadata": {},
   "outputs": [],
   "source": [
    "df_bright2 = df_bright.copy()"
   ]
  },
  {
   "cell_type": "code",
   "execution_count": 346,
   "metadata": {},
   "outputs": [],
   "source": [
    "df_bright2['weekday'] = df_bright2['local_time_grouper'].map(lambda x: x.weekday())\n",
    "df_bright2['hour'] = df_bright2['local_time_grouper'].map(lambda x: x.hour)"
   ]
  },
  {
   "cell_type": "code",
   "execution_count": 347,
   "metadata": {},
   "outputs": [],
   "source": [
    "df_bright2_group = df_bright2.groupby(['user','weekday','hour'])\n",
    "#df_bright_group = df_bright.groupby(pd.Grouper(key=\"local_time_grouper\", freq=\"1H\"))"
   ]
  },
  {
   "cell_type": "code",
   "execution_count": 348,
   "metadata": {},
   "outputs": [
    {
     "name": "stderr",
     "output_type": "stream",
     "text": [
      "100%|██████████| 1287125/1287125 [11:43<00:00, 1828.47it/s]\n"
     ]
    }
   ],
   "source": [
    "entropy_bright2 = df_bright2_group['unique_loc'].progress_apply(apply_entropy)\n",
    "entropy_bright2 = entropy_bright2.to_frame().reset_index(drop=False)"
   ]
  },
  {
   "cell_type": "code",
   "execution_count": 355,
   "metadata": {},
   "outputs": [],
   "source": [
    "entropy_bright2 = entropy_bright2[entropy_bright2['unique_loc'] > 0]"
   ]
  },
  {
   "cell_type": "code",
   "execution_count": 356,
   "metadata": {},
   "outputs": [
    {
     "data": {
      "text/plain": [
       "<AxesSubplot:>"
      ]
     },
     "execution_count": 356,
     "metadata": {},
     "output_type": "execute_result"
    },
    {
     "data": {
      "image/png": "[encoded data removed]",
      "text/plain": [
       "<Figure size 432x288 with 1 Axes>"
      ]
     },
     "metadata": {
      "needs_background": "light"
     },
     "output_type": "display_data"
    }
   ],
   "source": [
    "entropy_bright2[entropy_bright2['user']==5]['unique_loc'].plot()"
   ]
  },
  {
   "cell_type": "code",
   "execution_count": 357,
   "metadata": {},
   "outputs": [],
   "source": [
    "entropy_mean_bright2 = entropy_bright2.drop('user', axis=1).groupby(['weekday','hour']).mean().reset_index(drop=False)"
   ]
  },
  {
   "cell_type": "code",
   "execution_count": 358,
   "metadata": {},
   "outputs": [],
   "source": [
    "entropy_mean_bright2['graph_date'] = entropy_mean_bright2.apply(lambda x: \\\n",
    "                                                          pd.Timestamp(year=2020,month=6,day=int(x['weekday']+1),\\\n",
    "                                                                       hour=int(x['hour'])),axis=1)"
   ]
  },
  {
   "cell_type": "code",
   "execution_count": 359,
   "metadata": {},
   "outputs": [
    {
     "data": {
      "text/html": [
       "<div>\n",
       "<style scoped>\n",
       "    .dataframe tbody tr th:only-of-type {\n",
       "        vertical-align: middle;\n",
       "    }\n",
       "\n",
       "    .dataframe tbody tr th {\n",
       "        vertical-align: top;\n",
       "    }\n",
       "\n",
       "    .dataframe thead th {\n",
       "        text-align: right;\n",
       "    }\n",
       "</style>\n",
       "<table border=\"1\" class=\"dataframe\">\n",
       "  <thead>\n",
       "    <tr style=\"text-align: right;\">\n",
       "      <th></th>\n",
       "      <th>weekday</th>\n",
       "      <th>hour</th>\n",
       "      <th>unique_loc</th>\n",
       "      <th>graph_date</th>\n",
       "    </tr>\n",
       "  </thead>\n",
       "  <tbody>\n",
       "    <tr>\n",
       "      <th>0</th>\n",
       "      <td>0</td>\n",
       "      <td>0</td>\n",
       "      <td>1.263140</td>\n",
       "      <td>2020-06-01 00:00:00</td>\n",
       "    </tr>\n",
       "    <tr>\n",
       "      <th>1</th>\n",
       "      <td>0</td>\n",
       "      <td>1</td>\n",
       "      <td>1.224780</td>\n",
       "      <td>2020-06-01 01:00:00</td>\n",
       "    </tr>\n",
       "    <tr>\n",
       "      <th>2</th>\n",
       "      <td>0</td>\n",
       "      <td>2</td>\n",
       "      <td>1.173467</td>\n",
       "      <td>2020-06-01 02:00:00</td>\n",
       "    </tr>\n",
       "    <tr>\n",
       "      <th>3</th>\n",
       "      <td>0</td>\n",
       "      <td>3</td>\n",
       "      <td>1.159356</td>\n",
       "      <td>2020-06-01 03:00:00</td>\n",
       "    </tr>\n",
       "    <tr>\n",
       "      <th>4</th>\n",
       "      <td>0</td>\n",
       "      <td>4</td>\n",
       "      <td>1.154171</td>\n",
       "      <td>2020-06-01 04:00:00</td>\n",
       "    </tr>\n",
       "    <tr>\n",
       "      <th>...</th>\n",
       "      <td>...</td>\n",
       "      <td>...</td>\n",
       "      <td>...</td>\n",
       "      <td>...</td>\n",
       "    </tr>\n",
       "    <tr>\n",
       "      <th>163</th>\n",
       "      <td>6</td>\n",
       "      <td>19</td>\n",
       "      <td>1.567093</td>\n",
       "      <td>2020-06-07 19:00:00</td>\n",
       "    </tr>\n",
       "    <tr>\n",
       "      <th>164</th>\n",
       "      <td>6</td>\n",
       "      <td>20</td>\n",
       "      <td>1.513274</td>\n",
       "      <td>2020-06-07 20:00:00</td>\n",
       "    </tr>\n",
       "    <tr>\n",
       "      <th>165</th>\n",
       "      <td>6</td>\n",
       "      <td>21</td>\n",
       "      <td>1.455613</td>\n",
       "      <td>2020-06-07 21:00:00</td>\n",
       "    </tr>\n",
       "    <tr>\n",
       "      <th>166</th>\n",
       "      <td>6</td>\n",
       "      <td>22</td>\n",
       "      <td>1.384949</td>\n",
       "      <td>2020-06-07 22:00:00</td>\n",
       "    </tr>\n",
       "    <tr>\n",
       "      <th>167</th>\n",
       "      <td>6</td>\n",
       "      <td>23</td>\n",
       "      <td>1.321791</td>\n",
       "      <td>2020-06-07 23:00:00</td>\n",
       "    </tr>\n",
       "  </tbody>\n",
       "</table>\n",
       "<p>168 rows × 4 columns</p>\n",
       "</div>"
      ],
      "text/plain": [
       "     weekday  hour  unique_loc          graph_date\n",
       "0          0     0    1.263140 2020-06-01 00:00:00\n",
       "1          0     1    1.224780 2020-06-01 01:00:00\n",
       "2          0     2    1.173467 2020-06-01 02:00:00\n",
       "3          0     3    1.159356 2020-06-01 03:00:00\n",
       "4          0     4    1.154171 2020-06-01 04:00:00\n",
       "..       ...   ...         ...                 ...\n",
       "163        6    19    1.567093 2020-06-07 19:00:00\n",
       "164        6    20    1.513274 2020-06-07 20:00:00\n",
       "165        6    21    1.455613 2020-06-07 21:00:00\n",
       "166        6    22    1.384949 2020-06-07 22:00:00\n",
       "167        6    23    1.321791 2020-06-07 23:00:00\n",
       "\n",
       "[168 rows x 4 columns]"
      ]
     },
     "execution_count": 359,
     "metadata": {},
     "output_type": "execute_result"
    }
   ],
   "source": [
    "entropy_mean_bright2"
   ]
  },
  {
   "cell_type": "code",
   "execution_count": 360,
   "metadata": {},
   "outputs": [
    {
     "data": {
      "image/png": "[encoded data removed]",
      "text/plain": [
       "<Figure size 720x360 with 1 Axes>"
      ]
     },
     "metadata": {
      "needs_background": "light"
     },
     "output_type": "display_data"
    }
   ],
   "source": [
    "fig, ax1 = plt.subplots(figsize=(10, 5))\n",
    "ax1.set(xlabel='', ylabel='Avg Entropy')\n",
    "ax1.plot(entropy_mean_bright2.graph_date, entropy_mean_bright2['unique_loc'], color='g', marker = '.')\n",
    "#ax1.plot(entropy_week_hour.graph_date, entropy_week_hour['unique_loc'], color='g', marker = '.')\n",
    "#ax1.plot(entropy_hour.index, df_bright.Registered, color='b')\n",
    "\n",
    "ax1.xaxis.set(\n",
    "    major_locator=mdates.DayLocator(),\n",
    "    major_formatter=mdates.DateFormatter(\"\\n\\n%A\"),\n",
    "    minor_locator=mdates.HourLocator((6 ,12, 18)),\n",
    "    minor_formatter=mdates.DateFormatter(\"%H\"),\n",
    ")\n",
    "plt.show()"
   ]
  },
  {
   "cell_type": "markdown",
   "metadata": {},
   "source": [
    "## Trial 3"
   ]
  },
  {
   "cell_type": "code",
   "execution_count": 240,
   "metadata": {},
   "outputs": [],
   "source": [
    "df_bright3 = df_bright.copy()"
   ]
  },
  {
   "cell_type": "code",
   "execution_count": 241,
   "metadata": {},
   "outputs": [],
   "source": [
    "df_bright3['weekday'] = df_bright3['local_time_grouper'].map(lambda x: x.weekday())\n",
    "df_bright3['hour'] = df_bright3['local_time_grouper'].map(lambda x: x.hour)\n",
    "\n",
    "df_bright3_group = df_bright3.groupby(['unique_loc','weekday','hour'])"
   ]
  },
  {
   "cell_type": "code",
   "execution_count": 260,
   "metadata": {},
   "outputs": [
    {
     "name": "stdout",
     "output_type": "stream",
     "text": [
      "('13.444304144.793731', 4, 3)\n"
     ]
    }
   ],
   "source": [
    "for name, data in df_bright3_group:\n",
    "    print(name)\n",
    "    break"
   ]
  },
  {
   "cell_type": "code",
   "execution_count": 249,
   "metadata": {},
   "outputs": [
    {
     "name": "stderr",
     "output_type": "stream",
     "text": [
      "100%|██████████| 758806/758806 [05:27<00:00, 2316.12it/s]\n"
     ]
    }
   ],
   "source": [
    "entropy_bright3 = df_bright3_group['user'].progress_apply(apply_entropy)\n",
    "entropy_bright3 = entropy_bright3.to_frame().reset_index(drop=False)"
   ]
  },
  {
   "cell_type": "code",
   "execution_count": 255,
   "metadata": {},
   "outputs": [],
   "source": [
    "#entropy_bright3 = entropy_bright3[entropy_bright3['user'] > 0]"
   ]
  },
  {
   "cell_type": "code",
   "execution_count": 256,
   "metadata": {},
   "outputs": [
    {
     "data": {
      "text/html": [
       "<div>\n",
       "<style scoped>\n",
       "    .dataframe tbody tr th:only-of-type {\n",
       "        vertical-align: middle;\n",
       "    }\n",
       "\n",
       "    .dataframe tbody tr th {\n",
       "        vertical-align: top;\n",
       "    }\n",
       "\n",
       "    .dataframe thead th {\n",
       "        text-align: right;\n",
       "    }\n",
       "</style>\n",
       "<table border=\"1\" class=\"dataframe\">\n",
       "  <thead>\n",
       "    <tr style=\"text-align: right;\">\n",
       "      <th></th>\n",
       "      <th>unique_loc</th>\n",
       "      <th>weekday</th>\n",
       "      <th>hour</th>\n",
       "      <th>user</th>\n",
       "    </tr>\n",
       "  </thead>\n",
       "  <tbody>\n",
       "    <tr>\n",
       "      <th>465</th>\n",
       "      <td>18.248288-66.499894</td>\n",
       "      <td>2</td>\n",
       "      <td>12</td>\n",
       "      <td>1.000000</td>\n",
       "    </tr>\n",
       "    <tr>\n",
       "      <th>1047</th>\n",
       "      <td>18.36938-66.05388</td>\n",
       "      <td>0</td>\n",
       "      <td>12</td>\n",
       "      <td>1.000000</td>\n",
       "    </tr>\n",
       "    <tr>\n",
       "      <th>1130</th>\n",
       "      <td>18.380782-65.957387</td>\n",
       "      <td>3</td>\n",
       "      <td>11</td>\n",
       "      <td>0.918296</td>\n",
       "    </tr>\n",
       "    <tr>\n",
       "      <th>1421</th>\n",
       "      <td>18.418091-65.96893399999999</td>\n",
       "      <td>2</td>\n",
       "      <td>22</td>\n",
       "      <td>1.000000</td>\n",
       "    </tr>\n",
       "    <tr>\n",
       "      <th>1825</th>\n",
       "      <td>18.466334-66.105722</td>\n",
       "      <td>3</td>\n",
       "      <td>11</td>\n",
       "      <td>1.000000</td>\n",
       "    </tr>\n",
       "  </tbody>\n",
       "</table>\n",
       "</div>"
      ],
      "text/plain": [
       "                       unique_loc  weekday  hour      user\n",
       "465           18.248288-66.499894        2    12  1.000000\n",
       "1047            18.36938-66.05388        0    12  1.000000\n",
       "1130          18.380782-65.957387        3    11  0.918296\n",
       "1421  18.418091-65.96893399999999        2    22  1.000000\n",
       "1825          18.466334-66.105722        3    11  1.000000"
      ]
     },
     "execution_count": 256,
     "metadata": {},
     "output_type": "execute_result"
    }
   ],
   "source": [
    "entropy_bright3.head()"
   ]
  },
  {
   "cell_type": "code",
   "execution_count": 257,
   "metadata": {},
   "outputs": [],
   "source": [
    "entropy_mean_bright3 = entropy_bright3.drop('unique_loc', axis=1).groupby(['weekday','hour']).mean().reset_index(drop=False)"
   ]
  },
  {
   "cell_type": "code",
   "execution_count": 258,
   "metadata": {},
   "outputs": [],
   "source": [
    "entropy_mean_bright3['graph_date'] = entropy_mean_bright3.apply(lambda x: \\\n",
    "                                                          pd.Timestamp(year=2020,month=6,day=int(x['weekday']+1),\\\n",
    "                                                                       hour=int(x['hour'])),axis=1)"
   ]
  },
  {
   "cell_type": "code",
   "execution_count": 259,
   "metadata": {},
   "outputs": [
    {
     "data": {
      "image/png": "[encoded data removed]",
      "text/plain": [
       "<Figure size 720x360 with 1 Axes>"
      ]
     },
     "metadata": {
      "needs_background": "light"
     },
     "output_type": "display_data"
    }
   ],
   "source": [
    "fig, ax1 = plt.subplots(figsize=(10, 5))\n",
    "ax1.set(xlabel='', ylabel='Avg Entropy')\n",
    "ax1.plot(entropy_mean_bright3.graph_date, entropy_mean_bright3['user'], color='g', marker = '.')\n",
    "#ax1.plot(entropy_week_hour.graph_date, entropy_week_hour['unique_loc'], color='g', marker = '.')\n",
    "#ax1.plot(entropy_hour.index, df_bright.Registered, color='b')\n",
    "\n",
    "ax1.xaxis.set(\n",
    "    major_locator=mdates.DayLocator(),\n",
    "    major_formatter=mdates.DateFormatter(\"\\n\\n%A\"),\n",
    "    minor_locator=mdates.HourLocator((6 ,12, 18)),\n",
    "    minor_formatter=mdates.DateFormatter(\"%H\"),\n",
    ")\n",
    "plt.show()"
   ]
  },
  {
   "cell_type": "code",
   "execution_count": null,
   "metadata": {},
   "outputs": [],
   "source": []
  }
 ],
 "metadata": {
  "kernelspec": {
   "display_name": "Python 3",
   "language": "python",
   "name": "python3"
  },
  "language_info": {
   "codemirror_mode": {
    "name": "ipython",
    "version": 3
   },
   "file_extension": ".py",
   "mimetype": "text/x-python",
   "name": "python",
   "nbconvert_exporter": "python",
   "pygments_lexer": "ipython3",
   "version": "3.8.5"
  }
 },
 "nbformat": 4,
 "nbformat_minor": 4
}
